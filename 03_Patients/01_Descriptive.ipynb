{
 "cells": [
  {
   "cell_type": "code",
   "execution_count": 1,
   "id": "08b190b1-953f-45e8-8a7b-38eecf1944d9",
   "metadata": {},
   "outputs": [],
   "source": [
    "import os\n",
    "import numpy as np\n",
    "import matplotlib.pyplot as plt\n",
    "import seaborn as sns\n",
    "from pandas import read_csv, concat"
   ]
  },
  {
   "cell_type": "markdown",
   "id": "8d3c31c3-2411-4bbd-8668-7946d5e59a6f",
   "metadata": {},
   "source": [
    "## Section 1: Descriptive results"
   ]
  },
  {
   "cell_type": "code",
   "execution_count": 2,
   "id": "b49d64f4-e37b-4390-a78e-5a970220946e",
   "metadata": {},
   "outputs": [],
   "source": [
    "## Load data.\n",
    "data = read_csv(os.path.join('data', 'ccnp.csv'))"
   ]
  },
  {
   "cell_type": "markdown",
   "id": "72817bca-5416-4fe1-8ba8-33ed60f6a3e7",
   "metadata": {},
   "source": [
    "### 1.1 Failure rate"
   ]
  },
  {
   "cell_type": "code",
   "execution_count": 3,
   "id": "f8c81e68-66b5-446e-830a-fe0aaac265be",
   "metadata": {},
   "outputs": [
    {
     "data": {
      "text/html": [
       "<div>\n",
       "<style scoped>\n",
       "    .dataframe tbody tr th:only-of-type {\n",
       "        vertical-align: middle;\n",
       "    }\n",
       "\n",
       "    .dataframe tbody tr th {\n",
       "        vertical-align: top;\n",
       "    }\n",
       "\n",
       "    .dataframe thead th {\n",
       "        text-align: right;\n",
       "    }\n",
       "</style>\n",
       "<table border=\"1\" class=\"dataframe\">\n",
       "  <thead>\n",
       "    <tr style=\"text-align: right;\">\n",
       "      <th></th>\n",
       "      <th>K</th>\n",
       "      <th>N</th>\n",
       "      <th>%</th>\n",
       "    </tr>\n",
       "    <tr>\n",
       "      <th>group</th>\n",
       "      <th></th>\n",
       "      <th></th>\n",
       "      <th></th>\n",
       "    </tr>\n",
       "  </thead>\n",
       "  <tbody>\n",
       "    <tr>\n",
       "      <th>healthy</th>\n",
       "      <td>6</td>\n",
       "      <td>20</td>\n",
       "      <td>0.300</td>\n",
       "    </tr>\n",
       "    <tr>\n",
       "      <th>patient</th>\n",
       "      <td>10</td>\n",
       "      <td>45</td>\n",
       "      <td>0.222</td>\n",
       "    </tr>\n",
       "  </tbody>\n",
       "</table>\n",
       "</div>"
      ],
      "text/plain": [
       "          K   N      %\n",
       "group                 \n",
       "healthy   6  20  0.300\n",
       "patient  10  45  0.222"
      ]
     },
     "execution_count": 3,
     "metadata": {},
     "output_type": "execute_result"
    }
   ],
   "source": [
    "## Summarize failure rate. \n",
    "gb = data.groupby('group').total.agg(['sum','count','mean']).round(3)\n",
    "gb.columns = ['K','N','%']\n",
    "gb"
   ]
  },
  {
   "cell_type": "markdown",
   "id": "0e719126-792b-4d62-8303-5284c260aa29",
   "metadata": {},
   "source": [
    "### 1.2 Bayes factors"
   ]
  },
  {
   "cell_type": "markdown",
   "id": "3a0d33eb-7403-4297-800c-173548de59b1",
   "metadata": {},
   "source": [
    "Identify difference in proportions equivalent to [small effect size](https://ncss-wpengine.netdna-ssl.com/wp-content/themes/ncss/pdf/Procedures/PASS/Tests_for_Two_Proportions_using_Effect_Size.pdf) ($h \\geq 0.2$).\n"
   ]
  },
  {
   "cell_type": "code",
   "execution_count": 4,
   "id": "888496bc-3d53-4dc8-9b25-0df950b77330",
   "metadata": {},
   "outputs": [
    {
     "name": "stdout",
     "output_type": "stream",
     "text": [
      "h = 0.206\n"
     ]
    }
   ],
   "source": [
    "h = 2 * (np.arcsin(np.sqrt(0.305)) - np.arcsin(np.sqrt(0.215)))\n",
    "print('h = %0.3f' %h)"
   ]
  },
  {
   "cell_type": "markdown",
   "id": "7fa4a445-70e9-4a8b-98e2-a0bac15931bb",
   "metadata": {},
   "source": [
    "Compute Bayes factors"
   ]
  },
  {
   "cell_type": "code",
   "execution_count": 5,
   "id": "38896b6c-66ca-455d-a865-adc3bba10a64",
   "metadata": {},
   "outputs": [
    {
     "name": "stdout",
     "output_type": "stream",
     "text": [
      "BF(m1 / m0) = 0.401\n",
      "BF(m2 / m0) = 1.278\n",
      "BF(m2 / m1) = 3.185\n"
     ]
    }
   ],
   "source": [
    "from scipy.stats import binom\n",
    "\n",
    "## Compute model (log-)likelihood.\n",
    "m0 = binom(45, 0.260).logpmf(10) + binom(20, 0.260).logpmf(6)\n",
    "m1 = binom(45, 0.305).logpmf(10) + binom(20, 0.215).logpmf(6)\n",
    "m2 = binom(45, 0.215).logpmf(10) + binom(20, 0.305).logpmf(6)\n",
    "\n",
    "## Compute Bayes factors.\n",
    "print('BF(m1 / m0) = %0.3f' %np.exp(m1 - m0))\n",
    "print('BF(m2 / m0) = %0.3f' %np.exp(m2 - m0))\n",
    "print('BF(m2 / m1) = %0.3f' %np.exp(m2 - m1))"
   ]
  }
 ],
 "metadata": {
  "kernelspec": {
   "display_name": "Python 3",
   "language": "python",
   "name": "python3"
  },
  "language_info": {
   "codemirror_mode": {
    "name": "ipython",
    "version": 3
   },
   "file_extension": ".py",
   "mimetype": "text/x-python",
   "name": "python",
   "nbconvert_exporter": "python",
   "pygments_lexer": "ipython3",
   "version": "3.9.12"
  }
 },
 "nbformat": 4,
 "nbformat_minor": 5
}
