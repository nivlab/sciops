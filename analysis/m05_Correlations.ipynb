{
 "cells": [
  {
   "cell_type": "code",
   "execution_count": 1,
   "metadata": {},
   "outputs": [],
   "source": [
    "import os\n",
    "import numpy as np\n",
    "import matplotlib.pyplot as plt\n",
    "import seaborn as sns\n",
    "from pandas import read_csv, concat\n",
    "from tqdm import tqdm\n",
    "sns.set_style('white')\n",
    "sns.set_context('notebook', font_scale=1.33)\n",
    "%matplotlib inline"
   ]
  },
  {
   "cell_type": "code",
   "execution_count": 2,
   "metadata": {},
   "outputs": [],
   "source": [
    "## Load reject data.\n",
    "reject = read_csv(os.path.join('data','reject.csv'))\n",
    "\n",
    "## Initialize metrics DataFrame.\n",
    "metrics = reject[['platform','subject','infreq']]"
   ]
  },
  {
   "cell_type": "markdown",
   "metadata": {},
   "source": [
    "## Section 1: Define Behavioral Metrics"
   ]
  },
  {
   "cell_type": "code",
   "execution_count": 3,
   "metadata": {},
   "outputs": [],
   "source": [
    "## Load behavioral data.\n",
    "data = read_csv(os.path.join('data','data.csv'))\n",
    "\n",
    "## Restrict participants.\n",
    "data = data.loc[data.subject.isin(reject.subject)]"
   ]
  },
  {
   "cell_type": "markdown",
   "metadata": {},
   "source": [
    "#### 1.1 Accuracy"
   ]
  },
  {
   "cell_type": "code",
   "execution_count": 4,
   "metadata": {},
   "outputs": [],
   "source": [
    "#~~~~~~~~~~~~~~~~~~~~~~~~~~~~~~~~~~~~~~~~~~#\n",
    "### Compute metrics.\n",
    "#~~~~~~~~~~~~~~~~~~~~~~~~~~~~~~~~~~~~~~~~~~#\n",
    "\n",
    "## Merge with metrics.\n",
    "metrics = metrics.merge(reject[['subject','platform','accuracy']])"
   ]
  },
  {
   "cell_type": "markdown",
   "metadata": {},
   "source": [
    "#### 1.2 WSLS"
   ]
  },
  {
   "cell_type": "code",
   "execution_count": 5,
   "metadata": {},
   "outputs": [],
   "source": [
    "#~~~~~~~~~~~~~~~~~~~~~~~~~~~~~~~~~~~~~~~~~~#\n",
    "### Compute metrics.\n",
    "#~~~~~~~~~~~~~~~~~~~~~~~~~~~~~~~~~~~~~~~~~~#\n",
    "\n",
    "## Merge with metrics.\n",
    "metrics = metrics.merge(reject[['subject','platform','wsls']])"
   ]
  },
  {
   "cell_type": "markdown",
   "metadata": {},
   "source": [
    "#### 1.3 Perseveration"
   ]
  },
  {
   "cell_type": "code",
   "execution_count": 6,
   "metadata": {},
   "outputs": [],
   "source": [
    "#~~~~~~~~~~~~~~~~~~~~~~~~~~~~~~~~~~~~~~~~~~#\n",
    "### Compute metrics.\n",
    "#~~~~~~~~~~~~~~~~~~~~~~~~~~~~~~~~~~~~~~~~~~#\n",
    "\n",
    "## Define trial number within each block.\n",
    "data['exposure'] = data.groupby(['subject','block']).trial.transform(lambda x: np.arange(x.size)+1)\n",
    "\n",
    "## Define perseveration errors.\n",
    "data['perseveration'] = data.groupby('subject').correct.transform(lambda x: np.roll(x, 15))\n",
    "data['perseveration'] = (data['perseveration'] == data['choice']).astype(int)\n",
    "data.loc[data.block==1,'perseveration'] = np.nan\n",
    "\n",
    "## Compute perseveration errors within participants.\n",
    "gb = data.query('exposure >= 2 and exposure <= 6').groupby(['subject']).perseveration.mean().reset_index()\n",
    "\n",
    "## Merge with metrics.\n",
    "metrics = metrics.merge(gb)"
   ]
  },
  {
   "cell_type": "markdown",
   "metadata": {},
   "source": [
    "## Section 2: Define Self-Report Metrics"
   ]
  },
  {
   "cell_type": "code",
   "execution_count": 71,
   "metadata": {},
   "outputs": [],
   "source": [
    "## Load survey data.\n",
    "surveys = read_csv(os.path.join('data','surveys.csv'))\n",
    "\n",
    "## Restrict participants.\n",
    "surveys = surveys.loc[surveys.subject.isin(metrics.subject)]\n",
    "\n",
    "## Define subscales.\n",
    "subscales = {\n",
    "    '7u':       ['7u7d-q01','7u7d-q03','7u7d-q04','7u7d-q06','7u7d-q07','7u7d-q08','7u7d-q13'],\n",
    "    '7d':       ['7u7d-q02','7u7d-q05','7u7d-q09','7u7d-q10','7u7d-q11','7u7d-q12','7u7d-q14'],\n",
    "    'gad7':     ['gad7-q01','gad7-q02','gad7-q03','gad7-q04','gad7-q05','gad7-q06','gad7-q07'],\n",
    "    'bisbas_1': ['bisbas-q01','bisbas-q02','bisbas-q03','bisbas-q04'],\n",
    "    'bisbas_2': ['bisbas-q05','bisbas-q06','bisbas-q07','bisbas-q08'],\n",
    "    'bisbas_3': ['bisbas-q09','bisbas-q10','bisbas-q11','bisbas-q12'],\n",
    "    'shaps':    ['shaps-q01','shaps-q02','shaps-q03','shaps-q04','shaps-q05',\n",
    "                 'shaps-q06','shaps-q07','shaps-q08','shaps-q09','shaps-q10',\n",
    "                 'shaps-q11','shaps-q12','shaps-q13','shaps-q14'],\n",
    "}"
   ]
  },
  {
   "cell_type": "markdown",
   "metadata": {},
   "source": [
    "#### 2.1 Self-Report Sum Scores"
   ]
  },
  {
   "cell_type": "code",
   "execution_count": 72,
   "metadata": {},
   "outputs": [],
   "source": [
    "#~~~~~~~~~~~~~~~~~~~~~~~~~~~~~~~~~~~~~~~~~~#\n",
    "### Compute metrics.\n",
    "#~~~~~~~~~~~~~~~~~~~~~~~~~~~~~~~~~~~~~~~~~~#\n",
    "\n",
    "## Iteratively compute sum scores.\n",
    "for k, v in subscales.items():\n",
    "    \n",
    "    surveys[k] = surveys[v].sum(axis=1)\n",
    "    \n",
    "## Merge with metrics.\n",
    "metrics = metrics.merge(surveys[['subject','platform'] + list(subscales.keys())])"
   ]
  },
  {
   "cell_type": "markdown",
   "metadata": {},
   "source": [
    "## Section 3:"
   ]
  },
  {
   "cell_type": "code",
   "execution_count": 105,
   "metadata": {},
   "outputs": [
    {
     "name": "stderr",
     "output_type": "stream",
     "text": [
      "100%|██████████| 5000/5000 [01:17<00:00, 64.84it/s]\n"
     ]
    },
    {
     "data": {
      "text/plain": [
       "<matplotlib.axes._subplots.AxesSubplot at 0x7fc329cd83d0>"
      ]
     },
     "execution_count": 105,
     "metadata": {},
     "output_type": "execute_result"
    },
    {
     "data": {
      "image/png": "[encoded data removed]",
      "text/plain": [
       "<Figure size 432x288 with 2 Axes>"
      ]
     },
     "metadata": {
      "needs_background": "light"
     },
     "output_type": "display_data"
    }
   ],
   "source": [
    "#~~~~~~~~~~~~~~~~~~~~~~~~~~~~~~~~~~~~~~~~~~#\n",
    "### Define parameters.\n",
    "#~~~~~~~~~~~~~~~~~~~~~~~~~~~~~~~~~~~~~~~~~~#\n",
    "\n",
    "## Define number of bootstraps.\n",
    "n_iter = 5000\n",
    "\n",
    "## Define variables of interest.\n",
    "index = ['accuracy','wsls','perseveration']\n",
    "cols  = list(subscales.keys())\n",
    "\n",
    "#~~~~~~~~~~~~~~~~~~~~~~~~~~~~~~~~~~~~~~~~~~#\n",
    "### Percentile bootstrap. \n",
    "#~~~~~~~~~~~~~~~~~~~~~~~~~~~~~~~~~~~~~~~~~~#\n",
    "np.random.seed(47404)\n",
    "\n",
    "## \n",
    "copy = metrics.copy()\n",
    "\n",
    "## Observed.\n",
    "corr = copy.corr(method='spearman').loc[index,cols].values\n",
    "\n",
    "## Preallocate space.\n",
    "null = np.zeros((n_iter,*corr.shape))\n",
    "\n",
    "## Main loop.\n",
    "indices = np.arange(copy.shape[0])\n",
    "for i in tqdm(range(n_iter)):\n",
    "    \n",
    "    ## \n",
    "    ix = np.random.choice(indices, indices.size, replace=True)\n",
    "    \n",
    "    null[i] = copy.iloc[ix].corr(method='spearman').loc[index,cols].values\n",
    "    \n",
    "## \n",
    "pvals = np.where(np.sign(corr) > 0, null < 0, null > 0).mean(axis=0)\n",
    "\n",
    "sns.heatmap(np.where(pvals < 0.05, corr, 0), vmin=-0.3, vmax=0.3, center=0)"
   ]
  },
  {
   "cell_type": "code",
   "execution_count": 116,
   "metadata": {},
   "outputs": [
    {
     "name": "stderr",
     "output_type": "stream",
     "text": [
      "100%|██████████| 5000/5000 [01:44<00:00, 48.02it/s]\n"
     ]
    },
    {
     "data": {
      "text/plain": [
       "<matplotlib.axes._subplots.AxesSubplot at 0x7fc30bc296d0>"
      ]
     },
     "execution_count": 116,
     "metadata": {},
     "output_type": "execute_result"
    },
    {
     "data": {
      "image/png": "[encoded data removed]",
      "text/plain": [
       "<Figure size 432x288 with 2 Axes>"
      ]
     },
     "metadata": {
      "needs_background": "light"
     },
     "output_type": "display_data"
    }
   ],
   "source": [
    "#~~~~~~~~~~~~~~~~~~~~~~~~~~~~~~~~~~~~~~~~~~#\n",
    "### Define parameters.\n",
    "#~~~~~~~~~~~~~~~~~~~~~~~~~~~~~~~~~~~~~~~~~~#\n",
    "\n",
    "## Define number of bootstraps.\n",
    "n_iter = 5000\n",
    "\n",
    "## Define variables of interest.\n",
    "index = ['accuracy','wsls','perseveration']\n",
    "cols  = list(subscales.keys())\n",
    "\n",
    "#~~~~~~~~~~~~~~~~~~~~~~~~~~~~~~~~~~~~~~~~~~#\n",
    "### Percentile bootstrap. \n",
    "#~~~~~~~~~~~~~~~~~~~~~~~~~~~~~~~~~~~~~~~~~~#\n",
    "np.random.seed(47404)\n",
    "\n",
    "## \n",
    "copy = metrics.query('accuracy > 0.411').copy()\n",
    "\n",
    "## Observed.\n",
    "corr = copy.corr(method='spearman').loc[index,cols].values\n",
    "\n",
    "## Preallocate space.\n",
    "null = np.zeros((n_iter,*corr.shape))\n",
    "\n",
    "## Main loop.\n",
    "indices = np.arange(copy.shape[0])\n",
    "for i in tqdm(range(n_iter)):\n",
    "    \n",
    "    ## \n",
    "    ix = np.random.choice(indices, indices.size, replace=True)\n",
    "    \n",
    "    null[i] = copy.iloc[ix].corr(method='spearman').loc[index,cols].values\n",
    "    \n",
    "## \n",
    "pvals = np.where(np.sign(corr) > 0, null < 0, null > 0).mean(axis=0)\n",
    "\n",
    "sns.heatmap(np.where(pvals < 0.05, corr, 0), vmin=-0.3, vmax=0.3, center=0)"
   ]
  },
  {
   "cell_type": "code",
   "execution_count": 127,
   "metadata": {},
   "outputs": [
    {
     "name": "stderr",
     "output_type": "stream",
     "text": [
      "100%|██████████| 5000/5000 [01:12<00:00, 68.77it/s]\n"
     ]
    },
    {
     "data": {
      "text/plain": [
       "<matplotlib.axes._subplots.AxesSubplot at 0x7fc30d137790>"
      ]
     },
     "execution_count": 127,
     "metadata": {},
     "output_type": "execute_result"
    },
    {
     "data": {
      "image/png": "[encoded data removed]",
      "text/plain": [
       "<Figure size 432x288 with 2 Axes>"
      ]
     },
     "metadata": {
      "needs_background": "light"
     },
     "output_type": "display_data"
    }
   ],
   "source": [
    "#~~~~~~~~~~~~~~~~~~~~~~~~~~~~~~~~~~~~~~~~~~#\n",
    "### Define parameters.\n",
    "#~~~~~~~~~~~~~~~~~~~~~~~~~~~~~~~~~~~~~~~~~~#\n",
    "\n",
    "## Define number of bootstraps.\n",
    "n_iter = 5000\n",
    "\n",
    "## Define variables of interest.\n",
    "index = ['accuracy','wsls','perseveration']\n",
    "cols  = list(subscales.keys())\n",
    "\n",
    "#~~~~~~~~~~~~~~~~~~~~~~~~~~~~~~~~~~~~~~~~~~#\n",
    "### Percentile bootstrap. \n",
    "#~~~~~~~~~~~~~~~~~~~~~~~~~~~~~~~~~~~~~~~~~~#\n",
    "np.random.seed(47404)\n",
    "\n",
    "## \n",
    "copy = metrics.query('infreq==0').copy()\n",
    "\n",
    "## Observed.\n",
    "corr = copy.corr(method='spearman').loc[index,cols].values\n",
    "\n",
    "## Preallocate space.\n",
    "null = np.zeros((n_iter,*corr.shape))\n",
    "\n",
    "## Main loop.\n",
    "indices = np.arange(copy.shape[0])\n",
    "for i in tqdm(range(n_iter)):\n",
    "    \n",
    "    ## \n",
    "    ix = np.random.choice(indices, indices.size, replace=True)\n",
    "    \n",
    "    null[i] = copy.iloc[ix].corr(method='spearman').loc[index,cols].values\n",
    "    \n",
    "## \n",
    "pvals = np.where(np.sign(corr) > 0, null < 0, null > 0).mean(axis=0)\n",
    "\n",
    "sns.heatmap(np.where(pvals < 0.05, corr, 0), vmin=-0.3, vmax=0.3, center=0)"
   ]
  },
  {
   "cell_type": "code",
   "execution_count": 126,
   "metadata": {},
   "outputs": [
    {
     "name": "stderr",
     "output_type": "stream",
     "text": [
      "100%|██████████| 5000/5000 [01:14<00:00, 67.03it/s]\n"
     ]
    },
    {
     "data": {
      "text/plain": [
       "<matplotlib.axes._subplots.AxesSubplot at 0x7fc30cf84210>"
      ]
     },
     "execution_count": 126,
     "metadata": {},
     "output_type": "execute_result"
    },
    {
     "data": {
      "image/png": "[encoded data removed]",
      "text/plain": [
       "<Figure size 432x288 with 2 Axes>"
      ]
     },
     "metadata": {
      "needs_background": "light"
     },
     "output_type": "display_data"
    }
   ],
   "source": [
    "#~~~~~~~~~~~~~~~~~~~~~~~~~~~~~~~~~~~~~~~~~~#\n",
    "### Define parameters.\n",
    "#~~~~~~~~~~~~~~~~~~~~~~~~~~~~~~~~~~~~~~~~~~#\n",
    "\n",
    "## Define number of bootstraps.\n",
    "n_iter = 5000\n",
    "\n",
    "## Define variables of interest.\n",
    "index = ['accuracy','wsls','perseveration']\n",
    "cols  = list(subscales.keys())\n",
    "\n",
    "#~~~~~~~~~~~~~~~~~~~~~~~~~~~~~~~~~~~~~~~~~~#\n",
    "### Percentile bootstrap. \n",
    "#~~~~~~~~~~~~~~~~~~~~~~~~~~~~~~~~~~~~~~~~~~#\n",
    "np.random.seed(47404)\n",
    "\n",
    "## \n",
    "copy = metrics.query('infreq==0 and accuracy > 0.411').copy()\n",
    "\n",
    "## Observed.\n",
    "corr = copy.corr(method='spearman').loc[index,cols].values\n",
    "\n",
    "## Preallocate space.\n",
    "null = np.zeros((n_iter,*corr.shape))\n",
    "\n",
    "## Main loop.\n",
    "indices = np.arange(copy.shape[0])\n",
    "for i in tqdm(range(n_iter)):\n",
    "    \n",
    "    ## \n",
    "    ix = np.random.choice(indices, indices.size, replace=True)\n",
    "    \n",
    "    null[i] = copy.iloc[ix].corr(method='spearman').loc[index,cols].values\n",
    "    \n",
    "## \n",
    "pvals = np.where(np.sign(corr) > 0, null < 0, null > 0).mean(axis=0)\n",
    "\n",
    "sns.heatmap(np.where(pvals < 0.05, corr, 0), vmin=-0.3, vmax=0.3, center=0)"
   ]
  },
  {
   "cell_type": "code",
   "execution_count": 131,
   "metadata": {},
   "outputs": [],
   "source": [
    "from stantools.stats import phi_approx\n",
    "from scipy.stats import norm"
   ]
  },
  {
   "cell_type": "code",
   "execution_count": 135,
   "metadata": {},
   "outputs": [
    {
     "data": {
      "text/plain": [
       "[<matplotlib.lines.Line2D at 0x7fc30ec02790>]"
      ]
     },
     "execution_count": 135,
     "metadata": {},
     "output_type": "execute_result"
    },
    {
     "data": {
      "image/png": "[encoded data removed]",
      "text/plain": [
       "<Figure size 432x288 with 1 Axes>"
      ]
     },
     "metadata": {
      "needs_background": "light"
     },
     "output_type": "display_data"
    }
   ],
   "source": [
    "x = np.linspace(-5,5,1001)\n",
    "y = phi_approx(x)\n",
    "pdf = norm(0,1).pdf(x)\n",
    "\n",
    "plt.plot(y,pdf)"
   ]
  },
  {
   "cell_type": "code",
   "execution_count": null,
   "metadata": {},
   "outputs": [],
   "source": []
  }
 ],
 "metadata": {
  "kernelspec": {
   "display_name": "Python 3",
   "language": "python",
   "name": "python3"
  },
  "language_info": {
   "codemirror_mode": {
    "name": "ipython",
    "version": 3
   },
   "file_extension": ".py",
   "mimetype": "text/x-python",
   "name": "python",
   "nbconvert_exporter": "python",
   "pygments_lexer": "ipython3",
   "version": "3.7.4"
  }
 },
 "nbformat": 4,
 "nbformat_minor": 4
}
