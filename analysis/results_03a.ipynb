{
 "cells": [
  {
   "cell_type": "code",
   "execution_count": 1,
   "metadata": {},
   "outputs": [],
   "source": [
    "import os\n",
    "import numpy as np\n",
    "from pandas import read_csv, concat\n",
    "from tqdm import tqdm"
   ]
  },
  {
   "cell_type": "markdown",
   "metadata": {},
   "source": [
    "## Section 1: Primary Analysis"
   ]
  },
  {
   "cell_type": "markdown",
   "metadata": {},
   "source": [
    "#### 1.1 Load and prepare data"
   ]
  },
  {
   "cell_type": "code",
   "execution_count": 2,
   "metadata": {},
   "outputs": [],
   "source": [
    "## Load behavioral correlates.\n",
    "data = read_csv(os.path.join('data','correlates.csv'))\n",
    "\n",
    "## Load total scores.\n",
    "scores = read_csv(os.path.join('data','scores.csv'))\n",
    "\n",
    "## Load rejection metrics.\n",
    "metrics = read_csv(os.path.join('data','metrics.csv'))\n",
    "\n",
    "## Merge DataFrames.\n",
    "data = data.merge(scores).merge(metrics[['platform','subject','infreq']])"
   ]
  },
  {
   "cell_type": "markdown",
   "metadata": {},
   "source": [
    "#### 1.2 Percentile Bootstrap Analysis"
   ]
  },
  {
   "cell_type": "code",
   "execution_count": 3,
   "metadata": {},
   "outputs": [
    {
     "name": "stderr",
     "output_type": "stream",
     "text": [
      "100%|██████████| 5000/5000 [00:28<00:00, 172.51it/s]\n",
      "100%|██████████| 5000/5000 [00:28<00:00, 177.96it/s]\n",
      "100%|██████████| 5000/5000 [00:27<00:00, 182.86it/s]\n",
      "100%|██████████| 5000/5000 [00:27<00:00, 179.92it/s]\n"
     ]
    }
   ],
   "source": [
    "#~~~~~~~~~~~~~~~~~~~~~~~~~~~~~~~~~~~~~~~~~~#\n",
    "### Define parameters.\n",
    "#~~~~~~~~~~~~~~~~~~~~~~~~~~~~~~~~~~~~~~~~~~#\n",
    "\n",
    "## Define queries.\n",
    "queries = [\n",
    "    'infreq > -1',\n",
    "    'accuracy > 0.411',\n",
    "    'infreq == 0',\n",
    "    'accuracy > 0.411 and infreq == 0'\n",
    "]\n",
    "\n",
    "## Define variables of interest.\n",
    "rows = ['accuracy','points','ws','ls','perseveration','beta','eta_p','eta_n','kappa_pr']\n",
    "cols = ['7u','7d','gad7','bis','bas_r','bas_d','shaps','pswq']\n",
    "\n",
    "## Define number of bootstraps.\n",
    "n_iter = 5000\n",
    "\n",
    "#~~~~~~~~~~~~~~~~~~~~~~~~~~~~~~~~~~~~~~~~~~#\n",
    "### Percentile bootstrap. \n",
    "#~~~~~~~~~~~~~~~~~~~~~~~~~~~~~~~~~~~~~~~~~~#\n",
    "np.random.seed(47404)\n",
    "\n",
    "## Preallocate space.\n",
    "corr = np.zeros(( len(queries), len(rows), len(cols) ))\n",
    "pval = np.zeros_like(corr)\n",
    "\n",
    "## Main loop.\n",
    "for i, query in enumerate(queries):\n",
    "    \n",
    "    ## Copy DataFrame.\n",
    "    df = data.query(query)[rows+cols].copy()\n",
    "    indices = np.arange(df.shape[0])\n",
    "    \n",
    "    ## Compute observed correlations.\n",
    "    corr[i] = df.corr(method='spearman').loc[rows,cols].values\n",
    "    \n",
    "    ## Preallocate space.\n",
    "    null = np.zeros((n_iter, len(rows), len(cols)))\n",
    "    \n",
    "    ## Iteratively compute null distribution.\n",
    "    for j in tqdm(range(n_iter)):\n",
    "        \n",
    "        ## Sample bootstrap sequence.\n",
    "        ix = np.random.choice(indices, indices.size, replace=True)\n",
    "\n",
    "        ## Compute bootstrap correlations.\n",
    "        null[j] = df.iloc[ix].corr(method='spearman').loc[rows,cols].values\n",
    "        \n",
    "    ## Compute p-values.\n",
    "    pval[i] = np.where(np.sign(corr[i]) > 0, null < 0, null > 0).mean(axis=0)"
   ]
  },
  {
   "cell_type": "markdown",
   "metadata": {},
   "source": [
    "#### 3.2 Plotting"
   ]
  },
  {
   "cell_type": "code",
   "execution_count": 4,
   "metadata": {},
   "outputs": [
    {
     "data": {
      "image/png": "[encoded data removed]",
      "text/plain": [
       "<Figure size 864x648 with 4 Axes>"
      ]
     },
     "metadata": {
      "needs_background": "light"
     },
     "output_type": "display_data"
    }
   ],
   "source": [
    "import matplotlib.pyplot as plt\n",
    "import matplotlib.gridspec as gridspec\n",
    "import seaborn as sns\n",
    "from matplotlib.colors import ListedColormap\n",
    "sns.set_theme('notebook', style='white', font='sans-serif', font_scale=1.33)\n",
    "%matplotlib inline\n",
    "\n",
    "#~~~~~~~~~~~~~~~~~~~~~~~~~~~~~~~~~~~~~~~~~~#\n",
    "### Define canvas.\n",
    "#~~~~~~~~~~~~~~~~~~~~~~~~~~~~~~~~~~~~~~~~~~#\n",
    "\n",
    "## Initialize canvas.\n",
    "fig = plt.figure(figsize=(12,9))\n",
    "\n",
    "## Initialize panels.\n",
    "gs = fig.add_gridspec(nrows=2, ncols=2, left=0.1, right=0.9, top=0.95, wspace=0.1, hspace=0.15)\n",
    "\n",
    "## Define aesthetic features.\n",
    "cmap = ListedColormap(['0.9','#81898f'])\n",
    "annot_color = '0.99'\n",
    "label_pad = 6\n",
    "\n",
    "## Define labels.\n",
    "xticklabels = ['7u', '7d', 'GAD-7', 'BIS', 'BAS-R', 'BAS-D', 'SHAPS', 'PSWQ']\n",
    "yticklabels = ['Acc', 'Pts', 'WS', 'LS', 'Pers', r'$\\beta$', r'$\\eta_p$', r'$\\eta_n$', r'$\\kappa$'] \n",
    "titles = ['No Screening', 'Accuracy Only', 'Infrequency Only', 'Both Types']\n",
    "\n",
    "#~~~~~~~~~~~~~~~~~~~~~~~~~~~~~~~~~~~~~~~~~~#\n",
    "### Main loop.\n",
    "#~~~~~~~~~~~~~~~~~~~~~~~~~~~~~~~~~~~~~~~~~~#\n",
    "\n",
    "for k in range(corr.shape[0]):\n",
    "    \n",
    "    ## Initialize axis.\n",
    "    ax = plt.subplot(gs[k//2,k%2])\n",
    "    \n",
    "    ## Plot correlations.\n",
    "    arr = np.where(corr[k] * (pval[k] < 0.05), 1, 0)\n",
    "    sns.heatmap(arr, cmap=cmap, cbar=False, linecolor='w', linewidths=1, \n",
    "                xticklabels=xticklabels if k//2 else [],\n",
    "                yticklabels=yticklabels if not k%2 else [], ax=ax)\n",
    "    \n",
    "    ## Add title.\n",
    "    ax.set_title(titles[k], fontsize=20)\n",
    "    \n",
    "    ## Add annotations.\n",
    "#     for i, j in np.array(np.where(arr)).T:\n",
    "#         ax.text(j+0.5, i+0.5, '%0.2f' %corr[k,i,j], ha='center', va='center', fontsize=13, color=annot_color)\n",
    "\n",
    "## Save figure.\n",
    "plt.savefig(os.path.join('..','figures','main_03a.png'), dpi=180, transparent=True)"
   ]
  }
 ],
 "metadata": {
  "kernelspec": {
   "display_name": "Python 3",
   "language": "python",
   "name": "python3"
  },
  "language_info": {
   "codemirror_mode": {
    "name": "ipython",
    "version": 3
   },
   "file_extension": ".py",
   "mimetype": "text/x-python",
   "name": "python",
   "nbconvert_exporter": "python",
   "pygments_lexer": "ipython3",
   "version": "3.7.9"
  }
 },
 "nbformat": 4,
 "nbformat_minor": 4
}
