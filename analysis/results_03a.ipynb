{
 "cells": [
  {
   "cell_type": "code",
   "execution_count": 1,
   "metadata": {},
   "outputs": [],
   "source": [
    "import os\n",
    "import numpy as np\n",
    "from pandas import read_csv, concat\n",
    "from tqdm import tqdm"
   ]
  },
  {
   "cell_type": "markdown",
   "metadata": {},
   "source": [
    "## Section 1: Primary Analysis"
   ]
  },
  {
   "cell_type": "markdown",
   "metadata": {},
   "source": [
    "#### 1.1 Load and prepare data"
   ]
  },
  {
   "cell_type": "code",
   "execution_count": 2,
   "metadata": {},
   "outputs": [],
   "source": [
    "## Load behavioral correlates.\n",
    "data = read_csv(os.path.join('data','correlates.csv'))\n",
    "\n",
    "## Load total scores.\n",
    "scores = read_csv(os.path.join('data','scores.csv'))\n",
    "\n",
    "## Load rejection metrics.\n",
    "metrics = read_csv(os.path.join('data','metrics.csv'))\n",
    "\n",
    "## Merge DataFrames.\n",
    "data = data.merge(scores).merge(metrics[['platform','subject','infreq']])"
   ]
  },
  {
   "cell_type": "markdown",
   "metadata": {},
   "source": [
    "#### 1.2 Percentile Bootstrap Analysis"
   ]
  },
  {
   "cell_type": "code",
   "execution_count": 3,
   "metadata": {},
   "outputs": [
    {
     "name": "stderr",
     "output_type": "stream",
     "text": [
      "100%|██████████| 5000/5000 [00:24<00:00, 204.83it/s]\n",
      "100%|██████████| 5000/5000 [00:20<00:00, 246.18it/s]\n",
      "100%|██████████| 5000/5000 [00:18<00:00, 266.43it/s]\n",
      "100%|██████████| 5000/5000 [00:25<00:00, 194.49it/s]\n"
     ]
    }
   ],
   "source": [
    "#~~~~~~~~~~~~~~~~~~~~~~~~~~~~~~~~~~~~~~~~~~#\n",
    "### Define parameters.\n",
    "#~~~~~~~~~~~~~~~~~~~~~~~~~~~~~~~~~~~~~~~~~~#\n",
    "\n",
    "## Define queries.\n",
    "queries = [\n",
    "    'infreq > -1',\n",
    "    'accuracy > 0.411',\n",
    "    'infreq == 0',\n",
    "    'accuracy > 0.411 and infreq == 0'\n",
    "]\n",
    "\n",
    "## Define variables of interest.\n",
    "rows = ['accuracy','points','ws','ls','perseveration','beta','eta_p','eta_n','kappa']\n",
    "cols = ['7u','7d','gad7','bis','bas_r','bas_d','shaps','pswq']\n",
    "\n",
    "## Define number of bootstraps.\n",
    "n_iter = 5000\n",
    "\n",
    "#~~~~~~~~~~~~~~~~~~~~~~~~~~~~~~~~~~~~~~~~~~#\n",
    "### Percentile bootstrap. \n",
    "#~~~~~~~~~~~~~~~~~~~~~~~~~~~~~~~~~~~~~~~~~~#\n",
    "np.random.seed(47404)\n",
    "\n",
    "## Preallocate space.\n",
    "corr = np.zeros(( len(queries), len(rows), len(cols) ))\n",
    "pval = np.zeros_like(corr)\n",
    "\n",
    "## Main loop.\n",
    "for i, query in enumerate(queries):\n",
    "    \n",
    "    ## Copy DataFrame.\n",
    "    df = data.query(query)[rows+cols].copy()\n",
    "    indices = np.arange(df.shape[0])\n",
    "    \n",
    "    ## Compute observed correlations.\n",
    "    corr[i] = df.corr(method='spearman').loc[rows,cols].values\n",
    "    \n",
    "    ## Preallocate space.\n",
    "    null = np.zeros((n_iter, len(rows), len(cols)))\n",
    "    \n",
    "    ## Iteratively compute null distribution.\n",
    "    for j in tqdm(range(n_iter)):\n",
    "        \n",
    "        ## Sample bootstrap sequence.\n",
    "        ix = np.random.choice(indices, indices.size, replace=True)\n",
    "\n",
    "        ## Compute bootstrap correlations.\n",
    "        null[j] = df.iloc[ix].corr(method='spearman').loc[rows,cols].values\n",
    "        \n",
    "    ## Compute p-values.\n",
    "    pval[i] = np.where(np.sign(corr[i]) > 0, null < 0, null > 0).mean(axis=0)"
   ]
  },
  {
   "cell_type": "markdown",
   "metadata": {},
   "source": [
    "## Section 2: Plotting\n",
    "\n",
    "#### 2.1 Main Figure"
   ]
  },
  {
   "cell_type": "code",
   "execution_count": 4,
   "metadata": {},
   "outputs": [
    {
     "data": {
      "image/png": "[encoded data removed]",
      "text/plain": [
       "<Figure size 864x648 with 4 Axes>"
      ]
     },
     "metadata": {
      "needs_background": "light"
     },
     "output_type": "display_data"
    }
   ],
   "source": [
    "import matplotlib.pyplot as plt\n",
    "import matplotlib.gridspec as gridspec\n",
    "import seaborn as sns\n",
    "from matplotlib.colors import ListedColormap\n",
    "sns.set_theme('notebook', style='white', font='sans-serif', font_scale=1.33)\n",
    "%matplotlib inline\n",
    "\n",
    "#~~~~~~~~~~~~~~~~~~~~~~~~~~~~~~~~~~~~~~~~~~#\n",
    "### Define canvas.\n",
    "#~~~~~~~~~~~~~~~~~~~~~~~~~~~~~~~~~~~~~~~~~~#\n",
    "\n",
    "## Initialize canvas.\n",
    "fig = plt.figure(figsize=(12,9))\n",
    "\n",
    "## Initialize panels.\n",
    "gs = fig.add_gridspec(nrows=2, ncols=2, left=0.1, right=0.9, top=0.95, wspace=0.1, hspace=0.15)\n",
    "\n",
    "## Define aesthetic features.\n",
    "cmap = ListedColormap(['0.9','#81898f'])\n",
    "annot_color = '0.99'\n",
    "label_pad = 6\n",
    "\n",
    "## Define labels.\n",
    "xticklabels = ['7u', '7d', 'GAD-7', 'BIS', 'BAS-R', 'BAS-D', 'SHAPS', 'PSWQ']\n",
    "yticklabels = ['Acc', 'Pts', 'WS', 'LS', 'Pers', r'$\\beta$', r'$\\eta_p$', r'$\\eta_n$', r'$\\kappa$'] \n",
    "titles = ['No Screening', 'Accuracy Only', 'Infrequency Only', 'Both Types']\n",
    "\n",
    "#~~~~~~~~~~~~~~~~~~~~~~~~~~~~~~~~~~~~~~~~~~#\n",
    "### Main loop.\n",
    "#~~~~~~~~~~~~~~~~~~~~~~~~~~~~~~~~~~~~~~~~~~#\n",
    "\n",
    "for k in range(corr.shape[0]):\n",
    "    \n",
    "    ## Initialize axis.\n",
    "    ax = plt.subplot(gs[k//2,k%2])\n",
    "    \n",
    "    ## Plot correlations.\n",
    "    arr = np.where(corr[k] * (pval[k] < 0.05), 1, 0)\n",
    "    sns.heatmap(arr, cmap=cmap, cbar=False, linecolor='w', linewidths=1, \n",
    "                xticklabels=xticklabels if k//2 else [],\n",
    "                yticklabels=yticklabels if not k%2 else [], ax=ax)\n",
    "    \n",
    "    ## Add title.\n",
    "    ax.set_title(titles[k], fontsize=20)\n",
    "    \n",
    "    ## Add annotations.\n",
    "#     for i, j in np.array(np.where(arr)).T:\n",
    "#         ax.text(j+0.5, i+0.5, '%0.2f' %corr[k,i,j], ha='center', va='center', fontsize=13, color=annot_color)\n",
    "\n",
    "## Save figure.\n",
    "plt.savefig(os.path.join('..','figures','main_03a.png'), dpi=180, transparent=True)"
   ]
  },
  {
   "cell_type": "markdown",
   "metadata": {},
   "source": [
    "#### 3.2 Supplementary Tables"
   ]
  },
  {
   "cell_type": "code",
   "execution_count": 5,
   "metadata": {},
   "outputs": [
    {
     "name": "stdout",
     "output_type": "stream",
     "text": [
      "Constructing Table 1: No Screening.\n",
      "\\begin{tabular}{lllllllll}\n",
      "\\toprule\n",
      "{} &       7u &       7d &    GAD-7 &      BIS &    BAS-R &    BAS-D &   SHAPS &    PSWQ \\\\\n",
      "\\midrule\n",
      "Acc      &  -0.295* &  -0.166* &  -0.093* &  -0.134* &  -0.128* &    0.054 &  -0.051 &  -0.037 \\\\\n",
      "Pts      &  -0.225* &   -0.076 &   -0.023 &  -0.144* &  -0.125* &    0.003 &  -0.051 &   0.024 \\\\\n",
      "WS       &  -0.327* &  -0.160* &  -0.129* &  -0.171* &  -0.086* &    0.048 &  -0.048 &  -0.062 \\\\\n",
      "LS       &   0.285* &   0.158* &   0.146* &    0.050 &    0.028 &  -0.090* &   0.000 &  0.110* \\\\\n",
      "Pers     &   0.134* &    0.066 &    0.032 &   0.166* &    0.083 &   -0.024 &   0.080 &  -0.004 \\\\\n",
      "\\$\\textbackslash beta\\$  &  -0.379* &  -0.163* &  -0.113* &  -0.183* &   -0.077 &    0.067 &  -0.066 &  -0.039 \\\\\n",
      "\\$\\textbackslash eta\\_p\\$ &  -0.095* &  -0.106* &  -0.108* &   -0.020 &   -0.032 &   -0.021 &  -0.032 &  -0.050 \\\\\n",
      "\\$\\textbackslash eta\\_n\\$ &   0.161* &   0.087* &   0.099* &   -0.045 &   -0.021 &   -0.083 &  -0.028 &   0.034 \\\\\n",
      "\\$\\textbackslash kappa\\$ &  -0.208* &  -0.151* &  -0.161* &    0.026 &   -0.021 &    0.046 &  -0.006 &  -0.064 \\\\\n",
      "\\bottomrule\n",
      "\\end{tabular}\n",
      "\n",
      "Constructing Table 2: Accuracy Only.\n",
      "\\begin{tabular}{lllllllll}\n",
      "\\toprule\n",
      "{} &       7u &       7d &    GAD-7 &      BIS &    BAS-R &    BAS-D &   SHAPS &    PSWQ \\\\\n",
      "\\midrule\n",
      "Acc      &  -0.263* &  -0.144* &  -0.105* &  -0.106* &   -0.081 &    0.045 &  -0.020 &  -0.033 \\\\\n",
      "Pts      &  -0.187* &   -0.042 &   -0.020 &  -0.126* &  -0.087* &   -0.010 &  -0.028 &   0.036 \\\\\n",
      "WS       &  -0.291* &  -0.137* &  -0.123* &  -0.161* &   -0.069 &    0.021 &   0.006 &  -0.044 \\\\\n",
      "LS       &   0.314* &   0.170* &   0.156* &    0.034 &    0.039 &  -0.095* &  -0.037 &  0.124* \\\\\n",
      "Pers     &    0.083 &    0.022 &    0.011 &   0.151* &    0.041 &   -0.009 &   0.076 &  -0.021 \\\\\n",
      "\\$\\textbackslash beta\\$  &  -0.339* &  -0.141* &  -0.102* &  -0.174* &   -0.074 &    0.046 &  -0.047 &  -0.022 \\\\\n",
      "\\$\\textbackslash eta\\_p\\$ &   -0.062 &  -0.095* &  -0.119* &   -0.004 &   -0.003 &   -0.048 &   0.012 &  -0.044 \\\\\n",
      "\\$\\textbackslash eta\\_n\\$ &   0.240* &   0.122* &   0.106* &   -0.020 &    0.018 &  -0.111* &   0.010 &   0.045 \\\\\n",
      "\\$\\textbackslash kappa\\$ &  -0.226* &  -0.150* &  -0.162* &    0.015 &   -0.039 &    0.046 &  -0.015 &  -0.064 \\\\\n",
      "\\bottomrule\n",
      "\\end{tabular}\n",
      "\n",
      "Constructing Table 3: Infrequency Only.\n",
      "\\begin{tabular}{lllllllll}\n",
      "\\toprule\n",
      "{} &       7u &      7d &    GAD-7 &      BIS &   BAS-R &   BAS-D &   SHAPS &    PSWQ \\\\\n",
      "\\midrule\n",
      "Acc      &  -0.210* &  -0.048 &    0.009 &   -0.082 &  -0.076 &   0.016 &  -0.005 &   0.009 \\\\\n",
      "Pts      &  -0.167* &   0.040 &    0.070 &  -0.107* &  -0.073 &  -0.015 &  -0.011 &   0.071 \\\\\n",
      "WS       &  -0.220* &  -0.045 &   -0.008 &  -0.143* &  -0.042 &  -0.015 &   0.001 &   0.016 \\\\\n",
      "LS       &   0.219* &   0.084 &   0.113* &    0.019 &   0.002 &  -0.039 &  -0.050 &   0.082 \\\\\n",
      "Pers     &    0.088 &  -0.028 &   -0.024 &   0.127* &   0.037 &  -0.008 &   0.048 &  -0.052 \\\\\n",
      "\\$\\textbackslash beta\\$  &  -0.262* &  -0.030 &    0.045 &  -0.178* &  -0.020 &   0.010 &  -0.016 &   0.064 \\\\\n",
      "\\$\\textbackslash eta\\_p\\$ &   -0.040 &  -0.054 &   -0.085 &    0.001 &  -0.008 &  -0.015 &  -0.005 &  -0.065 \\\\\n",
      "\\$\\textbackslash eta\\_n\\$ &   0.166* &   0.071 &   0.134* &   -0.030 &  -0.051 &  -0.078 &  -0.026 &   0.042 \\\\\n",
      "\\$\\textbackslash kappa\\$ &  -0.154* &  -0.071 &  -0.156* &    0.039 &   0.023 &   0.039 &   0.011 &  -0.068 \\\\\n",
      "\\bottomrule\n",
      "\\end{tabular}\n",
      "\n",
      "Constructing Table 4: Both Types.\n",
      "\\begin{tabular}{lllllllll}\n",
      "\\toprule\n",
      "{} &       7u &      7d &    GAD-7 &      BIS &   BAS-R &   BAS-D &   SHAPS &    PSWQ \\\\\n",
      "\\midrule\n",
      "Acc      &  -0.229* &  -0.090 &   -0.072 &   -0.053 &  -0.026 &   0.034 &   0.034 &  -0.040 \\\\\n",
      "Pts      &  -0.177* &   0.016 &    0.011 &   -0.086 &  -0.025 &  -0.000 &   0.025 &   0.038 \\\\\n",
      "WS       &  -0.227* &  -0.085 &   -0.057 &  -0.131* &  -0.038 &  -0.016 &   0.049 &  -0.007 \\\\\n",
      "LS       &   0.236* &   0.094 &   0.107* &    0.008 &   0.016 &  -0.042 &  -0.075 &   0.079 \\\\\n",
      "Pers     &    0.095 &  -0.007 &    0.014 &   0.110* &  -0.005 &  -0.010 &   0.037 &  -0.025 \\\\\n",
      "\\$\\textbackslash beta\\$  &  -0.252* &  -0.064 &   -0.001 &  -0.166* &  -0.031 &   0.008 &  -0.002 &   0.036 \\\\\n",
      "\\$\\textbackslash eta\\_p\\$ &   -0.038 &  -0.080 &  -0.119* &    0.016 &   0.029 &  -0.026 &   0.039 &  -0.080 \\\\\n",
      "\\$\\textbackslash eta\\_n\\$ &   0.190* &   0.052 &    0.089 &   -0.012 &  -0.016 &  -0.088 &   0.013 &   0.017 \\\\\n",
      "\\$\\textbackslash kappa\\$ &  -0.171* &  -0.072 &  -0.145* &    0.035 &   0.006 &   0.047 &   0.001 &  -0.063 \\\\\n",
      "\\bottomrule\n",
      "\\end{tabular}\n",
      "\n"
     ]
    }
   ],
   "source": [
    "from pandas import DataFrame\n",
    "\n",
    "#~~~~~~~~~~~~~~~~~~~~~~~~~~~~~~~~~~~~~~~~~~#\n",
    "### Define parameters.\n",
    "#~~~~~~~~~~~~~~~~~~~~~~~~~~~~~~~~~~~~~~~~~~#\n",
    "\n",
    "## Define tables.\n",
    "tables = ['No Screening', 'Accuracy Only', 'Infrequency Only', 'Both Types']\n",
    "\n",
    "## Define columns.\n",
    "columns = ['7u', '7d', 'GAD-7', 'BIS', 'BAS-R', 'BAS-D', 'SHAPS', 'PSWQ']\n",
    "index = ['Acc', 'Pts', 'WS', 'LS', 'Pers', r'$\\beta$', r'$\\eta_p$', r'$\\eta_n$', r'$\\kappa$'] \n",
    "\n",
    "#~~~~~~~~~~~~~~~~~~~~~~~~~~~~~~~~~~~~~~~~~~#\n",
    "### Main loop.\n",
    "#~~~~~~~~~~~~~~~~~~~~~~~~~~~~~~~~~~~~~~~~~~#\n",
    "\n",
    "for i, table in enumerate(tables):\n",
    "    print(f'Constructing Table {i+1}: {table}.')\n",
    "\n",
    "    ## Initialize table.\n",
    "    fmt = lambda r, p: '%0.3f*' %r if p < 0.05 else '%0.3f' %r\n",
    "    table = [fmt(r,p) for r, p in zip(corr[i].flatten(), pval[i].flatten())]\n",
    "    table = np.array(table).reshape(corr[i].shape)\n",
    "    \n",
    "    ## Convert to DataFrame.\n",
    "    table = DataFrame(table, index=index, columns=columns)\n",
    "\n",
    "    ## Print LaTeX.\n",
    "    print(table.to_latex())"
   ]
  }
 ],
 "metadata": {
  "kernelspec": {
   "display_name": "Python 3",
   "language": "python",
   "name": "python3"
  },
  "language_info": {
   "codemirror_mode": {
    "name": "ipython",
    "version": 3
   },
   "file_extension": ".py",
   "mimetype": "text/x-python",
   "name": "python",
   "nbconvert_exporter": "python",
   "pygments_lexer": "ipython3",
   "version": "3.7.9"
  }
 },
 "nbformat": 4,
 "nbformat_minor": 4
}
