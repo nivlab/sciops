{
 "cells": [
  {
   "cell_type": "code",
   "execution_count": 1,
   "metadata": {},
   "outputs": [],
   "source": [
    "import os\n",
    "import numpy as np\n",
    "from pandas import read_csv, concat\n",
    "from tqdm import tqdm"
   ]
  },
  {
   "cell_type": "markdown",
   "metadata": {},
   "source": [
    "## Section 1: Primary Analysis"
   ]
  },
  {
   "cell_type": "markdown",
   "metadata": {},
   "source": [
    "#### 1.1 Load and prepare data"
   ]
  },
  {
   "cell_type": "code",
   "execution_count": 2,
   "metadata": {},
   "outputs": [],
   "source": [
    "## Load behavioral correlates.\n",
    "data = read_csv(os.path.join('data','correlates.csv'))\n",
    "\n",
    "## Load total scores.\n",
    "scores = read_csv(os.path.join('data','scores.csv'))\n",
    "\n",
    "## Load rejection metrics.\n",
    "metrics = read_csv(os.path.join('data','metrics.csv'))\n",
    "\n",
    "## Merge DataFrames.\n",
    "data = data.merge(scores).merge(metrics[['platform','subject','infreq']])\n",
    "\n",
    "## Load Stan summary.\n",
    "df = read_csv(os.path.join('stan_results','rstd_summary.tsv'), sep='\\t', index_col='name')\n",
    "df = df.T.filter(regex='theta').T\n",
    "\n",
    "## Identify problematic participants.\n",
    "sub = df.T.filter(regex='theta').T.query('R_hat > 1')\n",
    "sub = np.unique([int(s.replace(']','').split(',')[-1]) - 1 for s in sub.index])\n",
    "\n",
    "## Mask participants with ill-fitting models.\n",
    "mask_ix = metrics.subject.sort_values().values[sub]\n",
    "data.loc[data.subject.isin(mask_ix),['beta','eta_p','eta_n']] = np.nan"
   ]
  },
  {
   "cell_type": "markdown",
   "metadata": {},
   "source": [
    "#### 1.2 Percentile Bootstrap Analysis"
   ]
  },
  {
   "cell_type": "code",
   "execution_count": 3,
   "metadata": {},
   "outputs": [
    {
     "name": "stderr",
     "output_type": "stream",
     "text": [
      "100%|██████████| 5000/5000 [01:00<00:00, 82.62it/s] \n",
      "100%|██████████| 5000/5000 [01:01<00:00, 81.57it/s] \n",
      "100%|██████████| 5000/5000 [00:53<00:00, 93.93it/s] \n",
      "100%|██████████| 5000/5000 [00:49<00:00, 101.02it/s]\n"
     ]
    }
   ],
   "source": [
    "#~~~~~~~~~~~~~~~~~~~~~~~~~~~~~~~~~~~~~~~~~~#\n",
    "### Define parameters.\n",
    "#~~~~~~~~~~~~~~~~~~~~~~~~~~~~~~~~~~~~~~~~~~#\n",
    "\n",
    "## Define queries.\n",
    "queries = [\n",
    "    'infreq > -1',\n",
    "    'accuracy > 0.411',\n",
    "    'infreq == 0',\n",
    "    'accuracy > 0.411 and infreq == 0'\n",
    "]\n",
    "\n",
    "## Define variables of interest.\n",
    "rows = ['accuracy','points','ws','ls','perseveration','beta','eta_p','eta_n','kappa']\n",
    "cols = ['7u','7d','gad7','bis','bas','shaps','pswq']\n",
    "\n",
    "## Define number of bootstraps.\n",
    "n_iter = 5000\n",
    "\n",
    "#~~~~~~~~~~~~~~~~~~~~~~~~~~~~~~~~~~~~~~~~~~#\n",
    "### Percentile bootstrap. \n",
    "#~~~~~~~~~~~~~~~~~~~~~~~~~~~~~~~~~~~~~~~~~~#\n",
    "np.random.seed(47404)\n",
    "\n",
    "## Preallocate space.\n",
    "corr = np.zeros(( len(queries), len(rows), len(cols) ))\n",
    "pval = np.zeros_like(corr)\n",
    "\n",
    "## Main loop.\n",
    "for i, query in enumerate(queries):\n",
    "    \n",
    "    ## Copy DataFrame.\n",
    "    df = data.query(query)[rows+cols].copy()\n",
    "    indices = np.arange(df.shape[0])\n",
    "    \n",
    "    ## Compute observed correlations.\n",
    "    corr[i] = df.corr(method='spearman').loc[rows,cols].values\n",
    "    \n",
    "    ## Preallocate space.\n",
    "    null = np.zeros((n_iter, len(rows), len(cols)))\n",
    "    \n",
    "    ## Iteratively compute null distribution.\n",
    "    for j in tqdm(range(n_iter)):\n",
    "        \n",
    "        ## Sample bootstrap sequence.\n",
    "        ix = np.random.choice(indices, indices.size, replace=True)\n",
    "\n",
    "        ## Compute bootstrap correlations.\n",
    "        null[j] = df.iloc[ix].corr(method='spearman').loc[rows,cols].values\n",
    "        \n",
    "    ## Compute p-values.\n",
    "    pval[i] = np.where(np.sign(corr[i]) > 0, null < 0, null > 0).mean(axis=0)"
   ]
  },
  {
   "cell_type": "markdown",
   "metadata": {},
   "source": [
    "## Section 2: Secondary Analyses"
   ]
  },
  {
   "cell_type": "code",
   "execution_count": null,
   "metadata": {},
   "outputs": [],
   "source": [
    "from scipy.stats import spearmanr\n",
    "\n",
    "#~~~~~~~~~~~~~~~~~~~~~~~~~~~~~~~~~~~~~~~~~~#\n",
    "### Define parameters.\n",
    "#~~~~~~~~~~~~~~~~~~~~~~~~~~~~~~~~~~~~~~~~~~#\n",
    "\n",
    "## Define sample size.\n",
    "n_samp = (data.infreq == 0).sum()\n",
    "\n",
    "## Define number of bootstraps.\n",
    "n_iter = 500\n",
    "\n",
    "#~~~~~~~~~~~~~~~~~~~~~~~~~~~~~~~~~~~~~~~~~~#\n",
    "### Percentile bootstrap. \n",
    "#~~~~~~~~~~~~~~~~~~~~~~~~~~~~~~~~~~~~~~~~~~#\n",
    "np.random.seed(47404)\n",
    "\n",
    "## Preallocate space.\n",
    "null_corr = np.zeros(( n_iter, len(rows), len(cols) ))\n",
    "null_pval = np.zeros_like(null_corr)\n",
    "\n",
    "f = lambda x,y: spearmanr(x,y)[-1]\n",
    "\n",
    "## Main loop.\n",
    "for i in tqdm(range(n_iter)):\n",
    "    \n",
    "    ## Copy DataFrame.\n",
    "    df = data.iloc[np.random.choice(np.arange(data.shape[0]), n_samp)].copy()\n",
    "    \n",
    "    ## Compute observed correlations.\n",
    "    null_pval[i] = df.corr(method=f).loc[rows,cols].values"
   ]
  },
  {
   "cell_type": "markdown",
   "metadata": {},
   "source": [
    "## Section 3: Plotting\n",
    "\n",
    "#### 3.1 Main Figure"
   ]
  },
  {
   "cell_type": "code",
   "execution_count": 45,
   "metadata": {},
   "outputs": [
    {
     "data": {
      "image/png": "[encoded data removed]",
      "text/plain": [
       "<Figure size 1296x432 with 5 Axes>"
      ]
     },
     "metadata": {
      "needs_background": "light"
     },
     "output_type": "display_data"
    }
   ],
   "source": [
    "import matplotlib.pyplot as plt\n",
    "import matplotlib.gridspec as gridspec\n",
    "import seaborn as sns\n",
    "from matplotlib.colors import ListedColormap\n",
    "from mpl_toolkits.axes_grid1 import make_axes_locatable\n",
    "sns.set_theme('notebook', style='white', font='sans-serif', font_scale=1.33)\n",
    "%matplotlib inline\n",
    "\n",
    "#~~~~~~~~~~~~~~~~~~~~~~~~~~~~~~~~~~~~~~~~~~#\n",
    "### Define canvas.\n",
    "#~~~~~~~~~~~~~~~~~~~~~~~~~~~~~~~~~~~~~~~~~~#\n",
    "\n",
    "## Initialize canvas.\n",
    "fig = plt.figure(figsize=(18,6))\n",
    "\n",
    "## Initialize panels.\n",
    "gs = gridspec.GridSpec(1,4)\n",
    "gs.update(left=0.04, right=0.95, bottom=0.2, top=0.92, hspace=0, wspace=0.06)\n",
    "\n",
    "## Define aesthetic features.\n",
    "cmap = sns.light_palette('#3b7eb1', as_cmap=True)\n",
    "label_pad = 6\n",
    "\n",
    "## Define labels.\n",
    "labels = ['A','B','C','D']\n",
    "xticklabels = ['7-up', '7-down', 'GAD-7', 'BIS', 'BAS', 'SHAPS', 'PSWQ']\n",
    "yticklabels = ['Acc', 'Pts', 'WS', 'LS', 'Pers', r'$\\beta$', r'$\\eta_p$', r'$\\eta_n$', r'$\\kappa$'] \n",
    "titles = ['No Screening', 'Accuracy Only', 'Infrequency Only', 'Both Types']\n",
    "\n",
    "#~~~~~~~~~~~~~~~~~~~~~~~~~~~~~~~~~~~~~~~~~~#\n",
    "### Main loop.\n",
    "#~~~~~~~~~~~~~~~~~~~~~~~~~~~~~~~~~~~~~~~~~~#\n",
    "\n",
    "for k in range(corr.shape[0]):\n",
    "    \n",
    "    ## Initialize axis.\n",
    "    ax = plt.subplot(gs[k])\n",
    "    \n",
    "    ## Define colorbar parameters.\n",
    "    if k == 3:\n",
    "        cbar = True\n",
    "        divider = make_axes_locatable(ax)\n",
    "        cbar_ax = divider.append_axes(\"right\", size=\"5%\", pad=0.05)\n",
    "    else:\n",
    "        cbar = False\n",
    "        cbar_ax = None\n",
    "    \n",
    "    ## Plot correlations.\n",
    "    sns.heatmap(np.zeros_like(corr[k]), cmap=ListedColormap(['#ebedf0']), cbar=False, ax=ax)    \n",
    "    sns.heatmap(np.abs(corr[k]), vmin=0.0, vmax=0.40, linecolor='0.95', linewidths=1, \n",
    "                cmap=cmap,  mask=pval[k] > 0.05, cbar=cbar, ax=ax, cbar_ax=cbar_ax)\n",
    "        \n",
    "    ## Add title.\n",
    "    ax.set_title(titles[k], fontsize=24)\n",
    "    ax.text(0, 0, labels[k], ha='left', va='bottom', fontsize=28, fontweight='bold')\n",
    "    \n",
    "    ## Add ticklabels.\n",
    "    ax.set_yticklabels([], rotation=0)\n",
    "    ax.set_xticklabels(xticklabels, fontsize=18, rotation=90)\n",
    "    if not k: ax.set_yticklabels(yticklabels, fontsize=18, rotation=0)\n",
    "    \n",
    "    ## Extract correlations.\n",
    "    arr = np.where(corr[k] * (pval[k] < 0.05), 1, 0)\n",
    "    if not k: template = arr.copy()\n",
    "    \n",
    "    ## Add markers.\n",
    "    for i, j in np.array(np.where(np.logical_and(template, 1-arr))).T:\n",
    "        ax.text(j+0.5, i+0.5, 'x', ha='center', va='center', fontsize=17, fontweight='bold')\n",
    "        \n",
    "    ## Update colorbar.\n",
    "    if cbar:\n",
    "        cbar = ax.collections[-1].colorbar\n",
    "        cbar.set_ticks(np.linspace(0.0,0.4,5))\n",
    "        cbar.set_label(r\"Spearman Correlation\", fontsize=24, labelpad=6)\n",
    "        \n",
    "## Save figure.\n",
    "plt.savefig(os.path.join('..','figures','main_03a.png'), dpi=180, transparent=True)"
   ]
  },
  {
   "cell_type": "markdown",
   "metadata": {},
   "source": [
    "#### 3.3 Supplementary Tables"
   ]
  },
  {
   "cell_type": "code",
   "execution_count": null,
   "metadata": {},
   "outputs": [],
   "source": [
    "from pandas import DataFrame\n",
    "\n",
    "#~~~~~~~~~~~~~~~~~~~~~~~~~~~~~~~~~~~~~~~~~~#\n",
    "### Define parameters.\n",
    "#~~~~~~~~~~~~~~~~~~~~~~~~~~~~~~~~~~~~~~~~~~#\n",
    "\n",
    "## Define tables.\n",
    "tables = ['No Screening', 'Accuracy Only', 'Infrequency Only', 'Both Types']\n",
    "\n",
    "## Define columns.\n",
    "columns = ['7u', '7d', 'GAD-7', 'BIS', 'BAS', 'SHAPS', 'PSWQ']\n",
    "index = ['Acc', 'Pts', 'WS', 'LS', 'Pers', r'$\\beta$', r'$\\eta_p$', r'$\\eta_n$', r'$\\kappa$'] \n",
    "\n",
    "#~~~~~~~~~~~~~~~~~~~~~~~~~~~~~~~~~~~~~~~~~~#\n",
    "### Main loop.\n",
    "#~~~~~~~~~~~~~~~~~~~~~~~~~~~~~~~~~~~~~~~~~~#\n",
    "\n",
    "for i, table in enumerate(tables):\n",
    "    print(f'Constructing Table {i+1}: {table}.')\n",
    "\n",
    "    ## Initialize table.\n",
    "    fmt = lambda r, p: '%0.3f*' %r if p < 0.05 else '%0.3f' %r\n",
    "    table = [fmt(r,p) for r, p in zip(corr[i].flatten(), pval[i].flatten())]\n",
    "    table = np.array(table).reshape(corr[i].shape)\n",
    "    \n",
    "    ## Convert to DataFrame.\n",
    "    table = DataFrame(table, index=index, columns=columns)\n",
    "\n",
    "    ## Print LaTeX.\n",
    "    print(table.to_latex())"
   ]
  }
 ],
 "metadata": {
  "kernelspec": {
   "display_name": "Python 3",
   "language": "python",
   "name": "python3"
  },
  "language_info": {
   "codemirror_mode": {
    "name": "ipython",
    "version": 3
   },
   "file_extension": ".py",
   "mimetype": "text/x-python",
   "name": "python",
   "nbconvert_exporter": "python",
   "pygments_lexer": "ipython3",
   "version": "3.7.9"
  }
 },
 "nbformat": 4,
 "nbformat_minor": 4
}
