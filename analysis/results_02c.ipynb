{
 "cells": [
  {
   "cell_type": "markdown",
   "metadata": {},
   "source": [
    "# Results 2c: Metric Validation"
   ]
  },
  {
   "cell_type": "code",
   "execution_count": 1,
   "metadata": {},
   "outputs": [],
   "source": [
    "import os\n",
    "import numpy as np\n",
    "from pandas import read_csv\n",
    "from tqdm import tqdm"
   ]
  },
  {
   "cell_type": "markdown",
   "metadata": {},
   "source": [
    "## Section 1: Load and prepare data"
   ]
  },
  {
   "cell_type": "code",
   "execution_count": 2,
   "metadata": {},
   "outputs": [],
   "source": [
    "#~~~~~~~~~~~~~~~~~~~~~~~~~~~~~~~~~~~~~~~~~~#\n",
    "### Load and prepare data.\n",
    "#~~~~~~~~~~~~~~~~~~~~~~~~~~~~~~~~~~~~~~~~~~#\n",
    "\n",
    "## Load data.\n",
    "scores = read_csv(os.path.join('data','scores.csv'))\n",
    "items = read_csv(os.path.join('data','items.csv'))\n",
    "\n",
    "## Restrict participants.\n",
    "metrics = read_csv(os.path.join('data', 'metrics.csv'))\n",
    "scores = scores[scores.subject.isin(metrics.subject)].reset_index(drop=True)\n",
    "items = items[items.subject.isin(metrics.subject)].reset_index(drop=True)\n",
    "\n",
    "## Merge DataFrames.\n",
    "data = items.merge(scores).merge(metrics[['platform','subject','infreq']])\n",
    "\n",
    "## Re-format infrequency.\n",
    "data['infreq'] = np.where(data['infreq'] > 0, 1, 0)\n",
    "\n",
    "## Compute binarized SHAPS scores.\n",
    "data['shaps_binarized'] = np.where(data.filter(regex='shaps_') >= 2, 1, 0).sum(axis=1)"
   ]
  },
  {
   "cell_type": "markdown",
   "metadata": {},
   "source": [
    "## Section 2: Cronbach's Alpha"
   ]
  },
  {
   "cell_type": "code",
   "execution_count": 3,
   "metadata": {},
   "outputs": [
    {
     "name": "stderr",
     "output_type": "stream",
     "text": [
      "100%|██████████| 5000/5000 [01:41<00:00, 49.11it/s]"
     ]
    },
    {
     "name": "stdout",
     "output_type": "stream",
     "text": [
      "Attentive: [0.836 0.937 0.924 0.83  0.843 0.904 0.934]\n",
      "Careless: [0.838 0.882 0.872 0.624 0.712 0.812 0.807]\n",
      "tval = 3.689, pval = 0.021\n"
     ]
    },
    {
     "name": "stderr",
     "output_type": "stream",
     "text": [
      "\n"
     ]
    }
   ],
   "source": [
    "from scipy.stats import ttest_rel\n",
    "from numba import njit\n",
    "\n",
    "#~~~~~~~~~~~~~~~~~~~~~~~~~~~~~~~~~~~~~~~~~~#\n",
    "### Define parameters.\n",
    "#~~~~~~~~~~~~~~~~~~~~~~~~~~~~~~~~~~~~~~~~~~#\n",
    "\n",
    "## Define subscales.\n",
    "order = ['7u','7d','gad7','bis','bas','shaps','pswq']\n",
    "\n",
    "## Define number of permutations.\n",
    "n_iter = 5000\n",
    "\n",
    "#~~~~~~~~~~~~~~~~~~~~~~~~~~~~~~~~~~~~~~~~~~#\n",
    "### Define useful functions.\n",
    "#~~~~~~~~~~~~~~~~~~~~~~~~~~~~~~~~~~~~~~~~~~#\n",
    "\n",
    "@njit\n",
    "def cronbach_alpha(X):\n",
    "    \"Estimate Cronbach's alpha for X, [n_obs, n_features]\"\n",
    "    n, k = X.shape\n",
    "    C = np.cov(X.T)\n",
    "    return (k / (k - 1)) * (1 - np.trace(C) / np.sum(C))\n",
    "\n",
    "#~~~~~~~~~~~~~~~~~~~~~~~~~~~~~~~~~~~~~~~~~~#\n",
    "### Compute observed statistics.\n",
    "#~~~~~~~~~~~~~~~~~~~~~~~~~~~~~~~~~~~~~~~~~~#\n",
    "\n",
    "## Preallocate space.\n",
    "alpha_0 = np.zeros(len(order))\n",
    "alpha_1 = np.zeros(len(order))\n",
    "\n",
    "## Iteratively compute Cronbach's alpha.\n",
    "for i, subscale in enumerate(order):\n",
    "    cols = items.filter(regex=f'{subscale}_').columns\n",
    "    alpha_0[i] = cronbach_alpha(data.loc[data.infreq==0,cols].values)\n",
    "    alpha_1[i] = cronbach_alpha(data.loc[data.infreq==1,cols].values)\n",
    "    \n",
    "## Compute test statistic.\n",
    "tval, _ = ttest_rel(alpha_0, alpha_1)\n",
    "\n",
    "#~~~~~~~~~~~~~~~~~~~~~~~~~~~~~~~~~~~~~~~~~~#\n",
    "### Permutation testing.\n",
    "#~~~~~~~~~~~~~~~~~~~~~~~~~~~~~~~~~~~~~~~~~~#\n",
    "np.random.seed(47404)\n",
    "\n",
    "## Preallocate space\n",
    "null_tvals = np.zeros(n_iter)\n",
    "\n",
    "## Main loop.\n",
    "permuted = data.copy()\n",
    "for n in tqdm(range(n_iter)):\n",
    "    \n",
    "    ## Preallocate space.\n",
    "    alpha_null = np.zeros((2, len(order))) \n",
    "    \n",
    "    ## Permute rows of infrequncy score.\n",
    "    permuted.infreq = np.random.permutation(permuted.infreq)\n",
    "    \n",
    "    ## Iteratively compute Cronbach's alpha.\n",
    "    for i, subscale in enumerate(order):\n",
    "        cols = items.filter(regex=f'{subscale}_').columns\n",
    "        alpha_null[0,i] = cronbach_alpha(permuted.loc[permuted.infreq==0,cols].values)\n",
    "        alpha_null[1,i] = cronbach_alpha(permuted.loc[permuted.infreq==1,cols].values)\n",
    "        \n",
    "    ## Compute test statistic.\n",
    "    null_tvals[n], _ = ttest_rel(alpha_null[0], alpha_null[1])\n",
    "    \n",
    "## Compute p-value.\n",
    "pval = (np.abs(tval) <= np.abs(null_tvals)).sum() / (n_iter + 1)\n",
    "\n",
    "#~~~~~~~~~~~~~~~~~~~~~~~~~~~~~~~~~~~~~~~~~~#\n",
    "### Report statistics.\n",
    "#~~~~~~~~~~~~~~~~~~~~~~~~~~~~~~~~~~~~~~~~~~#\n",
    "\n",
    "## Report Cronbach's alpha.\n",
    "print('Attentive:', alpha_0.round(3))\n",
    "print('Careless:', alpha_1.round(3))\n",
    "\n",
    "## Report permutation test results.\n",
    "print('tval = %0.3f, pval = %0.3f' %(tval,pval))"
   ]
  },
  {
   "cell_type": "markdown",
   "metadata": {},
   "source": [
    "## Section 3: Rates of Clinical Endorsement "
   ]
  },
  {
   "cell_type": "code",
   "execution_count": 4,
   "metadata": {},
   "outputs": [
    {
     "name": "stdout",
     "output_type": "stream",
     "text": [
      "\\begin{tabular}{llllllll}\n",
      "\\toprule\n",
      "{} &  Skew & Score-A & Score-C & Cutoff-A & Cutoff-C & Alpha-A & Alpha-C \\\\\n",
      "\\midrule\n",
      "7u    &  0.81 &    3.87 &   10.15 &     0.13 &     0.04 &    0.84 &    0.84 \\\\\n",
      "7d    &  0.76 &    4.75 &   10.68 &     0.17 &     0.09 &    0.94 &    0.88 \\\\\n",
      "GAD7  &  0.75 &    4.86 &    9.73 &     0.26 &     0.17 &    0.92 &    0.87 \\\\\n",
      "BIS   &  0.78 &    7.74 &    7.92 &        - &        - &    0.83 &    0.62 \\\\\n",
      "BAS   &  0.17 &   15.73 &   16.16 &        - &        - &    0.84 &    0.71 \\\\\n",
      "SHAPS &  0.26 &    8.02 &   10.85 &     0.18 &     0.15 &    0.90 &    0.81 \\\\\n",
      "PSWQ  &  0.19 &    4.78 &    6.74 &     0.07 &     0.07 &    0.93 &    0.81 \\\\\n",
      "\\bottomrule\n",
      "\\end{tabular}\n",
      "\n"
     ]
    }
   ],
   "source": [
    "from pandas import DataFrame\n",
    "from scipy.stats import skew\n",
    "\n",
    "#~~~~~~~~~~~~~~~~~~~~~~~~~~~~~~~~~~~~~~~~~~#\n",
    "### Define parameters.\n",
    "#~~~~~~~~~~~~~~~~~~~~~~~~~~~~~~~~~~~~~~~~~~#\n",
    "\n",
    "## Define clinical cutoffs.\n",
    "cutoffs = {\n",
    "    '7u':12, \n",
    "    '7d':12, \n",
    "    'gad7':10, \n",
    "    'bis':np.nan, \n",
    "    'bas':np.nan, \n",
    "    'shaps':3, \n",
    "    'pswq':11\n",
    "}\n",
    "\n",
    "#~~~~~~~~~~~~~~~~~~~~~~~~~~~~~~~~~~~~~~~~~~#\n",
    "### Compute summary statistics.\n",
    "#~~~~~~~~~~~~~~~~~~~~~~~~~~~~~~~~~~~~~~~~~~#\n",
    "\n",
    "## Preallocate space.\n",
    "table = np.zeros((len(order), 7))\n",
    "\n",
    "## Iteratively compute summary statistics.\n",
    "for i, (k, v) in enumerate(cutoffs.items()):\n",
    "    \n",
    "    ## Compute skew of score distribution.\n",
    "    table[i,0] = skew(data[k])\n",
    "    \n",
    "    ## Compute total scores.\n",
    "    table[i,1:3] = data.groupby('infreq')[k].mean()\n",
    "    \n",
    "    ## Compute proportion at threshold.\n",
    "    if k == 'shaps': k = 'shaps_binarized'\n",
    "    table[i,3] = (data[k] >= v).mean()\n",
    "    table[i,4] = (data.query('infreq == 0')[k] >= v).mean()\n",
    "        \n",
    "## Store Cronbach alpha.\n",
    "table[:,5] = alpha_0\n",
    "table[:,6] = alpha_1\n",
    "\n",
    "## Convert to DataFrame.\n",
    "table = DataFrame(table, index=['7u','7d','GAD7','BIS','BAS','SHAPS','PSWQ'],\n",
    "                  columns=['Skew','Score-A','Score-C','Cutoff-A','Cutoff-C','Alpha-A','Alpha-C'])\n",
    "\n",
    "## Format DataFrame.\n",
    "for col, fmt in zip(table.columns, [2,2,2,2,2,2,2]):\n",
    "    table[col] = [f'%0.{fmt}f' %x if x else '-' for x in table[col]]\n",
    "\n",
    "## Print LaTeX.\n",
    "print(table.to_latex())"
   ]
  },
  {
   "cell_type": "markdown",
   "metadata": {},
   "source": [
    "## Section 4: 1-PL model w/ Random Intercepts"
   ]
  },
  {
   "cell_type": "markdown",
   "metadata": {},
   "source": [
    "#### 4.1: Load and prepare data"
   ]
  },
  {
   "cell_type": "code",
   "execution_count": 5,
   "metadata": {},
   "outputs": [
    {
     "name": "stdout",
     "output_type": "stream",
     "text": [
      "Attentive: -0.175\n",
      "Careless: 0.491\n",
      "Contrast: -0.665, 95% hdi = [-0.764, -0.569]\n"
     ]
    }
   ],
   "source": [
    "from pandas import read_csv\n",
    "\n",
    "#~~~~~~~~~~~~~~~~~~~~~~~~~~~~~~~~~~~~~~~~~~#\n",
    "### Load and prepare data.\n",
    "#~~~~~~~~~~~~~~~~~~~~~~~~~~~~~~~~~~~~~~~~~~#\n",
    "\n",
    "## Load StanFit summary.\n",
    "f = os.path.join('stan_results','1pl_logistic_summary.tsv')\n",
    "df = read_csv(f, sep='\\t', index_col='name')\n",
    "\n",
    "## Extract random intercepts.\n",
    "intercepts = df.T.filter(regex='Z\\[[0-9]*,1\\]').loc['Mean']\n",
    "\n",
    "## Extract contrast statistics.\n",
    "contrasts = df.T.filter(regex='contrasts')\n",
    "\n",
    "## Print contrast stastics.\n",
    "print('Attentive: %0.3f' %contrasts.loc['Mean','contrasts[1]'])\n",
    "print('Careless: %0.3f' %contrasts.loc['Mean','contrasts[2]'])\n",
    "print('Contrast: %0.3f, 95%% hdi = [%0.3f, %0.3f]' %(contrasts.loc['Mean','contrasts[3]'], \n",
    "                                                     contrasts.loc['5%','contrasts[3]'], \n",
    "                                                     contrasts.loc['95%','contrasts[3]']))"
   ]
  },
  {
   "cell_type": "markdown",
   "metadata": {},
   "source": [
    "#### 4.2 Plotting"
   ]
  },
  {
   "cell_type": "code",
   "execution_count": 6,
   "metadata": {},
   "outputs": [
    {
     "data": {
      "image/png": "[encoded data removed]",
      "text/plain": [
       "<Figure size 576x288 with 1 Axes>"
      ]
     },
     "metadata": {
      "needs_background": "light"
     },
     "output_type": "display_data"
    }
   ],
   "source": [
    "import matplotlib.pyplot as plt\n",
    "import seaborn as sns\n",
    "sns.set_theme('notebook', style='white', font='sans-serif', font_scale=1.33)\n",
    "%matplotlib inline\n",
    "\n",
    "## Initialize canvas.\n",
    "fig, ax = plt.subplots(1,1,figsize=(8,4))\n",
    "\n",
    "## Define aesthetics.\n",
    "palette = ['#AA3939','#2E4272']\n",
    "\n",
    "## Plot distribution of intercepts.\n",
    "ax = sns.swarmplot(x=data.infreq.values, y=intercepts, palette=palette, ax=ax)\n",
    "ax.axhline(0, lw=0.8, linestyle='--', color='0.5', zorder=-1)\n",
    "\n",
    "## Add details.\n",
    "ax.set_xticklabels(['Attentive','Careless'], fontsize=18)\n",
    "ax.set_ylabel('Random Intercept', fontsize=18)\n",
    "\n",
    "sns.despine()\n",
    "plt.tight_layout()"
   ]
  }
 ],
 "metadata": {
  "kernelspec": {
   "display_name": "Python 3",
   "language": "python",
   "name": "python3"
  },
  "language_info": {
   "codemirror_mode": {
    "name": "ipython",
    "version": 3
   },
   "file_extension": ".py",
   "mimetype": "text/x-python",
   "name": "python",
   "nbconvert_exporter": "python",
   "pygments_lexer": "ipython3",
   "version": "3.7.9"
  }
 },
 "nbformat": 4,
 "nbformat_minor": 4
}
