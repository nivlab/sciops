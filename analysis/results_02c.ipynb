{
 "cells": [
  {
   "cell_type": "markdown",
   "metadata": {},
   "source": [
    "# Results 2c: Metric Validation"
   ]
  },
  {
   "cell_type": "code",
   "execution_count": 1,
   "metadata": {},
   "outputs": [],
   "source": [
    "import os\n",
    "import numpy as np\n",
    "import matplotlib.pyplot as plt\n",
    "import matplotlib.gridspec as gridspec\n",
    "import seaborn as sns\n",
    "from pandas import read_csv\n",
    "from tqdm import tqdm\n",
    "sns.set_style('white')\n",
    "sns.set_context('notebook', font_scale=1.33)\n",
    "%matplotlib inline"
   ]
  },
  {
   "cell_type": "markdown",
   "metadata": {},
   "source": [
    "## Section 1: Load and prepare data"
   ]
  },
  {
   "cell_type": "code",
   "execution_count": 2,
   "metadata": {},
   "outputs": [],
   "source": [
    "#~~~~~~~~~~~~~~~~~~~~~~~~~~~~~~~~~~~~~~~~~~#\n",
    "### Define parameters.\n",
    "#~~~~~~~~~~~~~~~~~~~~~~~~~~~~~~~~~~~~~~~~~~#\n",
    "\n",
    "## Define subscales.\n",
    "subscales = {\n",
    "    '7u':    ['7u7d-q01','7u7d-q03','7u7d-q04','7u7d-q06','7u7d-q07','7u7d-q08','7u7d-q13'],\n",
    "    '7d':    ['7u7d-q02','7u7d-q05','7u7d-q09','7u7d-q10','7u7d-q11','7u7d-q12','7u7d-q14'],\n",
    "    'gad7':  ['gad7-q01','gad7-q02','gad7-q03','gad7-q04','gad7-q05','gad7-q06','gad7-q07'],\n",
    "    'bis':   ['bisbas-q01','bisbas-q02','bisbas-q03','bisbas-q04'],\n",
    "    'bas-r': ['bisbas-q05','bisbas-q06','bisbas-q07','bisbas-q08'],\n",
    "    'bas-d': ['bisbas-q09','bisbas-q10','bisbas-q11','bisbas-q12'],\n",
    "    'shaps': ['shaps-q01','shaps-q02','shaps-q03','shaps-q04','shaps-q05',\n",
    "              'shaps-q06','shaps-q07','shaps-q08','shaps-q09','shaps-q10',\n",
    "              'shaps-q11','shaps-q12','shaps-q13','shaps-q14'],\n",
    "    'pswq':  ['pswq-q01','pswq-q02','pswq-q03']\n",
    "}\n",
    "\n",
    "#~~~~~~~~~~~~~~~~~~~~~~~~~~~~~~~~~~~~~~~~~~#\n",
    "### Load and prepare data.\n",
    "#~~~~~~~~~~~~~~~~~~~~~~~~~~~~~~~~~~~~~~~~~~#\n",
    "\n",
    "## Load reject data.\n",
    "reject = read_csv(os.path.join('data','reject.csv'))\n",
    "\n",
    "## Load survey data.\n",
    "surveys = read_csv(os.path.join('data','surveys.csv'))\n",
    "\n",
    "## Restrict participants.\n",
    "surveys = surveys.loc[surveys.subject.isin(reject.subject)]\n",
    "    \n",
    "## Merge infrequency items.\n",
    "surveys = surveys.merge(reject[['platform','subject','infreq']])\n",
    "surveys['infreq'] = np.where(surveys['infreq'], 1, 0)\n",
    "\n",
    "## Restrict survey to valid items.\n",
    "items = surveys[['platform','subject','infreq']+np.concatenate([*subscales.values()]).tolist()]"
   ]
  },
  {
   "cell_type": "markdown",
   "metadata": {},
   "source": [
    "## Section 2: Rates of Clinical Endorsement "
   ]
  },
  {
   "cell_type": "code",
   "execution_count": 5,
   "metadata": {},
   "outputs": [
    {
     "data": {
      "text/html": [
       "<div>\n",
       "<style scoped>\n",
       "    .dataframe tbody tr th:only-of-type {\n",
       "        vertical-align: middle;\n",
       "    }\n",
       "\n",
       "    .dataframe tbody tr th {\n",
       "        vertical-align: top;\n",
       "    }\n",
       "\n",
       "    .dataframe thead th {\n",
       "        text-align: right;\n",
       "    }\n",
       "</style>\n",
       "<table border=\"1\" class=\"dataframe\">\n",
       "  <thead>\n",
       "    <tr style=\"text-align: right;\">\n",
       "      <th></th>\n",
       "      <th>0</th>\n",
       "      <th>1</th>\n",
       "      <th>2</th>\n",
       "      <th>3</th>\n",
       "      <th>4</th>\n",
       "      <th>5</th>\n",
       "      <th>6</th>\n",
       "    </tr>\n",
       "  </thead>\n",
       "  <tbody>\n",
       "    <tr>\n",
       "      <th>7u</th>\n",
       "      <td>0.81</td>\n",
       "      <td>3.87</td>\n",
       "      <td>10.15</td>\n",
       "      <td>0.04</td>\n",
       "      <td>0.45</td>\n",
       "      <td>0.84</td>\n",
       "      <td>0.84</td>\n",
       "    </tr>\n",
       "    <tr>\n",
       "      <th>7d</th>\n",
       "      <td>0.76</td>\n",
       "      <td>4.75</td>\n",
       "      <td>10.68</td>\n",
       "      <td>0.09</td>\n",
       "      <td>0.46</td>\n",
       "      <td>0.94</td>\n",
       "      <td>0.88</td>\n",
       "    </tr>\n",
       "    <tr>\n",
       "      <th>gad7</th>\n",
       "      <td>0.75</td>\n",
       "      <td>4.86</td>\n",
       "      <td>9.73</td>\n",
       "      <td>0.17</td>\n",
       "      <td>0.56</td>\n",
       "      <td>0.92</td>\n",
       "      <td>0.87</td>\n",
       "    </tr>\n",
       "    <tr>\n",
       "      <th>bis</th>\n",
       "      <td>0.78</td>\n",
       "      <td>7.74</td>\n",
       "      <td>7.92</td>\n",
       "      <td>NaN</td>\n",
       "      <td>NaN</td>\n",
       "      <td>0.83</td>\n",
       "      <td>0.62</td>\n",
       "    </tr>\n",
       "    <tr>\n",
       "      <th>bas-r</th>\n",
       "      <td>0.59</td>\n",
       "      <td>6.38</td>\n",
       "      <td>7.38</td>\n",
       "      <td>NaN</td>\n",
       "      <td>NaN</td>\n",
       "      <td>0.71</td>\n",
       "      <td>0.60</td>\n",
       "    </tr>\n",
       "    <tr>\n",
       "      <th>bas-d</th>\n",
       "      <td>0.05</td>\n",
       "      <td>9.35</td>\n",
       "      <td>8.79</td>\n",
       "      <td>NaN</td>\n",
       "      <td>NaN</td>\n",
       "      <td>0.86</td>\n",
       "      <td>0.69</td>\n",
       "    </tr>\n",
       "    <tr>\n",
       "      <th>shaps</th>\n",
       "      <td>0.26</td>\n",
       "      <td>8.02</td>\n",
       "      <td>10.85</td>\n",
       "      <td>0.15</td>\n",
       "      <td>0.29</td>\n",
       "      <td>0.90</td>\n",
       "      <td>0.81</td>\n",
       "    </tr>\n",
       "    <tr>\n",
       "      <th>pswq</th>\n",
       "      <td>0.19</td>\n",
       "      <td>4.78</td>\n",
       "      <td>6.74</td>\n",
       "      <td>0.07</td>\n",
       "      <td>0.08</td>\n",
       "      <td>0.93</td>\n",
       "      <td>0.81</td>\n",
       "    </tr>\n",
       "  </tbody>\n",
       "</table>\n",
       "</div>"
      ],
      "text/plain": [
       "          0     1      2     3     4     5     6\n",
       "7u     0.81  3.87  10.15  0.04  0.45  0.84  0.84\n",
       "7d     0.76  4.75  10.68  0.09  0.46  0.94  0.88\n",
       "gad7   0.75  4.86   9.73  0.17  0.56  0.92  0.87\n",
       "bis    0.78  7.74   7.92   NaN   NaN  0.83  0.62\n",
       "bas-r  0.59  6.38   7.38   NaN   NaN  0.71  0.60\n",
       "bas-d  0.05  9.35   8.79   NaN   NaN  0.86  0.69\n",
       "shaps  0.26  8.02  10.85  0.15  0.29  0.90  0.81\n",
       "pswq   0.19  4.78   6.74  0.07  0.08  0.93  0.81"
      ]
     },
     "execution_count": 5,
     "metadata": {},
     "output_type": "execute_result"
    }
   ],
   "source": [
    "from pandas import DataFrame\n",
    "from scipy.stats import skew\n",
    "\n",
    "#~~~~~~~~~~~~~~~~~~~~~~~~~~~~~~~~~~~~~~~~~~#\n",
    "### Define parameters.\n",
    "#~~~~~~~~~~~~~~~~~~~~~~~~~~~~~~~~~~~~~~~~~~#\n",
    "\n",
    "## Define cutoff scores.\n",
    "cutoffs = {'7u':12, '7d':12, 'gad7':10, 'bis':0, 'bas-r':0, 'bas-d':0, 'shaps':3, 'pswq':11}\n",
    "\n",
    "#~~~~~~~~~~~~~~~~~~~~~~~~~~~~~~~~~~~~~~~~~~#\n",
    "### Compute total scores.\n",
    "#~~~~~~~~~~~~~~~~~~~~~~~~~~~~~~~~~~~~~~~~~~#\n",
    "\n",
    "## Iteratively compute sum scores.\n",
    "for i, (k, v) in enumerate(subscales.items()):\n",
    "    surveys[k] = surveys[v].sum(axis=1)\n",
    "    \n",
    "## Restrict survey to valid items.\n",
    "items = surveys[['platform','subject','infreq']+np.concatenate([*subscales.values()]).tolist()]\n",
    "\n",
    "## Melt DataFrame.\n",
    "scores = surveys[['platform','subject','infreq']+list(subscales.keys())].copy()\n",
    "scores['shaps95'] = (items[subscales['shaps']] >= 2).sum(axis=1)\n",
    "\n",
    "#~~~~~~~~~~~~~~~~~~~~~~~~~~~~~~~~~~~~~~~~~~#\n",
    "### Compute summary statistics.\n",
    "#~~~~~~~~~~~~~~~~~~~~~~~~~~~~~~~~~~~~~~~~~~#\n",
    "\n",
    "## Preallocate space.\n",
    "table = np.zeros((len(subscales), 7)) * np.nan\n",
    "\n",
    "## Iteratively compute summary statistics.\n",
    "for i, (k, v) in enumerate(cutoffs.items()):\n",
    "    \n",
    "    ## Compute skew.\n",
    "    table[i,0] = skew(scores[k])\n",
    "    \n",
    "    ## Compute total scores.\n",
    "    table[i,1:3] = scores.groupby('infreq')[k].mean()\n",
    "    \n",
    "    ## Compute proportion at threshold.\n",
    "    if k == 'shaps': \n",
    "        table[i,3:5] = scores.groupby('infreq')['shaps95'].apply(lambda x: np.mean(x >= v))\n",
    "    elif v: \n",
    "        table[i,3:5] = scores.groupby('infreq')[k].apply(lambda x: np.mean(x >= v))\n",
    "        \n",
    "## Store Cronbach alpha.\n",
    "table[:,5] = alpha_0\n",
    "table[:,6] = alpha_1\n",
    "\n",
    "## Convert to DataFrame.\n",
    "table = DataFrame(table, index=cutoffs.keys())\n",
    "table.round(2)"
   ]
  },
  {
   "cell_type": "markdown",
   "metadata": {},
   "source": [
    "## Section 3: Cronbach's Alpha\n"
   ]
  },
  {
   "cell_type": "code",
   "execution_count": 3,
   "metadata": {},
   "outputs": [
    {
     "name": "stderr",
     "output_type": "stream",
     "text": [
      "100%|██████████| 5000/5000 [02:05<00:00, 39.74it/s]\n"
     ]
    }
   ],
   "source": [
    "from scipy.stats import ttest_rel\n",
    "from numba import njit\n",
    "\n",
    "#~~~~~~~~~~~~~~~~~~~~~~~~~~~~~~~~~~~~~~~~~~#\n",
    "### Define parameters.\n",
    "#~~~~~~~~~~~~~~~~~~~~~~~~~~~~~~~~~~~~~~~~~~#\n",
    "\n",
    "## Define number of permutations.\n",
    "n_iter = 5000\n",
    "\n",
    "#~~~~~~~~~~~~~~~~~~~~~~~~~~~~~~~~~~~~~~~~~~#\n",
    "### Define useful functions.\n",
    "#~~~~~~~~~~~~~~~~~~~~~~~~~~~~~~~~~~~~~~~~~~#\n",
    "\n",
    "@njit\n",
    "def cronbach_alpha(X):\n",
    "    \"Estimate Cronbach's alpha for X, [n_obs, n_features]\"\n",
    "    n, k = X.shape\n",
    "    C = np.cov(X.T)\n",
    "    return (k / (k - 1)) * (1 - np.trace(C) / np.sum(C))\n",
    "\n",
    "#~~~~~~~~~~~~~~~~~~~~~~~~~~~~~~~~~~~~~~~~~~#\n",
    "### Compute observed statistics.\n",
    "#~~~~~~~~~~~~~~~~~~~~~~~~~~~~~~~~~~~~~~~~~~#\n",
    "\n",
    "## Preallocate space.\n",
    "alpha_0 = np.zeros(len(subscales))\n",
    "alpha_1 = np.zeros(len(subscales))\n",
    "\n",
    "## Iteratively compute Cronbach's alpha.\n",
    "for i, cols in enumerate(subscales.values()):\n",
    "    alpha_0[i] = cronbach_alpha(items.loc[items.infreq==0,cols].values)\n",
    "    alpha_1[i] = cronbach_alpha(items.loc[items.infreq==1,cols].values)\n",
    "    \n",
    "## Compute test statistic.\n",
    "tval, _ = ttest_rel(alpha_0, alpha_1)\n",
    "\n",
    "#~~~~~~~~~~~~~~~~~~~~~~~~~~~~~~~~~~~~~~~~~~#\n",
    "### Permutation testing.\n",
    "#~~~~~~~~~~~~~~~~~~~~~~~~~~~~~~~~~~~~~~~~~~#\n",
    "np.random.seed(47404)\n",
    "\n",
    "## Preallocate space\n",
    "null_tvals = np.zeros(n_iter)\n",
    "\n",
    "## Main loop.\n",
    "permuted = items.copy()\n",
    "for n in tqdm(range(n_iter)):\n",
    "    \n",
    "    ## Preallocate space.\n",
    "    alpha_null = np.zeros((2, len(subscales))) \n",
    "    \n",
    "    ## Permute rows of infrequncy score.\n",
    "    permuted.infreq = np.random.permutation(permuted.infreq)\n",
    "    \n",
    "    ## Iteratively compute Cronbach's alpha.\n",
    "    for i, cols in enumerate(subscales.values()):\n",
    "        alpha_null[0,i] = cronbach_alpha(permuted.loc[permuted.infreq==0,cols].values)\n",
    "        alpha_null[1,i] = cronbach_alpha(permuted.loc[permuted.infreq==1,cols].values)\n",
    "        \n",
    "    ## Compute test statistic.\n",
    "    null_tvals[n], _ = ttest_rel(alpha_null[0], alpha_null[1])\n",
    "    \n",
    "## Compute p-value.\n",
    "pval = (np.abs(tval) <= np.abs(null_tvals)).sum() / (n_iter + 1)"
   ]
  },
  {
   "cell_type": "code",
   "execution_count": 4,
   "metadata": {},
   "outputs": [
    {
     "name": "stdout",
     "output_type": "stream",
     "text": [
      "no flag [0.836 0.937 0.924 0.83  0.708 0.862 0.904 0.934]\n",
      "flagged [0.838 0.882 0.872 0.624 0.599 0.691 0.812 0.807]\n",
      "tval = 4.247, pval = 0.006\n"
     ]
    }
   ],
   "source": [
    "## Report outcomes.\n",
    "print('no flag', alpha_0.round(3))\n",
    "print('flagged', alpha_1.round(3))\n",
    "print('tval = %0.3f, pval = %0.3f' %(tval,pval))"
   ]
  },
  {
   "cell_type": "markdown",
   "metadata": {},
   "source": [
    "## Section 4: Rasch Model"
   ]
  },
  {
   "cell_type": "code",
   "execution_count": 6,
   "metadata": {},
   "outputs": [],
   "source": [
    "import h5py\n",
    "from pandas import DataFrame\n",
    "\n",
    "## Extract behavior.\n",
    "with h5py.File(os.path.join('stan_results',f'1pl_logistic_mcmc.hdf5'), 'r') as hdf5:\n",
    "    contrasts = hdf5['contrasts'][:]\n",
    "    theta = hdf5['theta'][:]\n",
    "    \n",
    "## Convert to DataFrame.\n",
    "contrasts = DataFrame(contrasts, columns=['c0','c1','c2'])"
   ]
  },
  {
   "cell_type": "code",
   "execution_count": 7,
   "metadata": {},
   "outputs": [
    {
     "data": {
      "text/plain": [
       "<matplotlib.axes._subplots.AxesSubplot at 0x7f994324a9d0>"
      ]
     },
     "execution_count": 7,
     "metadata": {},
     "output_type": "execute_result"
    },
    {
     "data": {
      "image/png": "[encoded data removed]",
      "text/plain": [
       "<Figure size 432x288 with 1 Axes>"
      ]
     },
     "metadata": {
      "needs_background": "light"
     },
     "output_type": "display_data"
    }
   ],
   "source": [
    "sns.histplot(theta[0])"
   ]
  },
  {
   "cell_type": "code",
   "execution_count": 8,
   "metadata": {},
   "outputs": [
    {
     "data": {
      "text/plain": [
       "<matplotlib.axes._subplots.AxesSubplot at 0x7f994413a190>"
      ]
     },
     "execution_count": 8,
     "metadata": {},
     "output_type": "execute_result"
    },
    {
     "data": {
      "image/png": "[encoded data removed]",
      "text/plain": [
       "<Figure size 432x288 with 1 Axes>"
      ]
     },
     "metadata": {
      "needs_background": "light"
     },
     "output_type": "display_data"
    }
   ],
   "source": [
    "sns.kdeplot(contrasts.c0, cut=0, fill=True)\n",
    "sns.kdeplot(contrasts.c1, cut=0, fill=True)\n",
    "sns.kdeplot(-contrasts.c2, cut=0, fill=True)"
   ]
  },
  {
   "cell_type": "code",
   "execution_count": 9,
   "metadata": {},
   "outputs": [
    {
     "data": {
      "text/plain": [
       "<matplotlib.axes._subplots.AxesSubplot at 0x7f9944233350>"
      ]
     },
     "execution_count": 9,
     "metadata": {},
     "output_type": "execute_result"
    },
    {
     "data": {
      "image/png": "[encoded data removed]",
      "text/plain": [
       "<Figure size 432x288 with 1 Axes>"
      ]
     },
     "metadata": {
      "needs_background": "light"
     },
     "output_type": "display_data"
    }
   ],
   "source": [
    "sns.histplot(contrasts.c0)\n",
    "sns.histplot(contrasts.c1)\n",
    "sns.histplot(contrasts.c2)"
   ]
  },
  {
   "cell_type": "code",
   "execution_count": null,
   "metadata": {},
   "outputs": [],
   "source": []
  }
 ],
 "metadata": {
  "kernelspec": {
   "display_name": "Python 3",
   "language": "python",
   "name": "python3"
  },
  "language_info": {
   "codemirror_mode": {
    "name": "ipython",
    "version": 3
   },
   "file_extension": ".py",
   "mimetype": "text/x-python",
   "name": "python",
   "nbconvert_exporter": "python",
   "pygments_lexer": "ipython3",
   "version": "3.7.9"
  }
 },
 "nbformat": 4,
 "nbformat_minor": 4
}
