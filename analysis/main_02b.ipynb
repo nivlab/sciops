{
 "cells": [
  {
   "cell_type": "markdown",
   "metadata": {},
   "source": [
    "# Main Results 2b"
   ]
  },
  {
   "cell_type": "code",
   "execution_count": 50,
   "metadata": {},
   "outputs": [],
   "source": [
    "import os\n",
    "import numpy as np\n",
    "import matplotlib.pyplot as plt\n",
    "import matplotlib.gridspec as gridspec\n",
    "import seaborn as sns\n",
    "from pandas import read_csv\n",
    "from tqdm import tqdm\n",
    "sns.set_style('white')\n",
    "sns.set_context('notebook', font_scale=1.33)\n",
    "%matplotlib inline"
   ]
  },
  {
   "cell_type": "markdown",
   "metadata": {},
   "source": [
    "## Section 1: Internal Consistency\n",
    "\n",
    "#### 1.1 Load and prepare data"
   ]
  },
  {
   "cell_type": "code",
   "execution_count": 51,
   "metadata": {},
   "outputs": [],
   "source": [
    "#~~~~~~~~~~~~~~~~~~~~~~~~~~~~~~~~~~~~~~~~~~#\n",
    "### Define parameters.\n",
    "#~~~~~~~~~~~~~~~~~~~~~~~~~~~~~~~~~~~~~~~~~~#\n",
    "\n",
    "## Define subscales.\n",
    "subscales = {\n",
    "    '7u':    ['7u7d-q01','7u7d-q03','7u7d-q04','7u7d-q06','7u7d-q07','7u7d-q08','7u7d-q13'],\n",
    "    '7d':    ['7u7d-q02','7u7d-q05','7u7d-q09','7u7d-q10','7u7d-q11','7u7d-q12','7u7d-q14'],\n",
    "    'gad7':  ['gad7-q01','gad7-q02','gad7-q03','gad7-q04','gad7-q05','gad7-q06','gad7-q07'],\n",
    "    'pswq':  ['pswq-q01','pswq-q02','pswq-q03'],\n",
    "    'bis':   ['bisbas-q01','bisbas-q02','bisbas-q03','bisbas-q04'],\n",
    "    'bas':   ['bisbas-q05','bisbas-q06','bisbas-q07','bisbas-q08',\n",
    "              'bisbas-q09','bisbas-q10','bisbas-q11','bisbas-q12'],\n",
    "    'shaps': ['shaps-q01','shaps-q02','shaps-q03','shaps-q04','shaps-q05',\n",
    "              'shaps-q06','shaps-q07','shaps-q08','shaps-q09','shaps-q10',\n",
    "              'shaps-q11','shaps-q12','shaps-q13','shaps-q14'],\n",
    "}\n",
    "\n",
    "## Define max response option per scale (0-indexed).\n",
    "scale_max = [3,3,3,3,3,3]\n",
    "\n",
    "#~~~~~~~~~~~~~~~~~~~~~~~~~~~~~~~~~~~~~~~~~~#\n",
    "### Load and prepare data.\n",
    "#~~~~~~~~~~~~~~~~~~~~~~~~~~~~~~~~~~~~~~~~~~#\n",
    "\n",
    "## Load reject data.\n",
    "reject = read_csv(os.path.join('data','reject.csv'))\n",
    "\n",
    "## Load survey data.\n",
    "surveys = read_csv(os.path.join('data','surveys.csv'))\n",
    "\n",
    "## Restrict participants.\n",
    "surveys = surveys.loc[surveys.subject.isin(reject.subject)]\n",
    "\n",
    "## Iteratively compute sum scores.\n",
    "for i, (k, v) in enumerate(subscales.items()):\n",
    "    surveys[k] = surveys[v].sum(axis=1)\n",
    "    \n",
    "## Merge infrequency items.\n",
    "surveys = surveys.merge(reject[['platform','subject','infreq']])\n",
    "surveys['infreq'] = np.where(surveys['infreq'], 1, 0)\n",
    "\n",
    "## Restrict survey to valid items.\n",
    "items = surveys[['platform','subject','infreq']+np.concatenate([*subscales.values()]).tolist()]\n",
    "\n",
    "## Melt DataFrame.\n",
    "scores = surveys[['platform','subject','infreq']+list(subscales.keys())]"
   ]
  },
  {
   "cell_type": "markdown",
   "metadata": {},
   "source": [
    "#### 1.2 Permutation Testing"
   ]
  },
  {
   "cell_type": "code",
   "execution_count": 3,
   "metadata": {},
   "outputs": [
    {
     "name": "stderr",
     "output_type": "stream",
     "text": [
      "100%|██████████| 5000/5000 [08:42<00:00,  9.57it/s]\n"
     ]
    }
   ],
   "source": [
    "from scipy.stats import ttest_1samp\n",
    "\n",
    "#~~~~~~~~~~~~~~~~~~~~~~~~~~~~~~~~~~~~~~~~~~#\n",
    "### Define parameters.\n",
    "#~~~~~~~~~~~~~~~~~~~~~~~~~~~~~~~~~~~~~~~~~~#\n",
    "\n",
    "## Define number of permutations.\n",
    "n_iter = 5000\n",
    "\n",
    "#~~~~~~~~~~~~~~~~~~~~~~~~~~~~~~~~~~~~~~~~~~#\n",
    "### Compute observed statistics.\n",
    "#~~~~~~~~~~~~~~~~~~~~~~~~~~~~~~~~~~~~~~~~~~#\n",
    "np.random.seed(47404)\n",
    "\n",
    "## Define items of interest.\n",
    "cols = items.filter(regex='-q').columns\n",
    "\n",
    "## Compute average difference of interitem correlations across subscales.\n",
    "iic = []\n",
    "for ss in list(subscales.keys()):\n",
    "            \n",
    "    ## Compute correlation matrices.\n",
    "    A = items.loc[items.infreq==0,subscales[ss]].corr(method='spearman')\n",
    "    B = items.loc[items.infreq==1,subscales[ss]].corr(method='spearman')\n",
    "    D = (A - B).values\n",
    "    \n",
    "    ## Store correlations.\n",
    "    iic = np.append(iic, D[np.tril_indices_from(D, k=-1)])\n",
    "    \n",
    "## Compute average and t-statistic.\n",
    "mu_iic = np.mean(iic)\n",
    "tval, _ = ttest_1samp(iic, popmean=0)\n",
    "\n",
    "#~~~~~~~~~~~~~~~~~~~~~~~~~~~~~~~~~~~~~~~~~~#\n",
    "### Permutation testing.\n",
    "#~~~~~~~~~~~~~~~~~~~~~~~~~~~~~~~~~~~~~~~~~~#\n",
    "np.random.seed(47404)\n",
    "\n",
    "## Preallocate space\n",
    "null_tvals = np.zeros(n_iter)\n",
    "\n",
    "## Main loop.\n",
    "permuted = items.copy()\n",
    "for n in tqdm(range(n_iter)):\n",
    "    \n",
    "    ## Permute rows of infrequncy score.\n",
    "    permuted.infreq = np.random.permutation(permuted.infreq)\n",
    "    \n",
    "    iic = []\n",
    "    for ss in list(subscales.keys()):\n",
    "\n",
    "        ## Compute correlation matrices.\n",
    "        A = permuted.loc[permuted.infreq==0,subscales[ss]].corr(method='spearman')\n",
    "        B = permuted.loc[permuted.infreq==1,subscales[ss]].corr(method='spearman')\n",
    "        D = (A - B).values\n",
    "\n",
    "        ## Store correlations.\n",
    "        iic = np.append(iic, D[np.tril_indices_from(D, k=-1)])\n",
    "        \n",
    "    ## Compute and store t-statistic.\n",
    "    null_tvals[n], _ = ttest_1samp(iic, popmean=0)\n",
    "    \n",
    "## Compute p-value.\n",
    "pval = (np.abs(tval) <= np.abs(null_tvals)).sum() / (n_iter + 1)"
   ]
  },
  {
   "cell_type": "code",
   "execution_count": 4,
   "metadata": {},
   "outputs": [
    {
     "name": "stdout",
     "output_type": "stream",
     "text": [
      "mean: 0.138\n",
      "tval: 16.822\n",
      "pval: 0.000\n"
     ]
    }
   ],
   "source": [
    "## Report statistic.\n",
    "print('mean: %0.3f' %mu_iic)\n",
    "print('tval: %0.3f' %tval)\n",
    "print('pval: %0.3f' %pval)"
   ]
  },
  {
   "cell_type": "markdown",
   "metadata": {},
   "source": [
    "#### 1.3 Plotting"
   ]
  },
  {
   "cell_type": "code",
   "execution_count": 7,
   "metadata": {},
   "outputs": [
    {
     "data": {
      "image/png": "[encoded data removed]",
      "text/plain": [
       "<Figure size 1728x576 with 6 Axes>"
      ]
     },
     "metadata": {
      "needs_background": "light"
     },
     "output_type": "display_data"
    }
   ],
   "source": [
    "from mpl_toolkits.axes_grid1 import make_axes_locatable\n",
    "\n",
    "## Initialize canvas.\n",
    "fig, axes = plt.subplots(1,3,figsize=(24,8))\n",
    "cols = np.concatenate([v for v in subscales.values()])\n",
    "labels = ['7U','7D','GAD7','PSWQ','BIS','BAS','SHAPS']\n",
    "titles = ['High Effort', 'Low Effort', 'High - Low']\n",
    "\n",
    "## Compute correlation matrices.\n",
    "A = items.query('infreq==0')[cols].corr(method='spearman')\n",
    "B = items.query('infreq==1')[cols].corr(method='spearman')\n",
    "D = (A - B).values\n",
    "\n",
    "## Iteratively plot.\n",
    "for n, (ax, corr, v, title) in enumerate(zip(axes, [A,B,D], [1.0,1.0,0.6], titles)):\n",
    "\n",
    "    ## Make space for colorbar.\n",
    "    divider = make_axes_locatable(ax)\n",
    "    cbar_ax = divider.append_axes(\"bottom\", size=\"5%\", pad=0.1)\n",
    "    \n",
    "    ## Plot correlation matrix.\n",
    "    sns.heatmap(corr, center=0, vmin=-v, vmax=v, cbar=True, square=True, \n",
    "                xticklabels=[], yticklabels=[], ax=ax, cbar_ax=cbar_ax, \n",
    "                cbar_kws=dict(orientation=\"horizontal\"))\n",
    "    \n",
    "    ## Update colorbar.\n",
    "    cbar = ax.collections[0].colorbar\n",
    "    cbar.set_label('Spearman Correlation', fontsize=24, labelpad=10)\n",
    "    \n",
    "    ## Add grid lines.\n",
    "    cumsum = np.cumsum([len(v) for v in subscales.values()])\n",
    "    for i in cumsum: \n",
    "        ax.axhline(i, color='0.5', lw=0.7)\n",
    "        ax.axvline(i, color='0.5', lw=0.7)\n",
    "        \n",
    "    ## Add labels.\n",
    "    yticks = [3.5,10.5,17.5,22.5,26,32,43]\n",
    "    ax.set_title(title, fontsize=32)\n",
    "    if not n: ax.set_yticks(yticks)\n",
    "    if not n: ax.set_yticklabels(labels, fontsize=22)\n",
    "        \n",
    "## Save figure.\n",
    "f = os.path.join('..','figures','main_02b.png')\n",
    "plt.subplots_adjust(top=0.90, left=0.05, right=0.98, wspace=0.05)\n",
    "plt.savefig(f, dpi=300)"
   ]
  },
  {
   "cell_type": "markdown",
   "metadata": {},
   "source": [
    "## Section 2: Rates of Clinical Endorsement "
   ]
  },
  {
   "cell_type": "code",
   "execution_count": 56,
   "metadata": {},
   "outputs": [],
   "source": [
    "## Iteratively compute sum scores.\n",
    "for i, (k, v) in enumerate(subscales.items()):\n",
    "    if k == 'shaps': surveys[v] = np.where(surveys[v] < 2, 1, 0)\n",
    "    surveys[k] = surveys[v].sum(axis=1)\n",
    "    \n",
    "## Restrict survey to valid items.\n",
    "items = surveys[['platform','subject','infreq']+np.concatenate([*subscales.values()]).tolist()]\n",
    "\n",
    "## Melt DataFrame.\n",
    "scores = surveys[['platform','subject','infreq']+list(subscales.keys())]\n",
    "\n",
    "metadata = read_csv('data/metadata.csv')\n",
    "scores = scores.merge(metadata[['platform','subject','gender-categorical']])"
   ]
  },
  {
   "cell_type": "markdown",
   "metadata": {},
   "source": [
    "#### 2.1 Mania / Depression"
   ]
  },
  {
   "cell_type": "code",
   "execution_count": 61,
   "metadata": {},
   "outputs": [
    {
     "data": {
      "text/html": [
       "<div>\n",
       "<style scoped>\n",
       "    .dataframe tbody tr th:only-of-type {\n",
       "        vertical-align: middle;\n",
       "    }\n",
       "\n",
       "    .dataframe tbody tr th {\n",
       "        vertical-align: top;\n",
       "    }\n",
       "\n",
       "    .dataframe thead th {\n",
       "        text-align: right;\n",
       "    }\n",
       "</style>\n",
       "<table border=\"1\" class=\"dataframe\">\n",
       "  <thead>\n",
       "    <tr style=\"text-align: right;\">\n",
       "      <th></th>\n",
       "      <th>7u</th>\n",
       "      <th>7d</th>\n",
       "    </tr>\n",
       "    <tr>\n",
       "      <th>infreq</th>\n",
       "      <th></th>\n",
       "      <th></th>\n",
       "    </tr>\n",
       "  </thead>\n",
       "  <tbody>\n",
       "    <tr>\n",
       "      <th>0</th>\n",
       "      <td>3.87</td>\n",
       "      <td>4.75</td>\n",
       "    </tr>\n",
       "    <tr>\n",
       "      <th>1</th>\n",
       "      <td>10.15</td>\n",
       "      <td>10.68</td>\n",
       "    </tr>\n",
       "  </tbody>\n",
       "</table>\n",
       "</div>"
      ],
      "text/plain": [
       "           7u     7d\n",
       "infreq              \n",
       "0        3.87   4.75\n",
       "1       10.15  10.68"
      ]
     },
     "execution_count": 61,
     "metadata": {},
     "output_type": "execute_result"
    }
   ],
   "source": [
    "scores.groupby('infreq')[['7u','7d']].mean().round(2)"
   ]
  },
  {
   "cell_type": "code",
   "execution_count": 36,
   "metadata": {},
   "outputs": [
    {
     "name": "stdout",
     "output_type": "stream",
     "text": [
      "Mania (Cutoff=12)\n",
      "Pre:  0.130\n",
      "Post: 0.040\n"
     ]
    }
   ],
   "source": [
    "print('Mania (Cutoff=12)')\n",
    "print('Pre:  %0.3f' %(scores['7u'] >= 12).mean())\n",
    "print('Post: %0.3f' %(scores.query('infreq==0')['7u'] >= 12).mean())"
   ]
  },
  {
   "cell_type": "code",
   "execution_count": 35,
   "metadata": {},
   "outputs": [
    {
     "name": "stdout",
     "output_type": "stream",
     "text": [
      "Depression (Cutoff=12)\n",
      "Pre:  0.174\n",
      "Post: 0.093\n"
     ]
    }
   ],
   "source": [
    "print('Depression (Cutoff=12)')\n",
    "print('Pre:  %0.3f' %(scores['7d'] >= 12).mean())\n",
    "print('Post: %0.3f' %(scores.query('infreq==0')['7d'] >= 12).mean())"
   ]
  },
  {
   "cell_type": "markdown",
   "metadata": {},
   "source": [
    "#### 2.2 Anxiety"
   ]
  },
  {
   "cell_type": "code",
   "execution_count": 62,
   "metadata": {},
   "outputs": [
    {
     "data": {
      "text/plain": [
       "infreq\n",
       "0    4.86\n",
       "1    9.73\n",
       "Name: gad7, dtype: float64"
      ]
     },
     "execution_count": 62,
     "metadata": {},
     "output_type": "execute_result"
    }
   ],
   "source": [
    "scores.groupby('infreq').gad7.mean().round(2)"
   ]
  },
  {
   "cell_type": "code",
   "execution_count": 38,
   "metadata": {},
   "outputs": [
    {
     "name": "stdout",
     "output_type": "stream",
     "text": [
      "Mania (Cutoff=10)\n",
      "Pre:  0.259\n",
      "Post: 0.173\n"
     ]
    }
   ],
   "source": [
    "print('Mania (Cutoff=10)')\n",
    "print('Pre:  %0.3f' %(scores['gad7'] >= 10).mean())\n",
    "print('Post: %0.3f' %(scores.query('infreq==0')['gad7'] >= 10).mean())"
   ]
  },
  {
   "cell_type": "markdown",
   "metadata": {},
   "source": [
    "#### 2.3 Anhedonia"
   ]
  },
  {
   "cell_type": "code",
   "execution_count": 66,
   "metadata": {},
   "outputs": [
    {
     "data": {
      "text/plain": [
       "infreq\n",
       "0    0.87\n",
       "1    1.79\n",
       "Name: shaps, dtype: float64"
      ]
     },
     "execution_count": 66,
     "metadata": {},
     "output_type": "execute_result"
    }
   ],
   "source": [
    "scores.groupby('infreq').shaps.mean().round(2)"
   ]
  },
  {
   "cell_type": "code",
   "execution_count": 65,
   "metadata": {},
   "outputs": [
    {
     "name": "stdout",
     "output_type": "stream",
     "text": [
      "Anhedonia (Cutoff=3)\n",
      "Pre:  0.179\n",
      "Post: 0.146\n"
     ]
    }
   ],
   "source": [
    "print('Anhedonia (Cutoff=3)')\n",
    "print('Pre:  %0.3f' %(scores['shaps'] >= 3).mean())\n",
    "print('Post: %0.3f' %(scores.query('infreq==0')['shaps'] >= 3).mean())"
   ]
  },
  {
   "cell_type": "markdown",
   "metadata": {},
   "source": [
    "#### 2.4 BIS"
   ]
  },
  {
   "cell_type": "code",
   "execution_count": 80,
   "metadata": {},
   "outputs": [
    {
     "name": "stdout",
     "output_type": "stream",
     "text": [
      "Ttest_indResult(statistic=5.730043825287055, pvalue=2.4562386021500025e-08)\n",
      "Ttest_indResult(statistic=0.2079837387431376, pvalue=0.8357637245918252)\n"
     ]
    },
    {
     "data": {
      "text/plain": [
       "infreq  gender-categorical\n",
       "0       Female                 9.081761\n",
       "        Male                   7.312057\n",
       "        Other                 12.000000\n",
       "1       Female                 8.083333\n",
       "        Male                   7.978723\n",
       "        Other                 10.500000\n",
       "Name: bis, dtype: float64"
      ]
     },
     "execution_count": 80,
     "metadata": {},
     "output_type": "execute_result"
    }
   ],
   "source": [
    "from scipy.stats import ttest_ind\n",
    "\n",
    "print(ttest_ind(\n",
    "    scores.loc[(scores['gender-categorical']=='Female')&(scores['infreq']==0),'bis'].values,\n",
    "    scores.loc[(scores['gender-categorical']=='Male')&(scores['infreq']==0),'bis'].values\n",
    "))\n",
    "\n",
    "print(ttest_ind(\n",
    "    scores.loc[(scores['gender-categorical']=='Female')&(scores['infreq']==1),'bis'].values,\n",
    "    scores.loc[(scores['gender-categorical']=='Male')&(scores['infreq']==1),'bis'].values\n",
    "))\n",
    "\n",
    "scores.groupby(['infreq','gender-categorical']).bis.mean()"
   ]
  }
 ],
 "metadata": {
  "kernelspec": {
   "display_name": "Python 3",
   "language": "python",
   "name": "python3"
  },
  "language_info": {
   "codemirror_mode": {
    "name": "ipython",
    "version": 3
   },
   "file_extension": ".py",
   "mimetype": "text/x-python",
   "name": "python",
   "nbconvert_exporter": "python",
   "pygments_lexer": "ipython3",
   "version": "3.7.4"
  }
 },
 "nbformat": 4,
 "nbformat_minor": 4
}
