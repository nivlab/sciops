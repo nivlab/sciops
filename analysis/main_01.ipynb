{
 "cells": [
  {
   "cell_type": "markdown",
   "metadata": {},
   "source": [
    "# Main Results 1"
   ]
  },
  {
   "cell_type": "code",
   "execution_count": 1,
   "metadata": {},
   "outputs": [],
   "source": [
    "import os\n",
    "import numpy as np\n",
    "from pandas import read_csv"
   ]
  },
  {
   "cell_type": "markdown",
   "metadata": {},
   "source": [
    "In this notebook, we summarize the findings from our cursory literature review. Specifically, we report the frequency and type of screening methods used in our sample of online behavioral studies."
   ]
  },
  {
   "cell_type": "markdown",
   "metadata": {},
   "source": [
    "## Section 1: Summary Table"
   ]
  },
  {
   "cell_type": "code",
   "execution_count": 2,
   "metadata": {},
   "outputs": [],
   "source": [
    "## Load literature review data.\n",
    "data = read_csv(os.path.join('data', 'literature.tsv'), sep='\\t')"
   ]
  },
  {
   "cell_type": "markdown",
   "metadata": {},
   "source": [
    "#### 1.1 Overall Frequency\n",
    "\n",
    "Below we calculate the overall rates of task-based and self-report-based screening in our sample."
   ]
  },
  {
   "cell_type": "code",
   "execution_count": 3,
   "metadata": {},
   "outputs": [
    {
     "data": {
      "text/html": [
       "<div>\n",
       "<style scoped>\n",
       "    .dataframe tbody tr th:only-of-type {\n",
       "        vertical-align: middle;\n",
       "    }\n",
       "\n",
       "    .dataframe tbody tr th {\n",
       "        vertical-align: top;\n",
       "    }\n",
       "\n",
       "    .dataframe thead th {\n",
       "        text-align: right;\n",
       "    }\n",
       "</style>\n",
       "<table border=\"1\" class=\"dataframe\">\n",
       "  <thead>\n",
       "    <tr style=\"text-align: right;\">\n",
       "      <th></th>\n",
       "      <th>mean</th>\n",
       "      <th>sum</th>\n",
       "      <th>count</th>\n",
       "    </tr>\n",
       "  </thead>\n",
       "  <tbody>\n",
       "    <tr>\n",
       "      <th>survey_screen</th>\n",
       "      <td>0.39</td>\n",
       "      <td>19.0</td>\n",
       "      <td>49.0</td>\n",
       "    </tr>\n",
       "    <tr>\n",
       "      <th>behavior_screening</th>\n",
       "      <td>0.80</td>\n",
       "      <td>39.0</td>\n",
       "      <td>49.0</td>\n",
       "    </tr>\n",
       "  </tbody>\n",
       "</table>\n",
       "</div>"
      ],
      "text/plain": [
       "                    mean   sum  count\n",
       "survey_screen       0.39  19.0   49.0\n",
       "behavior_screening  0.80  39.0   49.0"
      ]
     },
     "execution_count": 3,
     "metadata": {},
     "output_type": "execute_result"
    }
   ],
   "source": [
    "data.filter(regex='screen').agg(['mean','sum','count']).round(2).T"
   ]
  },
  {
   "cell_type": "markdown",
   "metadata": {},
   "source": [
    "#### 1.2 Task Behavior Methods"
   ]
  },
  {
   "cell_type": "code",
   "execution_count": 4,
   "metadata": {},
   "outputs": [
    {
     "data": {
      "text/html": [
       "<div>\n",
       "<style scoped>\n",
       "    .dataframe tbody tr th:only-of-type {\n",
       "        vertical-align: middle;\n",
       "    }\n",
       "\n",
       "    .dataframe tbody tr th {\n",
       "        vertical-align: top;\n",
       "    }\n",
       "\n",
       "    .dataframe thead th {\n",
       "        text-align: right;\n",
       "    }\n",
       "</style>\n",
       "<table border=\"1\" class=\"dataframe\">\n",
       "  <thead>\n",
       "    <tr style=\"text-align: right;\">\n",
       "      <th></th>\n",
       "      <th>mean</th>\n",
       "      <th>sum</th>\n",
       "      <th>count</th>\n",
       "    </tr>\n",
       "  </thead>\n",
       "  <tbody>\n",
       "    <tr>\n",
       "      <th>behavior_accuracy</th>\n",
       "      <td>0.46</td>\n",
       "      <td>18.0</td>\n",
       "      <td>39.0</td>\n",
       "    </tr>\n",
       "    <tr>\n",
       "      <th>behavior_variability</th>\n",
       "      <td>0.38</td>\n",
       "      <td>15.0</td>\n",
       "      <td>39.0</td>\n",
       "    </tr>\n",
       "    <tr>\n",
       "      <th>behavior_rt</th>\n",
       "      <td>0.18</td>\n",
       "      <td>7.0</td>\n",
       "      <td>39.0</td>\n",
       "    </tr>\n",
       "    <tr>\n",
       "      <th>behavior_comprehension</th>\n",
       "      <td>0.13</td>\n",
       "      <td>5.0</td>\n",
       "      <td>39.0</td>\n",
       "    </tr>\n",
       "    <tr>\n",
       "      <th>behavior_other</th>\n",
       "      <td>0.41</td>\n",
       "      <td>16.0</td>\n",
       "      <td>39.0</td>\n",
       "    </tr>\n",
       "  </tbody>\n",
       "</table>\n",
       "</div>"
      ],
      "text/plain": [
       "                        mean   sum  count\n",
       "behavior_accuracy       0.46  18.0   39.0\n",
       "behavior_variability    0.38  15.0   39.0\n",
       "behavior_rt             0.18   7.0   39.0\n",
       "behavior_comprehension  0.13   5.0   39.0\n",
       "behavior_other          0.41  16.0   39.0"
      ]
     },
     "execution_count": 4,
     "metadata": {},
     "output_type": "execute_result"
    }
   ],
   "source": [
    "## Define columns of interest.\n",
    "cols = [\n",
    "    \"behavior_accuracy\",         # screening by fraction of inaccurate responses\n",
    "    \"behavior_variability\",      # screening by lack of behavioral variability\n",
    "    \"behavior_rt\",               # screening by fraction of suspicious RTs\n",
    "    \"behavior_comprehension\",    # screening by comprehension check items\n",
    "    \"behavior_other\"             # screening by other method\n",
    "]\n",
    "\n",
    "## Compute tallies.\n",
    "data.query('behavior_screening==True')[cols].agg(['mean','sum','count']).round(2).T"
   ]
  },
  {
   "cell_type": "markdown",
   "metadata": {},
   "source": [
    "#### 1.3 Self-Report Behavior Methods"
   ]
  },
  {
   "cell_type": "code",
   "execution_count": 5,
   "metadata": {},
   "outputs": [
    {
     "data": {
      "text/html": [
       "<div>\n",
       "<style scoped>\n",
       "    .dataframe tbody tr th:only-of-type {\n",
       "        vertical-align: middle;\n",
       "    }\n",
       "\n",
       "    .dataframe tbody tr th {\n",
       "        vertical-align: top;\n",
       "    }\n",
       "\n",
       "    .dataframe thead th {\n",
       "        text-align: right;\n",
       "    }\n",
       "</style>\n",
       "<table border=\"1\" class=\"dataframe\">\n",
       "  <thead>\n",
       "    <tr style=\"text-align: right;\">\n",
       "      <th></th>\n",
       "      <th>mean</th>\n",
       "      <th>sum</th>\n",
       "      <th>count</th>\n",
       "    </tr>\n",
       "  </thead>\n",
       "  <tbody>\n",
       "    <tr>\n",
       "      <th>behavior_accuracy</th>\n",
       "      <td>0.46</td>\n",
       "      <td>18.0</td>\n",
       "      <td>39.0</td>\n",
       "    </tr>\n",
       "    <tr>\n",
       "      <th>behavior_variability</th>\n",
       "      <td>0.38</td>\n",
       "      <td>15.0</td>\n",
       "      <td>39.0</td>\n",
       "    </tr>\n",
       "    <tr>\n",
       "      <th>behavior_rt</th>\n",
       "      <td>0.18</td>\n",
       "      <td>7.0</td>\n",
       "      <td>39.0</td>\n",
       "    </tr>\n",
       "    <tr>\n",
       "      <th>behavior_comprehension</th>\n",
       "      <td>0.13</td>\n",
       "      <td>5.0</td>\n",
       "      <td>39.0</td>\n",
       "    </tr>\n",
       "    <tr>\n",
       "      <th>behavior_other</th>\n",
       "      <td>0.41</td>\n",
       "      <td>16.0</td>\n",
       "      <td>39.0</td>\n",
       "    </tr>\n",
       "  </tbody>\n",
       "</table>\n",
       "</div>"
      ],
      "text/plain": [
       "                        mean   sum  count\n",
       "behavior_accuracy       0.46  18.0   39.0\n",
       "behavior_variability    0.38  15.0   39.0\n",
       "behavior_rt             0.18   7.0   39.0\n",
       "behavior_comprehension  0.13   5.0   39.0\n",
       "behavior_other          0.41  16.0   39.0"
      ]
     },
     "execution_count": 5,
     "metadata": {},
     "output_type": "execute_result"
    }
   ],
   "source": [
    "## Define columns of interest.\n",
    "cols = [\n",
    "    \"behavior_accuracy\",         # screening by fraction of inaccurate responses\n",
    "    \"behavior_variability\",      # screening by lack of behavioral variability\n",
    "    \"behavior_rt\",               # screening by fraction of suspicious RTs\n",
    "    \"behavior_comprehension\",    # screening by comprehension check items\n",
    "    \"behavior_other\"             # screening by other method\n",
    "]\n",
    "\n",
    "## Compute tallies.\n",
    "data.query('behavior_screening==True')[cols].agg(['mean','sum','count']).round(2).T"
   ]
  },
  {
   "cell_type": "code",
   "execution_count": 6,
   "metadata": {},
   "outputs": [
    {
     "data": {
      "text/html": [
       "<div>\n",
       "<style scoped>\n",
       "    .dataframe tbody tr th:only-of-type {\n",
       "        vertical-align: middle;\n",
       "    }\n",
       "\n",
       "    .dataframe tbody tr th {\n",
       "        vertical-align: top;\n",
       "    }\n",
       "\n",
       "    .dataframe thead th {\n",
       "        text-align: right;\n",
       "    }\n",
       "</style>\n",
       "<table border=\"1\" class=\"dataframe\">\n",
       "  <thead>\n",
       "    <tr style=\"text-align: right;\">\n",
       "      <th></th>\n",
       "      <th>mean</th>\n",
       "      <th>sum</th>\n",
       "      <th>count</th>\n",
       "    </tr>\n",
       "  </thead>\n",
       "  <tbody>\n",
       "    <tr>\n",
       "      <th>survey_attention_check</th>\n",
       "      <td>0.89</td>\n",
       "      <td>17.0</td>\n",
       "      <td>19.0</td>\n",
       "    </tr>\n",
       "    <tr>\n",
       "      <th>survey_attention_check_instructed</th>\n",
       "      <td>0.53</td>\n",
       "      <td>10.0</td>\n",
       "      <td>19.0</td>\n",
       "    </tr>\n",
       "    <tr>\n",
       "      <th>survey_attention_check_unspecified</th>\n",
       "      <td>0.26</td>\n",
       "      <td>5.0</td>\n",
       "      <td>19.0</td>\n",
       "    </tr>\n",
       "    <tr>\n",
       "      <th>survey_unobtrusive</th>\n",
       "      <td>0.21</td>\n",
       "      <td>4.0</td>\n",
       "      <td>19.0</td>\n",
       "    </tr>\n",
       "  </tbody>\n",
       "</table>\n",
       "</div>"
      ],
      "text/plain": [
       "                                    mean   sum  count\n",
       "survey_attention_check              0.89  17.0   19.0\n",
       "survey_attention_check_instructed   0.53  10.0   19.0\n",
       "survey_attention_check_unspecified  0.26   5.0   19.0\n",
       "survey_unobtrusive                  0.21   4.0   19.0"
      ]
     },
     "execution_count": 6,
     "metadata": {},
     "output_type": "execute_result"
    }
   ],
   "source": [
    "## Define columns of interest.\n",
    "cols = [\n",
    "    \"survey_attention_check\",                # screening by attention check (overall)\n",
    "    \"survey_attention_check_instructed\",     # screening by attention check (instructed)\n",
    "    \"survey_attention_check_unspecified\",    # screening by attention check (unspecified)\n",
    "    \"survey_unobtrusive\"                     # screening by statistical method\n",
    "]\n",
    "\n",
    "## Compute tallies.\n",
    "data.query('survey_screen==True')[cols].agg(['mean','sum','count']).round(2).T"
   ]
  }
 ],
 "metadata": {
  "kernelspec": {
   "display_name": "Python 3",
   "language": "python",
   "name": "python3"
  },
  "language_info": {
   "codemirror_mode": {
    "name": "ipython",
    "version": 3
   },
   "file_extension": ".py",
   "mimetype": "text/x-python",
   "name": "python",
   "nbconvert_exporter": "python",
   "pygments_lexer": "ipython3",
   "version": "3.7.4"
  }
 },
 "nbformat": 4,
 "nbformat_minor": 4
}
