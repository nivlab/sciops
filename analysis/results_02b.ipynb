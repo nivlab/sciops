{
 "cells": [
  {
   "cell_type": "markdown",
   "metadata": {},
   "source": [
    "# Results 2b: Similarity Analysis"
   ]
  },
  {
   "cell_type": "code",
   "execution_count": 1,
   "metadata": {},
   "outputs": [],
   "source": [
    "import os\n",
    "import numpy as np\n",
    "import matplotlib.pyplot as plt\n",
    "import seaborn as sns\n",
    "from pandas import read_csv\n",
    "from tqdm import tqdm\n",
    "sns.set_style('white')\n",
    "sns.set_context('notebook', font_scale=1.33)\n",
    "%matplotlib inline"
   ]
  },
  {
   "cell_type": "code",
   "execution_count": 2,
   "metadata": {},
   "outputs": [],
   "source": [
    "## Load reject data.\n",
    "metrics = read_csv(os.path.join('data','metrics.csv'))"
   ]
  },
  {
   "cell_type": "markdown",
   "metadata": {},
   "source": [
    "## Section 1: Proportion of Participants Flagged "
   ]
  },
  {
   "cell_type": "markdown",
   "metadata": {},
   "source": [
    "#### 1.1 Accuracy\n",
    "\n",
    "```python\n",
    "from scipy.stats import binom_test\n",
    "binom_test(38, n=90, p=0.33, alternative='greater')\n",
    "```"
   ]
  },
  {
   "cell_type": "code",
   "execution_count": 3,
   "metadata": {},
   "outputs": [
    {
     "name": "stdout",
     "output_type": "stream",
     "text": [
      "z = 2.224, p = 0.026\n"
     ]
    },
    {
     "data": {
      "text/html": [
       "<div>\n",
       "<style scoped>\n",
       "    .dataframe tbody tr th:only-of-type {\n",
       "        vertical-align: middle;\n",
       "    }\n",
       "\n",
       "    .dataframe tbody tr th {\n",
       "        vertical-align: top;\n",
       "    }\n",
       "\n",
       "    .dataframe thead th {\n",
       "        text-align: right;\n",
       "    }\n",
       "</style>\n",
       "<table border=\"1\" class=\"dataframe\">\n",
       "  <thead>\n",
       "    <tr style=\"text-align: right;\">\n",
       "      <th></th>\n",
       "      <th>mean</th>\n",
       "      <th>sum</th>\n",
       "      <th>count</th>\n",
       "    </tr>\n",
       "    <tr>\n",
       "      <th>platform</th>\n",
       "      <th></th>\n",
       "      <th></th>\n",
       "      <th></th>\n",
       "    </tr>\n",
       "  </thead>\n",
       "  <tbody>\n",
       "    <tr>\n",
       "      <th>mturk</th>\n",
       "      <td>0.10</td>\n",
       "      <td>18.0</td>\n",
       "      <td>186.0</td>\n",
       "    </tr>\n",
       "    <tr>\n",
       "      <th>prolific</th>\n",
       "      <td>0.04</td>\n",
       "      <td>8.0</td>\n",
       "      <td>200.0</td>\n",
       "    </tr>\n",
       "  </tbody>\n",
       "</table>\n",
       "</div>"
      ],
      "text/plain": [
       "          mean   sum  count\n",
       "platform                   \n",
       "mturk     0.10  18.0  186.0\n",
       "prolific  0.04   8.0  200.0"
      ]
     },
     "execution_count": 3,
     "metadata": {},
     "output_type": "execute_result"
    }
   ],
   "source": [
    "from statsmodels.stats.proportion import proportions_ztest\n",
    "\n",
    "## Perform 2-sample proportion test on platform.\n",
    "zval, pval = proportions_ztest([18, 8], [186, 200])\n",
    "print('z = %0.3f, p = %0.3f' %(zval, pval))\n",
    "\n",
    "## Tally failing participants.\n",
    "metrics.groupby('platform').accuracy.agg(\n",
    "    mean = lambda x: (x < 0.38).mean(),\n",
    "    sum = lambda x: (x <0.38).sum(),\n",
    "    count = lambda x: x.size\n",
    ").round(2)"
   ]
  },
  {
   "cell_type": "markdown",
   "metadata": {},
   "source": [
    "#### 2.2 Infrequency Items"
   ]
  },
  {
   "cell_type": "code",
   "execution_count": 4,
   "metadata": {},
   "outputs": [
    {
     "name": "stdout",
     "output_type": "stream",
     "text": [
      "z = 2.223, p = 0.026\n"
     ]
    },
    {
     "data": {
      "text/html": [
       "<div>\n",
       "<style scoped>\n",
       "    .dataframe tbody tr th:only-of-type {\n",
       "        vertical-align: middle;\n",
       "    }\n",
       "\n",
       "    .dataframe tbody tr th {\n",
       "        vertical-align: top;\n",
       "    }\n",
       "\n",
       "    .dataframe thead th {\n",
       "        text-align: right;\n",
       "    }\n",
       "</style>\n",
       "<table border=\"1\" class=\"dataframe\">\n",
       "  <thead>\n",
       "    <tr style=\"text-align: right;\">\n",
       "      <th></th>\n",
       "      <th>mean</th>\n",
       "      <th>sum</th>\n",
       "      <th>count</th>\n",
       "    </tr>\n",
       "    <tr>\n",
       "      <th>platform</th>\n",
       "      <th></th>\n",
       "      <th></th>\n",
       "      <th></th>\n",
       "    </tr>\n",
       "  </thead>\n",
       "  <tbody>\n",
       "    <tr>\n",
       "      <th>mturk</th>\n",
       "      <td>0.27</td>\n",
       "      <td>50</td>\n",
       "      <td>186</td>\n",
       "    </tr>\n",
       "    <tr>\n",
       "      <th>prolific</th>\n",
       "      <td>0.18</td>\n",
       "      <td>35</td>\n",
       "      <td>200</td>\n",
       "    </tr>\n",
       "  </tbody>\n",
       "</table>\n",
       "</div>"
      ],
      "text/plain": [
       "          mean  sum  count\n",
       "platform                  \n",
       "mturk     0.27   50    186\n",
       "prolific  0.18   35    200"
      ]
     },
     "execution_count": 4,
     "metadata": {},
     "output_type": "execute_result"
    }
   ],
   "source": [
    "from statsmodels.stats.proportion import proportions_ztest\n",
    "\n",
    "## Perform 2-sample proportion test on platform.\n",
    "zval, pval = proportions_ztest([50, 35], [186, 200])\n",
    "print('z = %0.3f, p = %0.3f' %(zval, pval))\n",
    "\n",
    "## Tally failing participants.\n",
    "metrics.groupby('platform').infreq.agg(\n",
    "    mean = lambda x: (x > 0).mean(),\n",
    "    sum = lambda x: (x > 0).sum(),\n",
    "    count = lambda x: x.size\n",
    ").round(2)"
   ]
  },
  {
   "cell_type": "markdown",
   "metadata": {},
   "source": [
    "## Section 2: Metric Correspondence"
   ]
  },
  {
   "cell_type": "code",
   "execution_count": 5,
   "metadata": {},
   "outputs": [],
   "source": [
    "## Define variables of interest.\n",
    "cols = ['infreq','isd','reliability','mahalanobis','survey_rt','variability','accuracy','wsls','task_rt']\n",
    "\n",
    "## Precompute lower triangular indices.\n",
    "ix = np.tril_indices(len(cols), k=-1)\n",
    "\n",
    "## Precompute space for results.\n",
    "tril = np.zeros((ix[0].size, 3))\n",
    "fwer = np.zeros((ix[0].size, 3))"
   ]
  },
  {
   "cell_type": "markdown",
   "metadata": {},
   "source": [
    "#### 3.1 Monotonic Dependence (Unthresholded)"
   ]
  },
  {
   "cell_type": "code",
   "execution_count": 6,
   "metadata": {},
   "outputs": [
    {
     "name": "stderr",
     "output_type": "stream",
     "text": [
      "100%|██████████| 5000/5000 [00:27<00:00, 179.36it/s]\n"
     ]
    }
   ],
   "source": [
    "#~~~~~~~~~~~~~~~~~~~~~~~~~~~~~~~~~~~~~~~~~~#\n",
    "### Define parameters.\n",
    "#~~~~~~~~~~~~~~~~~~~~~~~~~~~~~~~~~~~~~~~~~~#\n",
    "\n",
    "## Define number of permutations.\n",
    "n_iter = 5000\n",
    "\n",
    "#~~~~~~~~~~~~~~~~~~~~~~~~~~~~~~~~~~~~~~~~~~#\n",
    "### Permutation testing.\n",
    "#~~~~~~~~~~~~~~~~~~~~~~~~~~~~~~~~~~~~~~~~~~#\n",
    "np.random.seed(47404)\n",
    "\n",
    "## Compute and store true lower diagonal.\n",
    "tril[:,0] = metrics[cols].corr(method='spearman').values[ix]\n",
    "\n",
    "## Preallocate space.\n",
    "max_rho = np.zeros(n_iter)\n",
    "\n",
    "## Main loop.\n",
    "for i in tqdm(range(n_iter)):\n",
    "    \n",
    "    ## Permute DataFrame.\n",
    "    permuted = metrics[cols].apply(np.random.permutation).copy()\n",
    "    \n",
    "    ## Compute correlation matrix.\n",
    "    permuted = permuted.corr(method='spearman').values[ix]\n",
    "    \n",
    "    ## Store.\n",
    "    max_rho[i] = np.abs(permuted).max()\n",
    "    \n",
    "## Compute adjusted p-values.\n",
    "fwer[:,0] = ((np.abs(tril[:,0]) <= max_rho[:,np.newaxis]).sum(axis=0) + 1) / n_iter"
   ]
  },
  {
   "cell_type": "markdown",
   "metadata": {},
   "source": [
    "#### 3.2 Rejection Similarity (Thresohold = 25%) "
   ]
  },
  {
   "cell_type": "code",
   "execution_count": 7,
   "metadata": {},
   "outputs": [
    {
     "name": "stderr",
     "output_type": "stream",
     "text": [
      "100%|██████████| 5000/5000 [00:39<00:00, 125.88it/s]\n"
     ]
    }
   ],
   "source": [
    "from scipy.spatial.distance import dice\n",
    "\n",
    "#~~~~~~~~~~~~~~~~~~~~~~~~~~~~~~~~~~~~~~~~~~#\n",
    "### Define parameters.\n",
    "#~~~~~~~~~~~~~~~~~~~~~~~~~~~~~~~~~~~~~~~~~~#\n",
    "\n",
    "## Define quantile.\n",
    "q = 0.25\n",
    "\n",
    "## Define number of permutations.\n",
    "n_iter = 5000\n",
    "\n",
    "#~~~~~~~~~~~~~~~~~~~~~~~~~~~~~~~~~~~~~~~~~~#\n",
    "### Threshold parameters. \n",
    "#~~~~~~~~~~~~~~~~~~~~~~~~~~~~~~~~~~~~~~~~~~#\n",
    "\n",
    "## Copy reject DataFrame.\n",
    "thresh = metrics[cols].copy()\n",
    "\n",
    "## Threshold variables.\n",
    "thresh['infreq'] = np.where( thresh['infreq'] > 0, 1, 0 )\n",
    "thresh['isd'] = np.where( thresh['isd'] > thresh['isd'].quantile(1-q), 1, 0 )\n",
    "thresh['reliability'] = np.where( thresh['reliability'] < thresh['reliability'].quantile(q), 1, 0 )\n",
    "thresh['mahalanobis'] = np.where( thresh['mahalanobis'] > thresh['mahalanobis'].quantile(1-q), 1, 0 )\n",
    "thresh['survey_rt'] = np.where( thresh['survey_rt'] < thresh['survey_rt'].quantile(q), 1, 0 )\n",
    "thresh['variability'] = np.where( thresh['variability'] > thresh['variability'].quantile(1-q), 1, 0 )\n",
    "thresh['accuracy'] = np.where( thresh['accuracy'] < thresh['accuracy'].quantile(q), 1, 0 )\n",
    "thresh['wsls'] = np.where( thresh['wsls'] < thresh['wsls'].quantile(q), 1, 0 )\n",
    "thresh['task_rt'] = np.where( thresh['task_rt'] > thresh['task_rt'].quantile(1-q), 1, 0 )\n",
    "\n",
    "#~~~~~~~~~~~~~~~~~~~~~~~~~~~~~~~~~~~~~~~~~~#\n",
    "### Permutation testing.\n",
    "#~~~~~~~~~~~~~~~~~~~~~~~~~~~~~~~~~~~~~~~~~~#\n",
    "np.random.seed(47404)\n",
    "\n",
    "## Compute and store true lower diagonal.\n",
    "tril[:,1] = 1 - thresh[cols].corr(method=dice).values[ix]\n",
    "\n",
    "## Preallocate space.\n",
    "max_rho = np.zeros(n_iter)\n",
    "\n",
    "## Main loop.\n",
    "for i in tqdm(range(n_iter)):\n",
    "    \n",
    "    ## Permute DataFrame.\n",
    "    permuted = thresh[cols].apply(np.random.permutation).copy()\n",
    "    \n",
    "    ## Compute correlation matrix.\n",
    "    permuted = 1 - permuted.corr(method=dice).values[ix]\n",
    "    \n",
    "    ## Store.\n",
    "    max_rho[i] = np.abs(permuted).max()\n",
    "    \n",
    "## Compute adjusted p-values.\n",
    "fwer[:,1] = ((np.abs(tril[:,1]) <= max_rho[:,np.newaxis]).sum(axis=0) + 1) / n_iter"
   ]
  },
  {
   "cell_type": "markdown",
   "metadata": {},
   "source": [
    "#### 3.3 Rejection Similarity (Thresohold = 10%) "
   ]
  },
  {
   "cell_type": "code",
   "execution_count": 8,
   "metadata": {},
   "outputs": [
    {
     "name": "stderr",
     "output_type": "stream",
     "text": [
      "100%|██████████| 5000/5000 [00:39<00:00, 127.72it/s]\n"
     ]
    }
   ],
   "source": [
    "from scipy.spatial.distance import dice\n",
    "\n",
    "#~~~~~~~~~~~~~~~~~~~~~~~~~~~~~~~~~~~~~~~~~~#\n",
    "### Define parameters.\n",
    "#~~~~~~~~~~~~~~~~~~~~~~~~~~~~~~~~~~~~~~~~~~#\n",
    "\n",
    "## Define quantile.\n",
    "q = 0.10\n",
    "\n",
    "## Define number of permutations.\n",
    "n_iter = 5000\n",
    "\n",
    "#~~~~~~~~~~~~~~~~~~~~~~~~~~~~~~~~~~~~~~~~~~#\n",
    "### Threshold parameters. \n",
    "#~~~~~~~~~~~~~~~~~~~~~~~~~~~~~~~~~~~~~~~~~~#\n",
    "\n",
    "## Copy reject DataFrame.\n",
    "thresh = metrics[cols].copy()\n",
    "\n",
    "## Threshold variables.\n",
    "thresh['infreq'] = np.where( thresh['infreq'] > 0, 1, 0 )\n",
    "thresh['isd'] = np.where( thresh['isd'] > thresh['isd'].quantile(1-q), 1, 0 )\n",
    "thresh['reliability'] = np.where( thresh['reliability'] < thresh['reliability'].quantile(q), 1, 0 )\n",
    "thresh['mahalanobis'] = np.where( thresh['mahalanobis'] > thresh['mahalanobis'].quantile(1-q), 1, 0 )\n",
    "thresh['survey_rt'] = np.where( thresh['survey_rt'] < thresh['survey_rt'].quantile(q), 1, 0 )\n",
    "thresh['variability'] = np.where( thresh['variability'] > thresh['variability'].quantile(1-q), 1, 0 )\n",
    "thresh['accuracy'] = np.where( thresh['accuracy'] < thresh['accuracy'].quantile(q), 1, 0 )\n",
    "thresh['wsls'] = np.where( thresh['wsls'] < thresh['wsls'].quantile(q), 1, 0 )\n",
    "thresh['task_rt'] = np.where( thresh['task_rt'] > thresh['task_rt'].quantile(1-q), 1, 0 )\n",
    "\n",
    "#~~~~~~~~~~~~~~~~~~~~~~~~~~~~~~~~~~~~~~~~~~#\n",
    "### Permutation testing.\n",
    "#~~~~~~~~~~~~~~~~~~~~~~~~~~~~~~~~~~~~~~~~~~#\n",
    "np.random.seed(47404)\n",
    "\n",
    "## Compute and store true lower diagonal.\n",
    "tril[:,2] = 1 - thresh[cols].corr(method=dice).values[ix]\n",
    "\n",
    "## Preallocate space.\n",
    "max_rho = np.zeros(n_iter)\n",
    "\n",
    "## Main loop.\n",
    "for i in tqdm(range(n_iter)):\n",
    "    \n",
    "    ## Permute DataFrame.\n",
    "    permuted = thresh[cols].apply(np.random.permutation).copy()\n",
    "    \n",
    "    ## Compute correlation matrix.\n",
    "    permuted = 1 - permuted.corr(method=dice).values[ix]\n",
    "    \n",
    "    ## Store.\n",
    "    max_rho[i] = np.abs(permuted).max()\n",
    "    \n",
    "## Compute adjusted p-values.\n",
    "fwer[:,2] = ((np.abs(tril[:,2]) <= max_rho[:,np.newaxis]).sum(axis=0) + 1) / (n_iter + 1)"
   ]
  },
  {
   "cell_type": "markdown",
   "metadata": {},
   "source": [
    "## Section 3: Plotting"
   ]
  },
  {
   "cell_type": "markdown",
   "metadata": {},
   "source": [
    "https://stats.stackexchange.com/questions/9918/how-to-compute-correlation-between-within-groups-of-variables"
   ]
  },
  {
   "cell_type": "code",
   "execution_count": 11,
   "metadata": {},
   "outputs": [
    {
     "data": {
      "image/png": "[encoded data removed]",
      "text/plain": [
       "<Figure size 576x576 with 3 Axes>"
      ]
     },
     "metadata": {
      "needs_background": "light"
     },
     "output_type": "display_data"
    }
   ],
   "source": [
    "import matplotlib.gridspec as gridspec\n",
    "from matplotlib.colors import ListedColormap\n",
    "\n",
    "## Initialize canvas.\n",
    "fig = plt.figure(figsize=(8,8))\n",
    "cmap = ListedColormap(['#de425b','0.95','#67a9cf'])\n",
    "                     \n",
    "titles = ['Spearman Correlation', 'Dice Similarity (Top 25%)', 'Dice Similarity (Top 10%)']\n",
    "labels = ['INF','ISD','REL','MAH','READ','VAR','ACC','WSLS','RT']\n",
    "    \n",
    "## Initialize grid.\n",
    "gs = fig.add_gridspec(nrows=2, ncols=2, wspace=0.1, hspace=0.1)\n",
    "\n",
    "## Initialize correlation matrix.\n",
    "corr = np.zeros((8,10))\n",
    "corr[np.tril_indices_from(corr, k=0)] = np.where(fwer[:,0] < 0.05, tril[:,0], 0)\n",
    "\n",
    "#~~~~~~~~~~~~~~~~~~~~~~~~~~~~~~~~~~~~~~~~~~#\n",
    "### Self-report correlations.\n",
    "#~~~~~~~~~~~~~~~~~~~~~~~~~~~~~~~~~~~~~~~~~~#\n",
    "\n",
    "## Initialize axis.\n",
    "ax = plt.subplot(gs[0,0])\n",
    "\n",
    "## Plot correlations.\n",
    "arr = corr[:4,:5]\n",
    "sns.heatmap(np.abs(np.sign(arr)), cmap=cmap, cbar=False, center=0, linecolor='w', linewidths=1, \n",
    "            xticklabels=[], mask=np.triu(np.ones_like(arr), k=1), ax=ax)\n",
    "\n",
    "## Add annotations.\n",
    "for i, j in np.array(np.where(arr)).T:\n",
    "    ax.text(j+0.5, i+0.5, '%0.2f' %arr[i,j], ha='center', va='center', fontsize=15)\n",
    "\n",
    "# ## Add borders.\n",
    "# ax.hlines([-0.1,4.1], -0.1, 4.1, linestyle='--', color='0.5')\n",
    "# ax.vlines([-0.1,4.1], -0.1, 4.1, linestyle='--', color='0.5')\n",
    "\n",
    "# ## Add details.\n",
    "# ax.set(xlim=(-0.2,4.2), ylim=(-0.2,4.2))\n",
    "# ax.invert_yaxis()\n",
    "    \n",
    "#~~~~~~~~~~~~~~~~~~~~~~~~~~~~~~~~~~~~~~~~~~#\n",
    "### Self-report correlations.\n",
    "#~~~~~~~~~~~~~~~~~~~~~~~~~~~~~~~~~~~~~~~~~~#\n",
    "\n",
    "## Initialize axis.\n",
    "ax = plt.subplot(gs[1,0])\n",
    "\n",
    "## Plot correlations.\n",
    "arr = corr[4:,:5]\n",
    "sns.heatmap(np.abs(np.sign(arr)), cmap=cmap, cbar=False, center=0, linecolor='w', linewidths=1, \n",
    "            xticklabels=[], ax=ax)\n",
    "\n",
    "## Add annotations.\n",
    "for i, j in np.array(np.where(arr)).T:\n",
    "    ax.text(j+0.5, i+0.5, '%0.2f' %arr[i,j], ha='center', va='center', fontsize=15)\n",
    "\n",
    "# ## Add borders.\n",
    "# ax.hlines([-0.1,4.1], -0.1, 5.1, linestyle='--', color='0.5')\n",
    "# ax.vlines([-0.1,5.1], -0.1, 4.1, linestyle='--', color='0.5')\n",
    "\n",
    "# ## Add details.\n",
    "# ax.set(xlim=(-0.2,5.2), ylim=(-0.2,4.2))\n",
    "# ax.invert_yaxis()\n",
    "\n",
    "#~~~~~~~~~~~~~~~~~~~~~~~~~~~~~~~~~~~~~~~~~~#\n",
    "### Self-report correlations.\n",
    "#~~~~~~~~~~~~~~~~~~~~~~~~~~~~~~~~~~~~~~~~~~#\n",
    "\n",
    "## Initialize axis.\n",
    "ax = plt.subplot(gs[1,1])\n",
    "\n",
    "## Plot correlations.\n",
    "arr = corr[4:,5:]\n",
    "sns.heatmap(np.abs(np.sign(arr)), cmap=cmap, cbar=False, center=0, linecolor='w', linewidths=1,\n",
    "            xticklabels=[], yticklabels=[], mask=np.triu(np.ones_like(arr), k=0), ax=ax)\n",
    "\n",
    "## Add annotations.\n",
    "for i, j in np.array(np.where(arr)).T:\n",
    "    ax.text(j+0.5, i+0.5, '%0.2f' %arr[i,j], ha='center', va='center', fontsize=15)\n",
    "\n",
    "# ## Add borders.\n",
    "# ax.hlines([-0.1,4.1], -0.1, 5.1, linestyle='--', color='0.5')\n",
    "# ax.vlines([-0.1,5.1], -0.1, 4.1, linestyle='--', color='0.5')\n",
    "\n",
    "# ## Add details.\n",
    "# ax.set(xlim=(-0.2,5.2), ylim=(-0.2,4.2))\n",
    "# ax.invert_yaxis()"
   ]
  },
  {
   "cell_type": "code",
   "execution_count": null,
   "metadata": {},
   "outputs": [],
   "source": []
  }
 ],
 "metadata": {
  "kernelspec": {
   "display_name": "Python 3",
   "language": "python",
   "name": "python3"
  },
  "language_info": {
   "codemirror_mode": {
    "name": "ipython",
    "version": 3
   },
   "file_extension": ".py",
   "mimetype": "text/x-python",
   "name": "python",
   "nbconvert_exporter": "python",
   "pygments_lexer": "ipython3",
   "version": "3.7.9"
  }
 },
 "nbformat": 4,
 "nbformat_minor": 4
}
