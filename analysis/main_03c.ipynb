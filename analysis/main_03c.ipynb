{
 "cells": [
  {
   "cell_type": "code",
   "execution_count": 1,
   "metadata": {},
   "outputs": [],
   "source": [
    "import os\n",
    "import numpy as np\n",
    "import matplotlib.pyplot as plt\n",
    "import matplotlib.gridspec as gridspec\n",
    "import seaborn as sns\n",
    "from pandas import read_csv\n",
    "from tqdm import tqdm\n",
    "sns.set_style('white')\n",
    "sns.set_context('notebook', font_scale=1.33)\n",
    "%matplotlib inline"
   ]
  },
  {
   "cell_type": "code",
   "execution_count": 2,
   "metadata": {},
   "outputs": [],
   "source": [
    "#~~~~~~~~~~~~~~~~~~~~~~~~~~~~~~~~~~~~~~~~~~#\n",
    "### Define parameters.\n",
    "#~~~~~~~~~~~~~~~~~~~~~~~~~~~~~~~~~~~~~~~~~~#\n",
    "\n",
    "## Define subscales.\n",
    "subscales = {\n",
    "    '7u':    ['7u7d-q01','7u7d-q03','7u7d-q04','7u7d-q06','7u7d-q07','7u7d-q08','7u7d-q13'],\n",
    "    '7d':    ['7u7d-q02','7u7d-q05','7u7d-q09','7u7d-q10','7u7d-q11','7u7d-q12','7u7d-q14'],\n",
    "    'gad7':  ['gad7-q01','gad7-q02','gad7-q03','gad7-q04','gad7-q05','gad7-q06','gad7-q07'],\n",
    "    'bis':   ['bisbas-q01','bisbas-q02','bisbas-q03','bisbas-q04'],\n",
    "    'bas':   ['bisbas-q05','bisbas-q06','bisbas-q07','bisbas-q08',\n",
    "              'bisbas-q09','bisbas-q10','bisbas-q11','bisbas-q12'],\n",
    "    'shaps': ['shaps-q01','shaps-q02','shaps-q03','shaps-q04','shaps-q05',\n",
    "              'shaps-q06','shaps-q07','shaps-q08','shaps-q09','shaps-q10',\n",
    "              'shaps-q11','shaps-q12','shaps-q13','shaps-q14'],\n",
    "}\n",
    "\n",
    "#~~~~~~~~~~~~~~~~~~~~~~~~~~~~~~~~~~~~~~~~~~#\n",
    "### Load and prepare data.\n",
    "#~~~~~~~~~~~~~~~~~~~~~~~~~~~~~~~~~~~~~~~~~~#\n",
    "\n",
    "## Load reject data.\n",
    "reject = read_csv(os.path.join('data','reject.csv'))\n",
    "\n",
    "## Load survey data.\n",
    "surveys = read_csv(os.path.join('data','surveys.csv'))\n",
    "\n",
    "## Restrict participants.\n",
    "surveys = surveys.loc[surveys.subject.isin(reject.subject)]\n",
    "\n",
    "## Iteratively compute sum scores.\n",
    "for i, (k, v) in enumerate(subscales.items()):\n",
    "    if k == 'shaps': surveys[v] = np.where(surveys[v] < 2, 1, 0)\n",
    "    surveys[k] = surveys[v].sum(axis=1)\n",
    "    \n",
    "## Merge infrequency items.\n",
    "surveys = surveys.merge(reject[['platform','subject','infreq']])\n",
    "surveys['infreq'] = np.where(surveys['infreq'], 1, 0)\n",
    "\n",
    "## Restrict survey to valid items.\n",
    "items = surveys[['platform','subject','infreq']+np.concatenate([*subscales.values()]).tolist()]\n",
    "\n",
    "## Melt DataFrame.\n",
    "scores = surveys[['platform','subject','infreq']+list(subscales.keys())]\n",
    "\n",
    "metadata = read_csv('data/metadata.csv')\n",
    "scores = scores.merge(metadata[['platform','subject','gender-categorical']])"
   ]
  },
  {
   "cell_type": "markdown",
   "metadata": {},
   "source": [
    "## 7 up - 7 down"
   ]
  },
  {
   "cell_type": "code",
   "execution_count": 3,
   "metadata": {},
   "outputs": [
    {
     "name": "stdout",
     "output_type": "stream",
     "text": [
      "5.253886010362694\n",
      "6.05699481865285\n"
     ]
    }
   ],
   "source": [
    "print(scores['7u'].mean())\n",
    "print(scores['7d'].mean())"
   ]
  },
  {
   "cell_type": "code",
   "execution_count": 4,
   "metadata": {},
   "outputs": [
    {
     "name": "stdout",
     "output_type": "stream",
     "text": [
      "3.870431893687708\n",
      "4.750830564784053\n"
     ]
    }
   ],
   "source": [
    "print(scores.query('infreq==0')['7u'].mean())\n",
    "print(scores.query('infreq==0')['7d'].mean())\n"
   ]
  },
  {
   "cell_type": "code",
   "execution_count": 5,
   "metadata": {},
   "outputs": [
    {
     "name": "stdout",
     "output_type": "stream",
     "text": [
      "0.28756476683937826\n",
      "0.16943521594684385\n"
     ]
    }
   ],
   "source": [
    "print((scores['7u'] > 7.3).mean())\n",
    "print((scores.query('infreq==0')['7u'] > 7.3).mean())"
   ]
  },
  {
   "cell_type": "code",
   "execution_count": 6,
   "metadata": {},
   "outputs": [
    {
     "name": "stdout",
     "output_type": "stream",
     "text": [
      "0.23316062176165803\n",
      "0.1362126245847176\n"
     ]
    }
   ],
   "source": [
    "print((scores['7d'] > 10.25).mean())\n",
    "print((scores.query('infreq==0')['7d'] > 10).mean())"
   ]
  },
  {
   "cell_type": "markdown",
   "metadata": {},
   "source": [
    "## GAD-7"
   ]
  },
  {
   "cell_type": "code",
   "execution_count": 7,
   "metadata": {},
   "outputs": [
    {
     "data": {
      "text/plain": [
       "gender-categorical\n",
       "Female     6.225641\n",
       "Male       5.521277\n",
       "Other     13.000000\n",
       "Name: gad7, dtype: float64"
      ]
     },
     "execution_count": 7,
     "metadata": {},
     "output_type": "execute_result"
    }
   ],
   "source": [
    "scores.groupby('gender-categorical').gad7.mean()"
   ]
  },
  {
   "cell_type": "code",
   "execution_count": 8,
   "metadata": {},
   "outputs": [
    {
     "data": {
      "text/plain": [
       "gender-categorical\n",
       "Female     5.723270\n",
       "Male       3.822695\n",
       "Other     15.000000\n",
       "Name: gad7, dtype: float64"
      ]
     },
     "execution_count": 8,
     "metadata": {},
     "output_type": "execute_result"
    }
   ],
   "source": [
    "scores.query('infreq==0').groupby('gender-categorical').gad7.mean()"
   ]
  },
  {
   "cell_type": "code",
   "execution_count": 9,
   "metadata": {},
   "outputs": [
    {
     "data": {
      "text/plain": [
       "0.21243523316062177"
      ]
     },
     "execution_count": 9,
     "metadata": {},
     "output_type": "execute_result"
    }
   ],
   "source": [
    "(scores.gad7 > 10).mean()"
   ]
  },
  {
   "cell_type": "code",
   "execution_count": 10,
   "metadata": {},
   "outputs": [
    {
     "data": {
      "text/plain": [
       "0.1362126245847176"
      ]
     },
     "execution_count": 10,
     "metadata": {},
     "output_type": "execute_result"
    }
   ],
   "source": [
    "(scores.query('infreq==0').gad7 > 10).mean()"
   ]
  },
  {
   "cell_type": "markdown",
   "metadata": {},
   "source": [
    "## SHAPS"
   ]
  },
  {
   "cell_type": "code",
   "execution_count": 11,
   "metadata": {},
   "outputs": [
    {
     "data": {
      "text/plain": [
       "1.0699481865284974"
      ]
     },
     "execution_count": 11,
     "metadata": {},
     "output_type": "execute_result"
    }
   ],
   "source": [
    "scores.shaps.mean()"
   ]
  },
  {
   "cell_type": "code",
   "execution_count": 12,
   "metadata": {},
   "outputs": [
    {
     "name": "stdout",
     "output_type": "stream",
     "text": [
      "0.867109634551495\n"
     ]
    }
   ],
   "source": [
    "print(scores.query('infreq==0').shaps.mean())"
   ]
  },
  {
   "cell_type": "code",
   "execution_count": 13,
   "metadata": {},
   "outputs": [
    {
     "data": {
      "text/plain": [
       "0.17875647668393782"
      ]
     },
     "execution_count": 13,
     "metadata": {},
     "output_type": "execute_result"
    }
   ],
   "source": [
    "(scores.shaps > 2).mean()"
   ]
  },
  {
   "cell_type": "code",
   "execution_count": 14,
   "metadata": {},
   "outputs": [
    {
     "data": {
      "text/plain": [
       "0.1461794019933555"
      ]
     },
     "execution_count": 14,
     "metadata": {},
     "output_type": "execute_result"
    }
   ],
   "source": [
    "(scores.query('infreq==0').shaps > 2).mean()"
   ]
  },
  {
   "cell_type": "code",
   "execution_count": 15,
   "metadata": {},
   "outputs": [
    {
     "data": {
      "text/plain": [
       "<matplotlib.axes._subplots.AxesSubplot at 0x7fc769f91310>"
      ]
     },
     "execution_count": 15,
     "metadata": {},
     "output_type": "execute_result"
    },
    {
     "data": {
      "image/png": "[encoded data removed]",
      "text/plain": [
       "<Figure size 432x288 with 1 Axes>"
      ]
     },
     "metadata": {
      "needs_background": "light"
     },
     "output_type": "display_data"
    }
   ],
   "source": [
    "sns.stripplot(x='7d', y='shaps', hue='infreq', data=scores)"
   ]
  },
  {
   "cell_type": "code",
   "execution_count": null,
   "metadata": {},
   "outputs": [],
   "source": []
  }
 ],
 "metadata": {
  "kernelspec": {
   "display_name": "Python 3",
   "language": "python",
   "name": "python3"
  },
  "language_info": {
   "codemirror_mode": {
    "name": "ipython",
    "version": 3
   },
   "file_extension": ".py",
   "mimetype": "text/x-python",
   "name": "python",
   "nbconvert_exporter": "python",
   "pygments_lexer": "ipython3",
   "version": "3.7.4"
  }
 },
 "nbformat": 4,
 "nbformat_minor": 4
}
