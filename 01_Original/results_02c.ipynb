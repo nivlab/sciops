{
 "cells": [
  {
   "cell_type": "markdown",
   "metadata": {},
   "source": [
    "# Results 2c: Metric Validation"
   ]
  },
  {
   "cell_type": "code",
   "execution_count": 1,
   "metadata": {},
   "outputs": [],
   "source": [
    "import os\n",
    "import numpy as np\n",
    "from pandas import read_csv\n",
    "from tqdm import tqdm"
   ]
  },
  {
   "cell_type": "markdown",
   "metadata": {},
   "source": [
    "## Section 1: Load and prepare data"
   ]
  },
  {
   "cell_type": "code",
   "execution_count": 2,
   "metadata": {},
   "outputs": [],
   "source": [
    "#~~~~~~~~~~~~~~~~~~~~~~~~~~~~~~~~~~~~~~~~~~#\n",
    "### Load and prepare data.\n",
    "#~~~~~~~~~~~~~~~~~~~~~~~~~~~~~~~~~~~~~~~~~~#\n",
    "\n",
    "## Load data.\n",
    "scores = read_csv(os.path.join('data','scores.csv'))\n",
    "items = read_csv(os.path.join('data','items.csv'))\n",
    "\n",
    "## Restrict participants.\n",
    "metrics = read_csv(os.path.join('data', 'metrics.csv'))\n",
    "scores = scores[scores.subject.isin(metrics.subject)].reset_index(drop=True)\n",
    "items = items[items.subject.isin(metrics.subject)].reset_index(drop=True)\n",
    "\n",
    "## Merge DataFrames.\n",
    "data = items.merge(scores).merge(metrics[['platform','subject','infreq']])\n",
    "\n",
    "## Re-format infrequency.\n",
    "data['infreq'] = np.where(data['infreq'] > 0, 1, 0)\n",
    "\n",
    "## Compute binarized SHAPS scores.\n",
    "data['shaps_binarized'] = np.where(data.filter(regex='shaps_') >= 2, 1, 0).sum(axis=1)"
   ]
  },
  {
   "cell_type": "markdown",
   "metadata": {},
   "source": [
    "## Section 2: Total Symptom Scores"
   ]
  },
  {
   "cell_type": "code",
   "execution_count": 3,
   "metadata": {},
   "outputs": [
    {
     "name": "stderr",
     "output_type": "stream",
     "text": [
      "100%|██████████| 5000/5000 [00:33<00:00, 149.27it/s]"
     ]
    },
    {
     "name": "stdout",
     "output_type": "stream",
     "text": [
      "7u\t tval = -13.312\tpval = 0.000\n",
      "7d\t tval = -9.987\tpval = 0.000\n",
      "gad7\t tval = -7.881\tpval = 0.000\n",
      "bis\t tval = -0.542\tpval = 0.612\n",
      "bas\t tval = -0.912\tpval = 0.357\n",
      "shaps\t tval = -4.043\tpval = 0.000\n",
      "pswq\t tval = -4.784\tpval = 0.000\n"
     ]
    },
    {
     "name": "stderr",
     "output_type": "stream",
     "text": [
      "\n"
     ]
    }
   ],
   "source": [
    "from scipy.stats import ttest_ind\n",
    "from numba import njit\n",
    "\n",
    "#~~~~~~~~~~~~~~~~~~~~~~~~~~~~~~~~~~~~~~~~~~#\n",
    "### Define parameters.\n",
    "#~~~~~~~~~~~~~~~~~~~~~~~~~~~~~~~~~~~~~~~~~~#\n",
    "\n",
    "## Define subscales.\n",
    "order = ['7u','7d','gad7','bis','bas','shaps','pswq']\n",
    "\n",
    "## Define number of permutations.\n",
    "n_iter = 5000\n",
    "\n",
    "#~~~~~~~~~~~~~~~~~~~~~~~~~~~~~~~~~~~~~~~~~~#\n",
    "### Compute observed statistics.\n",
    "#~~~~~~~~~~~~~~~~~~~~~~~~~~~~~~~~~~~~~~~~~~#\n",
    "\n",
    "## Preallocate space.\n",
    "tvals, pvals = np.zeros((2,len(order)))\n",
    "\n",
    "## Iteratively compute test statistics.\n",
    "for i, col in enumerate(order):\n",
    "    tvals[i], _ = ttest_ind(data.loc[data.infreq==0, col], data.loc[data.infreq==1, col])\n",
    "    \n",
    "#~~~~~~~~~~~~~~~~~~~~~~~~~~~~~~~~~~~~~~~~~~#\n",
    "### Permutation testing.\n",
    "#~~~~~~~~~~~~~~~~~~~~~~~~~~~~~~~~~~~~~~~~~~#\n",
    "np.random.seed(47404)\n",
    "\n",
    "## Preallocate space\n",
    "null_tvals = np.zeros((n_iter, len(order)))\n",
    "\n",
    "## Main loop.\n",
    "permuted = data.copy()\n",
    "for n in tqdm(range(n_iter)):\n",
    "    \n",
    "    ## Permute rows of infrequncy score.\n",
    "    permuted.infreq = np.random.permutation(permuted.infreq)\n",
    "    \n",
    "    ## Iteratively compute test statistics.\n",
    "    for i, col in enumerate(order):\n",
    "        null_tvals[n,i], _ = ttest_ind(permuted.loc[permuted.infreq==0, col], \n",
    "                                       permuted.loc[permuted.infreq==1, col])\n",
    "        \n",
    "## Compute p-values.\n",
    "for i in range(len(order)):\n",
    "    pvals[i] = ((np.abs(tvals[i]) <= np.abs(null_tvals[:,i])).sum() + 1) / (n_iter + 1)\n",
    "    \n",
    "#~~~~~~~~~~~~~~~~~~~~~~~~~~~~~~~~~~~~~~~~~~#\n",
    "### Report statistics.\n",
    "#~~~~~~~~~~~~~~~~~~~~~~~~~~~~~~~~~~~~~~~~~~#\n",
    "\n",
    "for i, col in enumerate(order):\n",
    "    print('%s\\t tval = %0.3f\\tpval = %0.3f' %(col, tvals[i], pvals[i]))"
   ]
  },
  {
   "cell_type": "markdown",
   "metadata": {},
   "source": [
    "## Section 3: Cronbach's Alpha"
   ]
  },
  {
   "cell_type": "code",
   "execution_count": 4,
   "metadata": {},
   "outputs": [
    {
     "name": "stderr",
     "output_type": "stream",
     "text": [
      "100%|██████████| 5000/5000 [01:14<00:00, 67.22it/s]"
     ]
    },
    {
     "name": "stdout",
     "output_type": "stream",
     "text": [
      "Attentive: [0.836 0.937 0.924 0.83  0.843 0.904 0.934]\n",
      "Careless: [0.838 0.882 0.872 0.624 0.712 0.812 0.807]\n",
      "t(6) = 3.689, p = 0.021, d = 1.506, 95% CI = [0.048, 0.141]\n"
     ]
    },
    {
     "name": "stderr",
     "output_type": "stream",
     "text": [
      "\n"
     ]
    }
   ],
   "source": [
    "from scipy.stats import ttest_rel\n",
    "from numba import njit\n",
    "\n",
    "#~~~~~~~~~~~~~~~~~~~~~~~~~~~~~~~~~~~~~~~~~~#\n",
    "### Define parameters.\n",
    "#~~~~~~~~~~~~~~~~~~~~~~~~~~~~~~~~~~~~~~~~~~#\n",
    "\n",
    "## Define subscales.\n",
    "order = ['7u','7d','gad7','bis','bas','shaps','pswq']\n",
    "\n",
    "## Define number of permutations.\n",
    "n_iter = 5000\n",
    "\n",
    "#~~~~~~~~~~~~~~~~~~~~~~~~~~~~~~~~~~~~~~~~~~#\n",
    "### Define useful functions.\n",
    "#~~~~~~~~~~~~~~~~~~~~~~~~~~~~~~~~~~~~~~~~~~#\n",
    "\n",
    "@njit\n",
    "def cronbach_alpha(X):\n",
    "    \"Estimate Cronbach's alpha for X, [n_obs, n_features]\"\n",
    "    n, k = X.shape\n",
    "    C = np.cov(X.T)\n",
    "    return (k / (k - 1)) * (1 - np.trace(C) / np.sum(C))\n",
    "\n",
    "#~~~~~~~~~~~~~~~~~~~~~~~~~~~~~~~~~~~~~~~~~~#\n",
    "### Compute observed statistics.\n",
    "#~~~~~~~~~~~~~~~~~~~~~~~~~~~~~~~~~~~~~~~~~~#\n",
    "\n",
    "## Preallocate space.\n",
    "alpha_0 = np.zeros(len(order))\n",
    "alpha_1 = np.zeros(len(order))\n",
    "\n",
    "## Iteratively compute Cronbach's alpha.\n",
    "for i, subscale in enumerate(order):\n",
    "    cols = items.filter(regex=f'{subscale}_').columns\n",
    "    alpha_0[i] = cronbach_alpha(data.loc[data.infreq==0,cols].values)\n",
    "    alpha_1[i] = cronbach_alpha(data.loc[data.infreq==1,cols].values)\n",
    "    \n",
    "## Compute test statistic.\n",
    "tval, _ = ttest_rel(alpha_0, alpha_1)\n",
    "\n",
    "#~~~~~~~~~~~~~~~~~~~~~~~~~~~~~~~~~~~~~~~~~~#\n",
    "### Permutation testing.\n",
    "#~~~~~~~~~~~~~~~~~~~~~~~~~~~~~~~~~~~~~~~~~~#\n",
    "np.random.seed(47404)\n",
    "\n",
    "## Preallocate space\n",
    "null_tvals = np.zeros(n_iter)\n",
    "\n",
    "## Main loop.\n",
    "permuted = data.copy()\n",
    "for n in tqdm(range(n_iter)):\n",
    "    \n",
    "    ## Preallocate space.\n",
    "    alpha_null = np.zeros((2, len(order))) \n",
    "    \n",
    "    ## Permute rows of infrequncy score.\n",
    "    permuted.infreq = np.random.permutation(permuted.infreq)\n",
    "    \n",
    "    ## Iteratively compute Cronbach's alpha.\n",
    "    for i, subscale in enumerate(order):\n",
    "        cols = items.filter(regex=f'{subscale}_').columns\n",
    "        alpha_null[0,i] = cronbach_alpha(permuted.loc[permuted.infreq==0,cols].values)\n",
    "        alpha_null[1,i] = cronbach_alpha(permuted.loc[permuted.infreq==1,cols].values)\n",
    "        \n",
    "    ## Compute test statistic.\n",
    "    null_tvals[n], _ = ttest_rel(alpha_null[0], alpha_null[1])\n",
    "    \n",
    "## Compute p-value.\n",
    "pval = ((np.abs(tval) <= np.abs(null_tvals)).sum() + 1) / (n_iter + 1)\n",
    "\n",
    "#~~~~~~~~~~~~~~~~~~~~~~~~~~~~~~~~~~~~~~~~~~#\n",
    "### Report statistics.\n",
    "#~~~~~~~~~~~~~~~~~~~~~~~~~~~~~~~~~~~~~~~~~~#\n",
    "\n",
    "## Report Cronbach's alpha.\n",
    "print('Attentive:', alpha_0.round(3))\n",
    "print('Careless:', alpha_1.round(3))\n",
    "\n",
    "## Compute effect size.\n",
    "dval = np.mean(alpha_0 - alpha_1) / np.std(alpha_0 - alpha_1)\n",
    "\n",
    "## Compute confidence interval.\n",
    "lb = np.mean(alpha_0 - alpha_1) - 1.96 * np.std(alpha_0 - alpha_1) / np.sqrt(alpha_0.size)\n",
    "ub = np.mean(alpha_0 - alpha_1) + 1.96 * np.std(alpha_0 - alpha_1) / np.sqrt(alpha_0.size)\n",
    "\n",
    "## Report permutation test results.\n",
    "print('t(%s) = %0.3f, p = %0.3f, d = %0.3f, 95%% CI = [%0.3f, %0.3f]' %(alpha_0.size-1, tval, pval, dval, lb, ub))"
   ]
  },
  {
   "cell_type": "markdown",
   "metadata": {},
   "source": [
    "## Section 4: Rates of Clinical Endorsement "
   ]
  },
  {
   "cell_type": "code",
   "execution_count": 5,
   "metadata": {},
   "outputs": [
    {
     "name": "stderr",
     "output_type": "stream",
     "text": [
      "<ipython-input-5-90ca490382be>:56: FutureWarning: In future versions `DataFrame.to_latex` is expected to utilise the base implementation of `Styler.to_latex` for formatting and rendering. The arguments signature may therefore change. It is recommended instead to use `DataFrame.style.to_latex` which also contains additional functionality.\n",
      "  print(table.to_latex())\n"
     ]
    },
    {
     "name": "stdout",
     "output_type": "stream",
     "text": [
      "\\begin{tabular}{llllllllll}\n",
      "\\toprule\n",
      "{} &   Skew & Score-A & Score-C &  Score-T & Score-P & Alpha-A & Alpha-C & Cutoff-A & Cutoff-C \\\\\n",
      "\\midrule\n",
      "7-up   &  0.806 &     3.9 &    10.2 &  -13.312 &   0.000 &    0.84 &    0.84 &     13.0 &      4.0 \\\\\n",
      "7-down &  0.759 &     4.8 &    10.7 &   -9.987 &   0.000 &    0.94 &    0.88 &     17.4 &      9.3 \\\\\n",
      "GAD-7  &  0.753 &     4.9 &     9.7 &   -7.881 &   0.000 &    0.92 &    0.87 &     25.9 &     17.3 \\\\\n",
      "BIS    &  0.780 &     7.7 &     7.9 &   -0.542 &   0.612 &    0.83 &    0.62 &        - &        - \\\\\n",
      "BAS    &  0.171 &    15.7 &    16.2 &   -0.912 &   0.357 &    0.84 &    0.71 &        - &        - \\\\\n",
      "SHAPS  &  0.256 &     8.0 &    10.8 &   -4.043 &   0.000 &    0.90 &    0.81 &     17.9 &     14.6 \\\\\n",
      "PSWQ   &  0.193 &     4.8 &     6.7 &   -4.784 &   0.000 &    0.93 &    0.81 &      7.3 &      7.0 \\\\\n",
      "\\bottomrule\n",
      "\\end{tabular}\n",
      "\n"
     ]
    }
   ],
   "source": [
    "from pandas import DataFrame\n",
    "from scipy.stats import skew\n",
    "\n",
    "#~~~~~~~~~~~~~~~~~~~~~~~~~~~~~~~~~~~~~~~~~~#\n",
    "### Define parameters.\n",
    "#~~~~~~~~~~~~~~~~~~~~~~~~~~~~~~~~~~~~~~~~~~#\n",
    "\n",
    "## Define clinical cutoffs.\n",
    "cutoffs = {\n",
    "    '7u':12, \n",
    "    '7d':12, \n",
    "    'gad7':10, \n",
    "    'bis':np.nan, \n",
    "    'bas':np.nan, \n",
    "    'shaps':3, \n",
    "    'pswq':11\n",
    "}\n",
    "\n",
    "#~~~~~~~~~~~~~~~~~~~~~~~~~~~~~~~~~~~~~~~~~~#\n",
    "### Compute summary statistics.\n",
    "#~~~~~~~~~~~~~~~~~~~~~~~~~~~~~~~~~~~~~~~~~~#\n",
    "\n",
    "## Preallocate space.\n",
    "table = np.zeros((len(order), 9))\n",
    "\n",
    "## Iteratively compute summary statistics.\n",
    "for i, (k, v) in enumerate(cutoffs.items()):\n",
    "    \n",
    "    ## Compute skew of score distribution.\n",
    "    table[i,0] = skew(data[k])\n",
    "    \n",
    "    ## Compute total scores.\n",
    "    table[i,1:3] = data.groupby('infreq')[k].mean()\n",
    "    \n",
    "    ## Compute proportion at threshold.\n",
    "    if k == 'shaps': k = 'shaps_binarized'\n",
    "    table[i,7] = np.round((data[k] >= v).mean() * 100, 1)\n",
    "    table[i,8] = np.round((data.query('infreq == 0')[k] >= v).mean() * 100, 1)\n",
    "        \n",
    "## Store Cronbach alpha.\n",
    "table[:,3] = tvals\n",
    "table[:,4] = pvals\n",
    "table[:,5] = alpha_0\n",
    "table[:,6] = alpha_1\n",
    "\n",
    "## Convert to DataFrame.\n",
    "table = DataFrame(table, index=['7-up','7-down','GAD-7','BIS','BAS','SHAPS','PSWQ'],\n",
    "                  columns=['Skew','Score-A','Score-C','Score-T','Score-P',\n",
    "                           'Alpha-A','Alpha-C','Cutoff-A','Cutoff-C'])\n",
    "\n",
    "## Format DataFrame.\n",
    "for col, fmt in zip(table.columns, [3,1,1,3,3,2,2,1,1]):\n",
    "    table[col] = [f'%0.{fmt}f' %x if x else '-' for x in table[col]]\n",
    "\n",
    "## Print LaTeX.\n",
    "print(table.to_latex())"
   ]
  },
  {
   "cell_type": "markdown",
   "metadata": {},
   "source": [
    "## Section 5: 1-PL model w/ Random Intercepts"
   ]
  },
  {
   "cell_type": "markdown",
   "metadata": {},
   "source": [
    "#### 5.1: Load and prepare data"
   ]
  },
  {
   "cell_type": "code",
   "execution_count": 6,
   "metadata": {},
   "outputs": [
    {
     "name": "stdout",
     "output_type": "stream",
     "text": [
      "Attentive: -0.175\n",
      "Careless: 0.491\n",
      "Contrast: -0.665 95% hdi = [-0.778, -0.554]\n"
     ]
    }
   ],
   "source": [
    "from pandas import read_csv\n",
    "from arviz import hdi\n",
    "\n",
    "#~~~~~~~~~~~~~~~~~~~~~~~~~~~~~~~~~~~~~~~~~~#\n",
    "### Load and prepare data.\n",
    "#~~~~~~~~~~~~~~~~~~~~~~~~~~~~~~~~~~~~~~~~~~#\n",
    "\n",
    "## Load StanFit summary.\n",
    "f = os.path.join('stan_results','1pl_logistic.tsv.gz')\n",
    "df = read_csv(f, sep='\\t', compression='gzip')\n",
    "\n",
    "## Extract random intercepts.\n",
    "intercepts = df.filter(regex='Z\\[[0-9]*,1\\]').mean().values\n",
    "\n",
    "## Extract contrast statistics.\n",
    "contrasts = df.filter(regex='contrasts')\n",
    "\n",
    "## Compute contrast statistics.\n",
    "f = lambda arr: hdi(arr.values, hdi_prob=0.95)\n",
    "mu = contrasts.mean()\n",
    "lb, ub = contrasts.apply(f).values\n",
    "\n",
    "## Print contrast statistics.\n",
    "print('Attentive: %0.3f' %mu[0])\n",
    "print('Careless: %0.3f' %mu[1])\n",
    "print('Contrast: %0.3f 95%% hdi = [%0.3f, %0.3f]' %(mu[2], lb[2], ub[2]))"
   ]
  },
  {
   "cell_type": "markdown",
   "metadata": {},
   "source": [
    "#### 5.2 Plotting"
   ]
  },
  {
   "cell_type": "code",
   "execution_count": 7,
   "metadata": {},
   "outputs": [
    {
     "data": {
      "image/png": "[encoded data removed]",
      "text/plain": [
       "<Figure size 576x288 with 1 Axes>"
      ]
     },
     "metadata": {
      "needs_background": "light"
     },
     "output_type": "display_data"
    }
   ],
   "source": [
    "import matplotlib.pyplot as plt\n",
    "import seaborn as sns\n",
    "sns.set_theme('notebook', style='white', font='sans-serif', font_scale=1.33)\n",
    "%matplotlib inline\n",
    "\n",
    "## Initialize canvas.\n",
    "fig, ax = plt.subplots(1,1,figsize=(8,4))\n",
    "\n",
    "## Define aesthetics.\n",
    "palette = ['#AA3939','#2E4272']\n",
    "\n",
    "## Plot distribution of intercepts.\n",
    "ax = sns.swarmplot(x=data.infreq.values, y=intercepts, palette=palette, ax=ax)\n",
    "ax.axhline(0, lw=0.8, linestyle='--', color='0.5', zorder=-1)\n",
    "\n",
    "## Add details.\n",
    "ax.set_xticklabels(['Attentive','Careless'], fontsize=18)\n",
    "ax.set_ylabel('Random Intercept', fontsize=18)\n",
    "\n",
    "sns.despine()\n",
    "plt.tight_layout()"
   ]
  }
 ],
 "metadata": {
  "kernelspec": {
   "display_name": "Python 3",
   "language": "python",
   "name": "python3"
  },
  "language_info": {
   "codemirror_mode": {
    "name": "ipython",
    "version": 3
   },
   "file_extension": ".py",
   "mimetype": "text/x-python",
   "name": "python",
   "nbconvert_exporter": "python",
   "pygments_lexer": "ipython3",
   "version": "3.9.12"
  }
 },
 "nbformat": 4,
 "nbformat_minor": 4
}
