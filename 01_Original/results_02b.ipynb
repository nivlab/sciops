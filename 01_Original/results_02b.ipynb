{
 "cells": [
  {
   "cell_type": "markdown",
   "metadata": {},
   "source": [
    "# Results 2b: Similarity Analysis"
   ]
  },
  {
   "cell_type": "code",
   "execution_count": 1,
   "metadata": {},
   "outputs": [],
   "source": [
    "import os\n",
    "import numpy as np\n",
    "from pandas import read_csv\n",
    "from tqdm import tqdm\n",
    "\n",
    "## Load reject data.\n",
    "metrics = read_csv(os.path.join('data','metrics.csv'))"
   ]
  },
  {
   "cell_type": "markdown",
   "metadata": {},
   "source": [
    "## Section 1: Proportion of Participants Flagged "
   ]
  },
  {
   "cell_type": "markdown",
   "metadata": {},
   "source": [
    "#### 1.1 Accuracy\n",
    "\n",
    "```python\n",
    "from scipy.stats import binom_test\n",
    "binom_test(38, n=90, p=0.33, alternative='greater')\n",
    "```"
   ]
  },
  {
   "cell_type": "code",
   "execution_count": 2,
   "metadata": {},
   "outputs": [
    {
     "name": "stdout",
     "output_type": "stream",
     "text": [
      "z = 2.224, p = 0.026\n"
     ]
    },
    {
     "data": {
      "text/html": [
       "<div>\n",
       "<style scoped>\n",
       "    .dataframe tbody tr th:only-of-type {\n",
       "        vertical-align: middle;\n",
       "    }\n",
       "\n",
       "    .dataframe tbody tr th {\n",
       "        vertical-align: top;\n",
       "    }\n",
       "\n",
       "    .dataframe thead th {\n",
       "        text-align: right;\n",
       "    }\n",
       "</style>\n",
       "<table border=\"1\" class=\"dataframe\">\n",
       "  <thead>\n",
       "    <tr style=\"text-align: right;\">\n",
       "      <th></th>\n",
       "      <th>mean</th>\n",
       "      <th>sum</th>\n",
       "      <th>count</th>\n",
       "    </tr>\n",
       "    <tr>\n",
       "      <th>platform</th>\n",
       "      <th></th>\n",
       "      <th></th>\n",
       "      <th></th>\n",
       "    </tr>\n",
       "  </thead>\n",
       "  <tbody>\n",
       "    <tr>\n",
       "      <th>mturk</th>\n",
       "      <td>0.10</td>\n",
       "      <td>18</td>\n",
       "      <td>186</td>\n",
       "    </tr>\n",
       "    <tr>\n",
       "      <th>prolific</th>\n",
       "      <td>0.04</td>\n",
       "      <td>8</td>\n",
       "      <td>200</td>\n",
       "    </tr>\n",
       "  </tbody>\n",
       "</table>\n",
       "</div>"
      ],
      "text/plain": [
       "          mean  sum  count\n",
       "platform                  \n",
       "mturk     0.10   18    186\n",
       "prolific  0.04    8    200"
      ]
     },
     "execution_count": 2,
     "metadata": {},
     "output_type": "execute_result"
    }
   ],
   "source": [
    "from statsmodels.stats.proportion import proportions_ztest\n",
    "\n",
    "## Perform 2-sample proportion test on platform.\n",
    "zval, pval = proportions_ztest([18, 8], [186, 200])\n",
    "print('z = %0.3f, p = %0.3f' %(zval, pval))\n",
    "\n",
    "## Tally failing participants.\n",
    "metrics.groupby('platform').accuracy.agg(\n",
    "    mean = lambda x: (x < 0.38).mean(),\n",
    "    sum = lambda x: (x <0.38).sum(),\n",
    "    count = lambda x: x.size\n",
    ").round(2)"
   ]
  },
  {
   "cell_type": "markdown",
   "metadata": {},
   "source": [
    "#### 2.2 Infrequency Items"
   ]
  },
  {
   "cell_type": "code",
   "execution_count": 3,
   "metadata": {},
   "outputs": [
    {
     "name": "stdout",
     "output_type": "stream",
     "text": [
      "z = 2.223, p = 0.026\n"
     ]
    },
    {
     "data": {
      "text/html": [
       "<div>\n",
       "<style scoped>\n",
       "    .dataframe tbody tr th:only-of-type {\n",
       "        vertical-align: middle;\n",
       "    }\n",
       "\n",
       "    .dataframe tbody tr th {\n",
       "        vertical-align: top;\n",
       "    }\n",
       "\n",
       "    .dataframe thead th {\n",
       "        text-align: right;\n",
       "    }\n",
       "</style>\n",
       "<table border=\"1\" class=\"dataframe\">\n",
       "  <thead>\n",
       "    <tr style=\"text-align: right;\">\n",
       "      <th></th>\n",
       "      <th>mean</th>\n",
       "      <th>sum</th>\n",
       "      <th>count</th>\n",
       "    </tr>\n",
       "    <tr>\n",
       "      <th>platform</th>\n",
       "      <th></th>\n",
       "      <th></th>\n",
       "      <th></th>\n",
       "    </tr>\n",
       "  </thead>\n",
       "  <tbody>\n",
       "    <tr>\n",
       "      <th>mturk</th>\n",
       "      <td>0.27</td>\n",
       "      <td>50</td>\n",
       "      <td>186</td>\n",
       "    </tr>\n",
       "    <tr>\n",
       "      <th>prolific</th>\n",
       "      <td>0.18</td>\n",
       "      <td>35</td>\n",
       "      <td>200</td>\n",
       "    </tr>\n",
       "  </tbody>\n",
       "</table>\n",
       "</div>"
      ],
      "text/plain": [
       "          mean  sum  count\n",
       "platform                  \n",
       "mturk     0.27   50    186\n",
       "prolific  0.18   35    200"
      ]
     },
     "execution_count": 3,
     "metadata": {},
     "output_type": "execute_result"
    }
   ],
   "source": [
    "from statsmodels.stats.proportion import proportions_ztest\n",
    "\n",
    "## Perform 2-sample proportion test on platform.\n",
    "zval, pval = proportions_ztest([50, 35], [186, 200])\n",
    "print('z = %0.3f, p = %0.3f' %(zval, pval))\n",
    "\n",
    "## Tally failing participants.\n",
    "metrics.groupby('platform').infreq.agg(\n",
    "    mean = lambda x: (x > 0).mean(),\n",
    "    sum = lambda x: (x > 0).sum(),\n",
    "    count = lambda x: x.size\n",
    ").round(2)"
   ]
  },
  {
   "cell_type": "markdown",
   "metadata": {},
   "source": [
    "## Section 2: Metric Correspondence"
   ]
  },
  {
   "cell_type": "code",
   "execution_count": 4,
   "metadata": {},
   "outputs": [],
   "source": [
    "## Define variables of interest.\n",
    "cols = ['infreq','isd','reliability','mahalanobis','survey_rt','variability','accuracy','wsls','task_rt']\n",
    "\n",
    "## Precompute lower triangular indices.\n",
    "ix = np.tril_indices(len(cols), k=-1)\n",
    "\n",
    "## Precompute space for results.\n",
    "tril = np.zeros((ix[0].size, 3))\n",
    "fwer = np.zeros((ix[0].size, 3))"
   ]
  },
  {
   "cell_type": "markdown",
   "metadata": {},
   "source": [
    "#### 3.1 Monotonic Dependence (Unthresholded)"
   ]
  },
  {
   "cell_type": "code",
   "execution_count": 5,
   "metadata": {},
   "outputs": [
    {
     "name": "stderr",
     "output_type": "stream",
     "text": [
      "100%|██████████| 5000/5000 [00:11<00:00, 428.24it/s]\n"
     ]
    }
   ],
   "source": [
    "#~~~~~~~~~~~~~~~~~~~~~~~~~~~~~~~~~~~~~~~~~~#\n",
    "### Define parameters.\n",
    "#~~~~~~~~~~~~~~~~~~~~~~~~~~~~~~~~~~~~~~~~~~#\n",
    "\n",
    "## Define number of permutations.\n",
    "n_iter = 5000\n",
    "\n",
    "#~~~~~~~~~~~~~~~~~~~~~~~~~~~~~~~~~~~~~~~~~~#\n",
    "### Permutation testing.\n",
    "#~~~~~~~~~~~~~~~~~~~~~~~~~~~~~~~~~~~~~~~~~~#\n",
    "np.random.seed(47404)\n",
    "\n",
    "## Compute and store true lower diagonal.\n",
    "tril[:,0] = metrics[cols].corr(method='spearman').values[ix]\n",
    "\n",
    "## Preallocate space.\n",
    "max_rho = np.zeros(n_iter)\n",
    "\n",
    "## Main loop.\n",
    "for i in tqdm(range(n_iter)):\n",
    "    \n",
    "    ## Permute DataFrame.\n",
    "    permuted = metrics[cols].apply(np.random.permutation).copy()\n",
    "    \n",
    "    ## Compute correlation matrix.\n",
    "    permuted = permuted.corr(method='spearman').values[ix]\n",
    "    \n",
    "    ## Store.\n",
    "    max_rho[i] = np.abs(permuted).max()\n",
    "    \n",
    "## Compute adjusted p-values.\n",
    "fwer[:,0] = ((np.abs(tril[:,0]) <= max_rho[:,np.newaxis]).sum(axis=0) + 1) / (n_iter + 1)"
   ]
  },
  {
   "cell_type": "markdown",
   "metadata": {},
   "source": [
    "#### 3.2 Rejection Similarity (Thresohold = 10%) "
   ]
  },
  {
   "cell_type": "code",
   "execution_count": 6,
   "metadata": {},
   "outputs": [
    {
     "name": "stderr",
     "output_type": "stream",
     "text": [
      "100%|██████████| 5000/5000 [00:16<00:00, 295.20it/s]\n"
     ]
    }
   ],
   "source": [
    "from scipy.spatial.distance import dice\n",
    "\n",
    "#~~~~~~~~~~~~~~~~~~~~~~~~~~~~~~~~~~~~~~~~~~#\n",
    "### Define parameters.\n",
    "#~~~~~~~~~~~~~~~~~~~~~~~~~~~~~~~~~~~~~~~~~~#\n",
    "\n",
    "## Define quantile.\n",
    "q = 0.10\n",
    "\n",
    "## Define number of permutations.\n",
    "n_iter = 5000\n",
    "\n",
    "#~~~~~~~~~~~~~~~~~~~~~~~~~~~~~~~~~~~~~~~~~~#\n",
    "### Threshold parameters. \n",
    "#~~~~~~~~~~~~~~~~~~~~~~~~~~~~~~~~~~~~~~~~~~#\n",
    "\n",
    "## Copy reject DataFrame.\n",
    "thresh = metrics[cols].copy()\n",
    "\n",
    "## Threshold variables.\n",
    "thresh['infreq'] = np.where( thresh['infreq'] > 0, 1, 0 )\n",
    "thresh['isd'] = np.where( thresh['isd'] > thresh['isd'].quantile(1-q), 1, 0 )\n",
    "thresh['reliability'] = np.where( thresh['reliability'] < thresh['reliability'].quantile(q), 1, 0 )\n",
    "thresh['mahalanobis'] = np.where( thresh['mahalanobis'] > thresh['mahalanobis'].quantile(1-q), 1, 0 )\n",
    "thresh['survey_rt'] = np.where( thresh['survey_rt'] < thresh['survey_rt'].quantile(q), 1, 0 )\n",
    "thresh['variability'] = np.where( thresh['variability'] > thresh['variability'].quantile(1-q), 1, 0 )\n",
    "thresh['accuracy'] = np.where( thresh['accuracy'] < thresh['accuracy'].quantile(q), 1, 0 )\n",
    "thresh['wsls'] = np.where( thresh['wsls'] < thresh['wsls'].quantile(q), 1, 0 )\n",
    "thresh['task_rt'] = np.where( thresh['task_rt'] > thresh['task_rt'].quantile(1-q), 1, 0 )\n",
    "\n",
    "#~~~~~~~~~~~~~~~~~~~~~~~~~~~~~~~~~~~~~~~~~~#\n",
    "### Permutation testing.\n",
    "#~~~~~~~~~~~~~~~~~~~~~~~~~~~~~~~~~~~~~~~~~~#\n",
    "np.random.seed(47404)\n",
    "\n",
    "## Compute and store true lower diagonal.\n",
    "tril[:,2] = 1 - thresh[cols].corr(method=dice).values[ix]\n",
    "\n",
    "## Preallocate space.\n",
    "max_rho = np.zeros(n_iter)\n",
    "\n",
    "## Main loop.\n",
    "for i in tqdm(range(n_iter)):\n",
    "    \n",
    "    ## Permute DataFrame.\n",
    "    permuted = thresh[cols].apply(np.random.permutation).copy()\n",
    "    \n",
    "    ## Compute correlation matrix.\n",
    "    permuted = 1 - permuted.corr(method=dice).values[ix]\n",
    "    \n",
    "    ## Store.\n",
    "    max_rho[i] = np.abs(permuted).max()\n",
    "    \n",
    "## Compute adjusted p-values.\n",
    "fwer[:,2] = ((np.abs(tril[:,2]) <= max_rho[:,np.newaxis]).sum(axis=0) + 1) / (n_iter + 1)"
   ]
  },
  {
   "cell_type": "markdown",
   "metadata": {},
   "source": [
    "#### 3.3 Rejection Similarity (Thresohold = 25%) "
   ]
  },
  {
   "cell_type": "code",
   "execution_count": 7,
   "metadata": {},
   "outputs": [
    {
     "name": "stderr",
     "output_type": "stream",
     "text": [
      "100%|██████████| 5000/5000 [00:16<00:00, 297.79it/s]\n"
     ]
    }
   ],
   "source": [
    "from scipy.spatial.distance import dice\n",
    "\n",
    "#~~~~~~~~~~~~~~~~~~~~~~~~~~~~~~~~~~~~~~~~~~#\n",
    "### Define parameters.\n",
    "#~~~~~~~~~~~~~~~~~~~~~~~~~~~~~~~~~~~~~~~~~~#\n",
    "\n",
    "## Define quantile.\n",
    "q = 0.25\n",
    "\n",
    "## Define number of permutations.\n",
    "n_iter = 5000\n",
    "\n",
    "#~~~~~~~~~~~~~~~~~~~~~~~~~~~~~~~~~~~~~~~~~~#\n",
    "### Threshold parameters. \n",
    "#~~~~~~~~~~~~~~~~~~~~~~~~~~~~~~~~~~~~~~~~~~#\n",
    "\n",
    "## Copy reject DataFrame.\n",
    "thresh = metrics[cols].copy()\n",
    "\n",
    "## Threshold variables.\n",
    "thresh['infreq'] = np.where( thresh['infreq'] > 0, 1, 0 )\n",
    "thresh['isd'] = np.where( thresh['isd'] > thresh['isd'].quantile(1-q), 1, 0 )\n",
    "thresh['reliability'] = np.where( thresh['reliability'] < thresh['reliability'].quantile(q), 1, 0 )\n",
    "thresh['mahalanobis'] = np.where( thresh['mahalanobis'] > thresh['mahalanobis'].quantile(1-q), 1, 0 )\n",
    "thresh['survey_rt'] = np.where( thresh['survey_rt'] < thresh['survey_rt'].quantile(q), 1, 0 )\n",
    "thresh['variability'] = np.where( thresh['variability'] > thresh['variability'].quantile(1-q), 1, 0 )\n",
    "thresh['accuracy'] = np.where( thresh['accuracy'] < thresh['accuracy'].quantile(q), 1, 0 )\n",
    "thresh['wsls'] = np.where( thresh['wsls'] < thresh['wsls'].quantile(q), 1, 0 )\n",
    "thresh['task_rt'] = np.where( thresh['task_rt'] > thresh['task_rt'].quantile(1-q), 1, 0 )\n",
    "\n",
    "#~~~~~~~~~~~~~~~~~~~~~~~~~~~~~~~~~~~~~~~~~~#\n",
    "### Permutation testing.\n",
    "#~~~~~~~~~~~~~~~~~~~~~~~~~~~~~~~~~~~~~~~~~~#\n",
    "np.random.seed(47404)\n",
    "\n",
    "## Compute and store true lower diagonal.\n",
    "tril[:,1] = 1 - thresh[cols].corr(method=dice).values[ix]\n",
    "\n",
    "## Preallocate space.\n",
    "max_rho = np.zeros(n_iter)\n",
    "\n",
    "## Main loop.\n",
    "for i in tqdm(range(n_iter)):\n",
    "    \n",
    "    ## Permute DataFrame.\n",
    "    permuted = thresh[cols].apply(np.random.permutation).copy()\n",
    "    \n",
    "    ## Compute correlation matrix.\n",
    "    permuted = 1 - permuted.corr(method=dice).values[ix]\n",
    "    \n",
    "    ## Store.\n",
    "    max_rho[i] = np.abs(permuted).max()\n",
    "    \n",
    "## Compute adjusted p-values.\n",
    "fwer[:,1] = ((np.abs(tril[:,1]) <= max_rho[:,np.newaxis]).sum(axis=0) + 1) / (n_iter + 1)"
   ]
  },
  {
   "cell_type": "markdown",
   "metadata": {},
   "source": [
    "## Section 3: Plotting\n",
    "\n",
    "#### 3.1 Main Figure"
   ]
  },
  {
   "cell_type": "code",
   "execution_count": 8,
   "metadata": {},
   "outputs": [
    {
     "data": {
      "image/png": "[encoded data removed]",
      "text/plain": [
       "<Figure size 1600x800 with 6 Axes>"
      ]
     },
     "metadata": {},
     "output_type": "display_data"
    }
   ],
   "source": [
    "import matplotlib.pyplot as plt\n",
    "import matplotlib.gridspec as gridspec\n",
    "import seaborn as sns\n",
    "from matplotlib.colors import ListedColormap\n",
    "from matplotlib.patches import Rectangle\n",
    "sns.set_theme('notebook', style='white', font='sans-serif', font_scale=1.33)\n",
    "%matplotlib inline\n",
    "\n",
    "#~~~~~~~~~~~~~~~~~~~~~~~~~~~~~~~~~~~~~~~~~~#\n",
    "### Define canvas.\n",
    "#~~~~~~~~~~~~~~~~~~~~~~~~~~~~~~~~~~~~~~~~~~#\n",
    "\n",
    "## Initialize canvas.\n",
    "fig = plt.figure(figsize=(16,8))\n",
    "                         \n",
    "## Initialize grid.\n",
    "gs = fig.add_gridspec(nrows=1, ncols=2, left=0.05, right=0.95, top=0.98, bottom=0.10, wspace=0.1, hspace=0.0)\n",
    "\n",
    "## Initialize panels.\n",
    "left_panel  = gs[0].subgridspec(nrows=2, ncols=2, wspace=0.1, hspace=0.1)\n",
    "right_panel = gs[1].subgridspec(nrows=2, ncols=2, wspace=0.1, hspace=0.1)\n",
    "\n",
    "## Define features.\n",
    "cmap = ListedColormap(['#de425b','0.9','#959da1'])\n",
    "titles = ['Spearman Correlation', 'Dice Similarity (Top 10%)']\n",
    "annot_color = '0.99'\n",
    "labelpad = 6\n",
    "\n",
    "#~~~~~~~~~~~~~~~~~~~~~~~~~~~~~~~~~~~~~~~~~~#\n",
    "### Main loop.\n",
    "#~~~~~~~~~~~~~~~~~~~~~~~~~~~~~~~~~~~~~~~~~~#\n",
    "\n",
    "for k, panel in enumerate([left_panel, right_panel]):\n",
    "\n",
    "    ## Initialize correlation matrix.\n",
    "    corr = np.zeros((8,10))\n",
    "    corr[np.tril_indices_from(corr, k=0)] = np.where(fwer[:,k] < 0.05, tril[:,k], 0)\n",
    "\n",
    "    #~~~~~~~~~~~~~~~~~~~~~~~~~~~~~~~~~~~~~~~~~~#\n",
    "    ### Self-report correlations.\n",
    "    #~~~~~~~~~~~~~~~~~~~~~~~~~~~~~~~~~~~~~~~~~~#\n",
    "\n",
    "    ## Initialize axis.\n",
    "    ax = plt.subplot(panel[0,0])\n",
    "\n",
    "    ## Plot correlations.\n",
    "    arr = corr[:4,:5]\n",
    "    sns.heatmap(np.abs(np.sign(arr)), cmap=cmap, cbar=False, center=0, linecolor='w', linewidths=1, \n",
    "                xticklabels=[], mask=np.triu(np.ones_like(arr), k=1), ax=ax)\n",
    "\n",
    "    ## Add annotations.\n",
    "    for i, j in np.array(np.where(arr)).T:\n",
    "        ax.text(j+0.5, i+0.5, '%0.2f' %arr[i,j], ha='center', va='center', fontsize=15, color=annot_color)\n",
    "\n",
    "    ## Add labels.\n",
    "    yticklabels = ['ISD','REL','MAH','READ'] # if not k else ['','','','']\n",
    "    ax.set_yticklabels(yticklabels, rotation=0, ha='right', va='center')\n",
    "    ax.tick_params(axis='both', which='major', pad=labelpad)\n",
    "        \n",
    "    ## Category annotation.\n",
    "    xytext = [(3.25,1.25), (3.25,1.25)]\n",
    "    ax.annotate('Self-Report', (0,0), xytext=xytext[k], xycoords='data', rotation=-53,\n",
    "                fontsize=20, ha='center', va='center')\n",
    "    \n",
    "    #~~~~~~~~~~~~~~~~~~~~~~~~~~~~~~~~~~~~~~~~~~#\n",
    "    ### Task correlations.\n",
    "    #~~~~~~~~~~~~~~~~~~~~~~~~~~~~~~~~~~~~~~~~~~#\n",
    "\n",
    "    ## Initialize axis.\n",
    "    ax = plt.subplot(panel[1,1])\n",
    "\n",
    "    ## Plot correlations.\n",
    "    arr = corr[4:,5:]\n",
    "    sns.heatmap(np.abs(np.sign(arr)), cmap=cmap, cbar=False, center=0, linecolor='w', linewidths=1,\n",
    "                yticklabels=[], mask=np.triu(np.ones_like(arr), k=0), ax=ax)\n",
    "\n",
    "    ## Add annotations.\n",
    "    for i, j in np.array(np.where(arr)).T:\n",
    "        ax.text(j+0.5, i+0.5, '%0.2f' %arr[i,j], ha='center', va='center', fontsize=15, color=annot_color)\n",
    "\n",
    "    ## Add labels.\n",
    "    ax.set_xticklabels(['VAR','ACC','WSLS','',''], rotation=0, ha='center', va='top')\n",
    "    ax.tick_params(axis='both', which='major', pad=labelpad)\n",
    "        \n",
    "    ## Add title.\n",
    "    ax.annotate(titles[k], (0,0), (0.22 if not k else 0.70, 0.04), xycoords='figure fraction', \n",
    "                fontsize=22, ha='center', va='top')\n",
    "    \n",
    "    ## Within tasks.\n",
    "    xytext = [(2.75,1.75), (2.75,1.75)]\n",
    "    ax.annotate('Task Behavior', (0,0), xytext=xytext[k], xycoords='data', rotation=-53,\n",
    "                fontsize=20, ha='center', va='center')\n",
    "    \n",
    "    #~~~~~~~~~~~~~~~~~~~~~~~~~~~~~~~~~~~~~~~~~~#\n",
    "    ### Joint correlations.\n",
    "    #~~~~~~~~~~~~~~~~~~~~~~~~~~~~~~~~~~~~~~~~~~#\n",
    "\n",
    "    ## Initialize axis.\n",
    "    ax = plt.subplot(panel[1,0])\n",
    "\n",
    "    ## Plot correlations.\n",
    "    arr = corr[4:,:5]\n",
    "    sns.heatmap(np.abs(np.sign(arr)), cmap=cmap, cbar=False, center=0, linecolor='w', linewidths=1, ax=ax)\n",
    "\n",
    "    ## Add annotations.\n",
    "    for i, j in np.array(np.where(arr)).T:\n",
    "        ax.text(j+0.5, i+0.5, '%0.2f' %arr[i,j], ha='center', va='center', fontsize=15, color=annot_color)\n",
    "\n",
    "    ## Add labels.\n",
    "    yticklabels = ['VAR','ACC','WSLS','RT'] # if not k else ['','','','']\n",
    "    ax.set_yticklabels(yticklabels, rotation=0, ha='right', va='center')\n",
    "    ax.set_xticklabels(['INF','ISD','REL','MAH','READ'], rotation=0, ha='center', va='top')\n",
    "    ax.tick_params(axis='both', which='major', pad=labelpad)\n",
    "    \n",
    "    ## Add border.\n",
    "    border = Rectangle((-0.1,-0.1), 5.2, 4.2, fill=False, linewidth=1.5, linestyle='--', edgecolor='k')\n",
    "    border = ax.add_patch(border)\n",
    "    border.set_clip_on(False)\n",
    "        \n",
    "    ## Category annotation.\n",
    "    xytext = [(6.0,-0.5), (6.0,-0.5)]\n",
    "    ax.annotate('Cross-Modality', (0,0), xytext=xytext[k], xycoords='data', rotation=-53,\n",
    "                fontsize=20, ha='center', va='center')\n",
    "    \n",
    "## Save figure.\n",
    "plt.savefig(os.path.join('figures','main_02b.pdf'), dpi=180, transparent=True)"
   ]
  },
  {
   "cell_type": "markdown",
   "metadata": {},
   "source": [
    "#### 3.2 Supplementary Tables"
   ]
  },
  {
   "cell_type": "code",
   "execution_count": 9,
   "metadata": {},
   "outputs": [
    {
     "name": "stdout",
     "output_type": "stream",
     "text": [
      "Constructing Table 1: Spearman Correlation.\n",
      "\\begin{tabular}{llllllllll}\n",
      "\\toprule\n",
      "{} &      INF &      ISD &      REL &      MAH &    READ &     VAR &     ACC &    WSLS & RT \\\\\n",
      "\\midrule\n",
      "INF  &        - &          &          &          &         &         &         &         &    \\\\\n",
      "ISD  &   0.337* &        - &          &          &         &         &         &         &    \\\\\n",
      "REL  &  -0.360* &  -0.804* &        - &          &         &         &         &         &    \\\\\n",
      "MAH  &   0.406* &   0.836* &  -0.608* &        - &         &         &         &         &    \\\\\n",
      "READ &   -0.111 &   0.209* &  -0.193* &    0.138 &       - &         &         &         &    \\\\\n",
      "VAR  &   -0.061 &   -0.038 &    0.068 &   -0.024 &  -0.026 &       - &         &         &    \\\\\n",
      "ACC  &  -0.206* &   -0.133 &    0.044 &  -0.182* &  -0.074 &   0.027 &       - &         &    \\\\\n",
      "WSLS &    0.060 &    0.103 &   -0.085 &    0.115 &   0.103 &  -0.060 &  0.221* &       - &    \\\\\n",
      "RT   &    0.040 &   -0.025 &    0.017 &    0.013 &  -0.158 &  -0.007 &  -0.094 &  -0.050 &  - \\\\\n",
      "\\bottomrule\n",
      "\\end{tabular}\n",
      "\n",
      "Constructing Table 2: Dice Similarity (Top 10%).\n",
      "\\begin{tabular}{llllllllll}\n",
      "\\toprule\n",
      "{} &     INF &     ISD &     REL &    MAH &   READ &    VAR &     ACC &   WSLS & RT \\\\\n",
      "\\midrule\n",
      "INF  &       - &         &         &        &        &        &         &        &    \\\\\n",
      "ISD  &  0.462* &       - &         &        &        &        &         &        &    \\\\\n",
      "REL  &  0.484* &  0.691* &       - &        &        &        &         &        &    \\\\\n",
      "MAH  &  0.516* &  0.732* &  0.619* &      - &        &        &         &        &    \\\\\n",
      "READ &   0.319 &   0.165 &   0.165 &  0.216 &      - &        &         &        &    \\\\\n",
      "VAR  &   0.208 &   0.216 &   0.238 &  0.259 &  0.292 &      - &         &        &    \\\\\n",
      "ACC  &  0.379* &   0.312 &   0.258 &  0.344 &  0.237 &  0.282 &       - &        &    \\\\\n",
      "WSLS &   0.253 &   0.247 &   0.227 &  0.258 &  0.299 &  0.303 &  0.505* &      - &    \\\\\n",
      "RT   &   0.267 &   0.219 &   0.271 &  0.271 &  0.333 &  0.251 &   0.239 &  0.260 &  - \\\\\n",
      "\\bottomrule\n",
      "\\end{tabular}\n",
      "\n",
      "Constructing Table 3: Dice Similarity (Top 25%).\n",
      "\\begin{tabular}{llllllllll}\n",
      "\\toprule\n",
      "{} &     INF &     ISD &     REL &    MAH &    READ &    VAR &     ACC &   WSLS & RT \\\\\n",
      "\\midrule\n",
      "INF  &       - &         &         &        &         &        &         &        &    \\\\\n",
      "ISD  &  0.355* &       - &         &        &         &        &         &        &    \\\\\n",
      "REL  &  0.355* &  0.564* &       - &        &         &        &         &        &    \\\\\n",
      "MAH  &  0.355* &  0.667* &  0.359* &      - &         &        &         &        &    \\\\\n",
      "READ &  0.290* &   0.231 &   0.154 &  0.231 &       - &        &         &        &    \\\\\n",
      "VAR  &   0.116 &   0.080 &   0.080 &  0.160 &   0.133 &      - &         &        &    \\\\\n",
      "ACC  &  0.269* &   0.137 &   0.164 &  0.192 &   0.247 &  0.171 &       - &        &    \\\\\n",
      "WSLS &   0.242 &   0.103 &   0.154 &  0.205 &   0.231 &  0.240 &  0.630* &      - &    \\\\\n",
      "RT   &   0.164 &   0.105 &   0.132 &  0.184 &  0.289* &  0.164 &   0.225 &  0.237 &  - \\\\\n",
      "\\bottomrule\n",
      "\\end{tabular}\n",
      "\n"
     ]
    },
    {
     "name": "stderr",
     "output_type": "stream",
     "text": [
      "<ipython-input-9-32d3d18fbbcf>:32: FutureWarning: In future versions `DataFrame.to_latex` is expected to utilise the base implementation of `Styler.to_latex` for formatting and rendering. The arguments signature may therefore change. It is recommended instead to use `DataFrame.style.to_latex` which also contains additional functionality.\n",
      "  print(corr.to_latex())\n",
      "<ipython-input-9-32d3d18fbbcf>:32: FutureWarning: In future versions `DataFrame.to_latex` is expected to utilise the base implementation of `Styler.to_latex` for formatting and rendering. The arguments signature may therefore change. It is recommended instead to use `DataFrame.style.to_latex` which also contains additional functionality.\n",
      "  print(corr.to_latex())\n",
      "<ipython-input-9-32d3d18fbbcf>:32: FutureWarning: In future versions `DataFrame.to_latex` is expected to utilise the base implementation of `Styler.to_latex` for formatting and rendering. The arguments signature may therefore change. It is recommended instead to use `DataFrame.style.to_latex` which also contains additional functionality.\n",
      "  print(corr.to_latex())\n"
     ]
    }
   ],
   "source": [
    "from pandas import DataFrame\n",
    "\n",
    "#~~~~~~~~~~~~~~~~~~~~~~~~~~~~~~~~~~~~~~~~~~#\n",
    "### Define parameters.\n",
    "#~~~~~~~~~~~~~~~~~~~~~~~~~~~~~~~~~~~~~~~~~~#\n",
    "\n",
    "## Define tables.\n",
    "tables = ['Spearman Correlation', 'Dice Similarity (Top 10%)', 'Dice Similarity (Top 25%)']\n",
    "\n",
    "## Define columns.\n",
    "columns = ['INF','ISD','REL','MAH','READ','VAR','ACC','WSLS','RT']\n",
    "\n",
    "#~~~~~~~~~~~~~~~~~~~~~~~~~~~~~~~~~~~~~~~~~~#\n",
    "### Main loop.\n",
    "#~~~~~~~~~~~~~~~~~~~~~~~~~~~~~~~~~~~~~~~~~~#\n",
    "\n",
    "for i, table in enumerate(tables):\n",
    "    print(f'Constructing Table {i+1}: {table}.')\n",
    "\n",
    "    ## Initialize correlation matrix.\n",
    "    corr = np.identity(len(columns))\n",
    "    corr = np.where(corr, '-', '').astype('<U16')\n",
    "\n",
    "    ## Add lower diagonal elements.\n",
    "    fmt = lambda r, p: '%0.3f*' %r if p < 0.05 else '%0.3f' %r\n",
    "    corr[ix] = [fmt(r,p) for r, p in zip(tril[:,i], fwer[:,i])]\n",
    "\n",
    "    ## Convert to DataFrame.\n",
    "    corr = DataFrame(corr, index=columns, columns=columns)\n",
    "\n",
    "    ## Print LaTeX.\n",
    "    print(corr.to_latex())"
   ]
  }
 ],
 "metadata": {
  "kernelspec": {
   "display_name": "Python 3",
   "language": "python",
   "name": "python3"
  },
  "language_info": {
   "codemirror_mode": {
    "name": "ipython",
    "version": 3
   },
   "file_extension": ".py",
   "mimetype": "text/x-python",
   "name": "python",
   "nbconvert_exporter": "python",
   "pygments_lexer": "ipython3",
   "version": "3.9.12"
  }
 },
 "nbformat": 4,
 "nbformat_minor": 4
}
