{
 "cells": [
  {
   "cell_type": "markdown",
   "metadata": {},
   "source": [
    "# Supplementary Results 1"
   ]
  },
  {
   "cell_type": "code",
   "execution_count": 1,
   "metadata": {},
   "outputs": [],
   "source": [
    "import os\n",
    "import numpy as np\n",
    "from pandas import read_csv"
   ]
  },
  {
   "cell_type": "markdown",
   "metadata": {},
   "source": [
    "## Section 1: Participant Demographics\n",
    "\n",
    "#### 1.1 Load and prepare data"
   ]
  },
  {
   "cell_type": "code",
   "execution_count": 2,
   "metadata": {},
   "outputs": [
    {
     "name": "stdout",
     "output_type": "stream",
     "text": [
      "mturk       19\n",
      "prolific     1\n",
      "Name: platform, dtype: int64\n"
     ]
    }
   ],
   "source": [
    "## Load metadata.\n",
    "metadata = read_csv(os.path.join('data', 'metadata.csv'))\n",
    "\n",
    "## Restrict to first time participants.\n",
    "prev_complete = metadata.loc[metadata['prev_complete']==\"Yes\"]\n",
    "metadata = metadata.loc[metadata['prev_complete']==\"No\"].reset_index(drop=True)\n",
    "\n",
    "## Print number of repeat-participants.\n",
    "print(prev_complete.platform.value_counts())"
   ]
  },
  {
   "cell_type": "markdown",
   "metadata": {},
   "source": [
    "#### 1.2 Platform composition"
   ]
  },
  {
   "cell_type": "code",
   "execution_count": 3,
   "metadata": {},
   "outputs": [
    {
     "data": {
      "text/plain": [
       "prolific    200\n",
       "mturk       186\n",
       "Name: platform, dtype: int64"
      ]
     },
     "execution_count": 3,
     "metadata": {},
     "output_type": "execute_result"
    }
   ],
   "source": [
    "metadata.platform.value_counts()"
   ]
  },
  {
   "cell_type": "markdown",
   "metadata": {},
   "source": [
    "#### 1.3 Age composition"
   ]
  },
  {
   "cell_type": "code",
   "execution_count": 4,
   "metadata": {},
   "outputs": [
    {
     "name": "stdout",
     "output_type": "stream",
     "text": [
      "mu = 7.7, t = 6.567, p = 0.000, d = 0.669, 95% CI = [5.4, 10.0]\n"
     ]
    },
    {
     "data": {
      "text/html": [
       "<div>\n",
       "<style scoped>\n",
       "    .dataframe tbody tr th:only-of-type {\n",
       "        vertical-align: middle;\n",
       "    }\n",
       "\n",
       "    .dataframe tbody tr th {\n",
       "        vertical-align: top;\n",
       "    }\n",
       "\n",
       "    .dataframe thead tr th {\n",
       "        text-align: left;\n",
       "    }\n",
       "\n",
       "    .dataframe thead tr:last-of-type th {\n",
       "        text-align: right;\n",
       "    }\n",
       "</style>\n",
       "<table border=\"1\" class=\"dataframe\">\n",
       "  <thead>\n",
       "    <tr>\n",
       "      <th>platform</th>\n",
       "      <th colspan=\"2\" halign=\"left\">mturk</th>\n",
       "      <th colspan=\"2\" halign=\"left\">prolific</th>\n",
       "    </tr>\n",
       "    <tr>\n",
       "      <th></th>\n",
       "      <th>subject</th>\n",
       "      <th>%</th>\n",
       "      <th>subject</th>\n",
       "      <th>%</th>\n",
       "    </tr>\n",
       "    <tr>\n",
       "      <th>age_bin</th>\n",
       "      <th></th>\n",
       "      <th></th>\n",
       "      <th></th>\n",
       "      <th></th>\n",
       "    </tr>\n",
       "  </thead>\n",
       "  <tbody>\n",
       "    <tr>\n",
       "      <th>18-25</th>\n",
       "      <td>16.0</td>\n",
       "      <td>8.6</td>\n",
       "      <td>78.0</td>\n",
       "      <td>39.0</td>\n",
       "    </tr>\n",
       "    <tr>\n",
       "      <th>26-35</th>\n",
       "      <td>76.0</td>\n",
       "      <td>40.9</td>\n",
       "      <td>69.0</td>\n",
       "      <td>34.5</td>\n",
       "    </tr>\n",
       "    <tr>\n",
       "      <th>36-45</th>\n",
       "      <td>46.0</td>\n",
       "      <td>24.7</td>\n",
       "      <td>31.0</td>\n",
       "      <td>15.5</td>\n",
       "    </tr>\n",
       "    <tr>\n",
       "      <th>46-55</th>\n",
       "      <td>22.0</td>\n",
       "      <td>11.8</td>\n",
       "      <td>13.0</td>\n",
       "      <td>6.5</td>\n",
       "    </tr>\n",
       "    <tr>\n",
       "      <th>55+</th>\n",
       "      <td>26.0</td>\n",
       "      <td>14.0</td>\n",
       "      <td>9.0</td>\n",
       "      <td>4.5</td>\n",
       "    </tr>\n",
       "  </tbody>\n",
       "</table>\n",
       "</div>"
      ],
      "text/plain": [
       "platform   mturk       prolific      \n",
       "         subject     %  subject     %\n",
       "age_bin                              \n",
       "18-25       16.0   8.6     78.0  39.0\n",
       "26-35       76.0  40.9     69.0  34.5\n",
       "36-45       46.0  24.7     31.0  15.5\n",
       "46-55       22.0  11.8     13.0   6.5\n",
       "55+         26.0  14.0      9.0   4.5"
      ]
     },
     "execution_count": 4,
     "metadata": {},
     "output_type": "execute_result"
    }
   ],
   "source": [
    "from scipy.stats import ttest_ind\n",
    "\n",
    "## Bin ages.\n",
    "metadata['age_bin'] = np.digitize(metadata.age, [25.5,35.5,45.5,55.5])\n",
    "metadata['age_bin'] = metadata.age_bin.replace({0:'18-25',1:'26-35',2:'36-45',3:'46-55',4:'55+'})\n",
    "\n",
    "## Construct pivot table.\n",
    "age = metadata.groupby(['platform','age_bin']).subject.count().reset_index()\n",
    "age['%'] = age.groupby(['platform'], group_keys=False).subject.apply(lambda x: x / x.sum()).round(3) * 100\n",
    "age = age.pivot_table(['age_bin','%'], 'age_bin', 'platform')\n",
    "age = age.reorder_levels([1,0],axis=1).sort_index(axis=1, ascending=[True,False])\n",
    "\n",
    "## Compute two-samples t-test.\n",
    "mu = metadata.query('platform==\"mturk\"').age.values.mean() - metadata.query('platform==\"prolific\"').age.values.mean()\n",
    "tval, pval = ttest_ind(\n",
    "    metadata.query('platform==\"mturk\"').age.values, \n",
    "    metadata.query('platform==\"prolific\"').age.values\n",
    ")\n",
    "\n",
    "## Compute effect size.\n",
    "dval = tval * np.sqrt(np.sum(1 / metadata.platform.value_counts()))\n",
    "\n",
    "## Compute confidence interval. \n",
    "lb = mu - 1.96 * (mu / tval)\n",
    "ub = mu + 1.96 * (mu / tval)\n",
    "\n",
    "## Report statistics.\n",
    "print('mu = %0.1f, t = %0.3f, p = %0.3f, d = %0.3f, 95%% CI = [%0.1f, %0.1f]' %(mu, tval, pval, dval, lb, ub))\n",
    "\n",
    "## Display age composition.\n",
    "age"
   ]
  },
  {
   "cell_type": "markdown",
   "metadata": {},
   "source": [
    "#### 1.4 Gender composition"
   ]
  },
  {
   "cell_type": "code",
   "execution_count": 5,
   "metadata": {},
   "outputs": [
    {
     "name": "stdout",
     "output_type": "stream",
     "text": [
      "MTurk:    103 / 186 (0.554)\n",
      "Prolific:  85 / 200 (0.425)\n",
      "z(384) = 2.529, p = 0.011, h = 0.258, 95% CI = [0.030, 0.228]\n"
     ]
    },
    {
     "data": {
      "text/html": [
       "<div>\n",
       "<style scoped>\n",
       "    .dataframe tbody tr th:only-of-type {\n",
       "        vertical-align: middle;\n",
       "    }\n",
       "\n",
       "    .dataframe tbody tr th {\n",
       "        vertical-align: top;\n",
       "    }\n",
       "\n",
       "    .dataframe thead tr th {\n",
       "        text-align: left;\n",
       "    }\n",
       "\n",
       "    .dataframe thead tr:last-of-type th {\n",
       "        text-align: right;\n",
       "    }\n",
       "</style>\n",
       "<table border=\"1\" class=\"dataframe\">\n",
       "  <thead>\n",
       "    <tr>\n",
       "      <th>platform</th>\n",
       "      <th colspan=\"2\" halign=\"left\">mturk</th>\n",
       "      <th colspan=\"2\" halign=\"left\">prolific</th>\n",
       "    </tr>\n",
       "    <tr>\n",
       "      <th></th>\n",
       "      <th>subject</th>\n",
       "      <th>%</th>\n",
       "      <th>subject</th>\n",
       "      <th>%</th>\n",
       "    </tr>\n",
       "    <tr>\n",
       "      <th>gender-categorical</th>\n",
       "      <th></th>\n",
       "      <th></th>\n",
       "      <th></th>\n",
       "      <th></th>\n",
       "    </tr>\n",
       "  </thead>\n",
       "  <tbody>\n",
       "    <tr>\n",
       "      <th>Female</th>\n",
       "      <td>83.0</td>\n",
       "      <td>44.6</td>\n",
       "      <td>112.0</td>\n",
       "      <td>56.0</td>\n",
       "    </tr>\n",
       "    <tr>\n",
       "      <th>Male</th>\n",
       "      <td>103.0</td>\n",
       "      <td>55.4</td>\n",
       "      <td>85.0</td>\n",
       "      <td>42.5</td>\n",
       "    </tr>\n",
       "    <tr>\n",
       "      <th>Other</th>\n",
       "      <td>0.0</td>\n",
       "      <td>0.0</td>\n",
       "      <td>3.0</td>\n",
       "      <td>1.5</td>\n",
       "    </tr>\n",
       "  </tbody>\n",
       "</table>\n",
       "</div>"
      ],
      "text/plain": [
       "platform             mturk       prolific      \n",
       "                   subject     %  subject     %\n",
       "gender-categorical                             \n",
       "Female                83.0  44.6    112.0  56.0\n",
       "Male                 103.0  55.4     85.0  42.5\n",
       "Other                  0.0   0.0      3.0   1.5"
      ]
     },
     "execution_count": 5,
     "metadata": {},
     "output_type": "execute_result"
    }
   ],
   "source": [
    "from statsmodels.stats.proportion import proportions_ztest, proportion_effectsize, confint_proportions_2indep\n",
    "\n",
    "## Construct pivot table.\n",
    "gender = metadata.groupby(['platform','gender-categorical']).subject.count().reset_index()\n",
    "gender['%'] = gender.groupby(['platform'], group_keys=False).subject.apply(lambda x: x / x.sum()).round(3) * 100\n",
    "gender = gender.pivot_table(['subject','%'], 'gender-categorical', 'platform')\n",
    "gender = gender.reorder_levels([1,0],axis=1).sort_index(axis=1, ascending=[True,False]).fillna(0)\n",
    "\n",
    "## Extract observations.\n",
    "k1, k2 = 103, 85\n",
    "n1, n2 = 186, 200\n",
    "p1, p2 = k1 / n1, k2 / n2\n",
    "\n",
    "## Compute 2-sample proportions test.\n",
    "zval, pval = proportions_ztest([k1, k2], [n1, n2], alternative='two-sided')\n",
    "\n",
    "## Compute effect size.\n",
    "hval = proportion_effectsize(p1, p2)\n",
    "\n",
    "## Compute confidence interval.\n",
    "lb, ub = confint_proportions_2indep(k1, n1, k2, n2, compare='diff', method='wald')\n",
    "\n",
    "## Report statistics.\n",
    "print('MTurk:    %s / %s (%0.3f)' %(k1, n1, p1))\n",
    "print('Prolific:  %s / %s (%0.3f)' %(k2, n2, p2))\n",
    "print('z(%s) = %0.3f, p = %0.3f, h = %0.3f, 95%% CI = [%0.3f, %0.3f]' %((n1+n2-2), zval, pval, hval, lb, ub))\n",
    "\n",
    "## Print gender composition.\n",
    "gender"
   ]
  },
  {
   "cell_type": "markdown",
   "metadata": {},
   "source": [
    "#### Ethnicity composition"
   ]
  },
  {
   "cell_type": "code",
   "execution_count": 6,
   "metadata": {},
   "outputs": [
    {
     "name": "stdout",
     "output_type": "stream",
     "text": [
      "z = 6.567, p = 0.558\n"
     ]
    },
    {
     "data": {
      "text/html": [
       "<div>\n",
       "<style scoped>\n",
       "    .dataframe tbody tr th:only-of-type {\n",
       "        vertical-align: middle;\n",
       "    }\n",
       "\n",
       "    .dataframe tbody tr th {\n",
       "        vertical-align: top;\n",
       "    }\n",
       "\n",
       "    .dataframe thead tr th {\n",
       "        text-align: left;\n",
       "    }\n",
       "\n",
       "    .dataframe thead tr:last-of-type th {\n",
       "        text-align: right;\n",
       "    }\n",
       "</style>\n",
       "<table border=\"1\" class=\"dataframe\">\n",
       "  <thead>\n",
       "    <tr>\n",
       "      <th>platform</th>\n",
       "      <th colspan=\"2\" halign=\"left\">mturk</th>\n",
       "      <th colspan=\"2\" halign=\"left\">prolific</th>\n",
       "    </tr>\n",
       "    <tr>\n",
       "      <th></th>\n",
       "      <th>subject</th>\n",
       "      <th>%</th>\n",
       "      <th>subject</th>\n",
       "      <th>%</th>\n",
       "    </tr>\n",
       "    <tr>\n",
       "      <th>ethnicity</th>\n",
       "      <th></th>\n",
       "      <th></th>\n",
       "      <th></th>\n",
       "      <th></th>\n",
       "    </tr>\n",
       "  </thead>\n",
       "  <tbody>\n",
       "    <tr>\n",
       "      <th>Hispanic or Latino</th>\n",
       "      <td>15.0</td>\n",
       "      <td>8.1</td>\n",
       "      <td>10.0</td>\n",
       "      <td>5.0</td>\n",
       "    </tr>\n",
       "    <tr>\n",
       "      <th>Not Hispanic or Latino</th>\n",
       "      <td>168.0</td>\n",
       "      <td>90.3</td>\n",
       "      <td>183.0</td>\n",
       "      <td>91.5</td>\n",
       "    </tr>\n",
       "    <tr>\n",
       "      <th>Rather not say</th>\n",
       "      <td>2.0</td>\n",
       "      <td>1.1</td>\n",
       "      <td>7.0</td>\n",
       "      <td>3.5</td>\n",
       "    </tr>\n",
       "    <tr>\n",
       "      <th>Unknown</th>\n",
       "      <td>1.0</td>\n",
       "      <td>0.5</td>\n",
       "      <td>0.0</td>\n",
       "      <td>0.0</td>\n",
       "    </tr>\n",
       "  </tbody>\n",
       "</table>\n",
       "</div>"
      ],
      "text/plain": [
       "platform                 mturk       prolific      \n",
       "                       subject     %  subject     %\n",
       "ethnicity                                          \n",
       "Hispanic or Latino        15.0   8.1     10.0   5.0\n",
       "Not Hispanic or Latino   168.0  90.3    183.0  91.5\n",
       "Rather not say             2.0   1.1      7.0   3.5\n",
       "Unknown                    1.0   0.5      0.0   0.0"
      ]
     },
     "execution_count": 6,
     "metadata": {},
     "output_type": "execute_result"
    }
   ],
   "source": [
    "from statsmodels.stats.proportion import proportions_ztest\n",
    "\n",
    "## Construct pivot table.\n",
    "ethnicity = metadata.groupby(['platform','ethnicity']).subject.count().reset_index()\n",
    "ethnicity['%'] = ethnicity.groupby(['platform']).subject.apply(lambda x: x / x.sum()).round(3) * 100\n",
    "ethnicity = ethnicity.pivot_table(['subject','%'], 'ethnicity', 'platform')\n",
    "ethnicity = ethnicity.reorder_levels([1,0],axis=1).sort_index(axis=1, ascending=[True,False]).fillna(0)\n",
    "\n",
    "\n",
    "## Perform 2-sample proportion test.\n",
    "zval, pval = proportions_ztest([174.0, 184.0], [186, 200])\n",
    "print('z = %0.3f, p = %0.3f' %(tval, pval))\n",
    "\n",
    "## Print ethnic composition.\n",
    "ethnicity"
   ]
  },
  {
   "cell_type": "markdown",
   "metadata": {},
   "source": [
    "#### Race composition"
   ]
  },
  {
   "cell_type": "code",
   "execution_count": 7,
   "metadata": {},
   "outputs": [
    {
     "data": {
      "text/html": [
       "<div>\n",
       "<style scoped>\n",
       "    .dataframe tbody tr th:only-of-type {\n",
       "        vertical-align: middle;\n",
       "    }\n",
       "\n",
       "    .dataframe tbody tr th {\n",
       "        vertical-align: top;\n",
       "    }\n",
       "\n",
       "    .dataframe thead tr th {\n",
       "        text-align: left;\n",
       "    }\n",
       "\n",
       "    .dataframe thead tr:last-of-type th {\n",
       "        text-align: right;\n",
       "    }\n",
       "</style>\n",
       "<table border=\"1\" class=\"dataframe\">\n",
       "  <thead>\n",
       "    <tr>\n",
       "      <th>platform</th>\n",
       "      <th colspan=\"2\" halign=\"left\">mturk</th>\n",
       "      <th colspan=\"2\" halign=\"left\">prolific</th>\n",
       "    </tr>\n",
       "    <tr>\n",
       "      <th></th>\n",
       "      <th>subject</th>\n",
       "      <th>%</th>\n",
       "      <th>subject</th>\n",
       "      <th>%</th>\n",
       "    </tr>\n",
       "    <tr>\n",
       "      <th>race_compress</th>\n",
       "      <th></th>\n",
       "      <th></th>\n",
       "      <th></th>\n",
       "      <th></th>\n",
       "    </tr>\n",
       "  </thead>\n",
       "  <tbody>\n",
       "    <tr>\n",
       "      <th>American Indian/Alaska Native</th>\n",
       "      <td>2.0</td>\n",
       "      <td>1.1</td>\n",
       "      <td>2.0</td>\n",
       "      <td>1.0</td>\n",
       "    </tr>\n",
       "    <tr>\n",
       "      <th>Asian</th>\n",
       "      <td>5.0</td>\n",
       "      <td>2.7</td>\n",
       "      <td>53.0</td>\n",
       "      <td>26.5</td>\n",
       "    </tr>\n",
       "    <tr>\n",
       "      <th>Black or African American</th>\n",
       "      <td>21.0</td>\n",
       "      <td>11.3</td>\n",
       "      <td>7.0</td>\n",
       "      <td>3.5</td>\n",
       "    </tr>\n",
       "    <tr>\n",
       "      <th>Multiracial</th>\n",
       "      <td>6.0</td>\n",
       "      <td>3.2</td>\n",
       "      <td>4.0</td>\n",
       "      <td>2.0</td>\n",
       "    </tr>\n",
       "    <tr>\n",
       "      <th>Native Hawaiian or other Pacific Islander</th>\n",
       "      <td>0.0</td>\n",
       "      <td>0.0</td>\n",
       "      <td>1.0</td>\n",
       "      <td>0.5</td>\n",
       "    </tr>\n",
       "    <tr>\n",
       "      <th>Rather not say</th>\n",
       "      <td>1.0</td>\n",
       "      <td>0.5</td>\n",
       "      <td>12.0</td>\n",
       "      <td>6.0</td>\n",
       "    </tr>\n",
       "    <tr>\n",
       "      <th>White</th>\n",
       "      <td>151.0</td>\n",
       "      <td>81.2</td>\n",
       "      <td>121.0</td>\n",
       "      <td>60.5</td>\n",
       "    </tr>\n",
       "  </tbody>\n",
       "</table>\n",
       "</div>"
      ],
      "text/plain": [
       "platform                                    mturk       prolific      \n",
       "                                          subject     %  subject     %\n",
       "race_compress                                                         \n",
       "American Indian/Alaska Native                 2.0   1.1      2.0   1.0\n",
       "Asian                                         5.0   2.7     53.0  26.5\n",
       "Black or African American                    21.0  11.3      7.0   3.5\n",
       "Multiracial                                   6.0   3.2      4.0   2.0\n",
       "Native Hawaiian or other Pacific Islander     0.0   0.0      1.0   0.5\n",
       "Rather not say                                1.0   0.5     12.0   6.0\n",
       "White                                       151.0  81.2    121.0  60.5"
      ]
     },
     "execution_count": 7,
     "metadata": {},
     "output_type": "execute_result"
    }
   ],
   "source": [
    "## Define compression function.\n",
    "f = lambda x: eval(x)[0] if len(eval(x)) == 1 else 'Multiracial'\n",
    "metadata['race_compress'] = metadata.race.apply(f)\n",
    "\n",
    "## Construct pivot table.\n",
    "race = metadata.groupby(['platform','race_compress']).subject.count().reset_index()\n",
    "race['%'] = race.groupby(['platform']).subject.apply(lambda x: x / x.sum()).round(3) * 100\n",
    "race = race.pivot_table(['subject','%'], 'race_compress', 'platform')\n",
    "race = race.reorder_levels([1,0],axis=1).sort_index(axis=1, ascending=[True,False]).fillna(0)\n",
    "\n",
    "## Print racial composition.\n",
    "race"
   ]
  },
  {
   "cell_type": "markdown",
   "metadata": {},
   "source": [
    "#### Platform use"
   ]
  },
  {
   "cell_type": "code",
   "execution_count": 8,
   "metadata": {},
   "outputs": [
    {
     "data": {
      "text/html": [
       "<div>\n",
       "<style scoped>\n",
       "    .dataframe tbody tr th:only-of-type {\n",
       "        vertical-align: middle;\n",
       "    }\n",
       "\n",
       "    .dataframe tbody tr th {\n",
       "        vertical-align: top;\n",
       "    }\n",
       "\n",
       "    .dataframe thead tr th {\n",
       "        text-align: left;\n",
       "    }\n",
       "\n",
       "    .dataframe thead tr:last-of-type th {\n",
       "        text-align: right;\n",
       "    }\n",
       "</style>\n",
       "<table border=\"1\" class=\"dataframe\">\n",
       "  <thead>\n",
       "    <tr>\n",
       "      <th>platform</th>\n",
       "      <th colspan=\"2\" halign=\"left\">mturk</th>\n",
       "      <th colspan=\"2\" halign=\"left\">prolific</th>\n",
       "    </tr>\n",
       "    <tr>\n",
       "      <th></th>\n",
       "      <th>subject</th>\n",
       "      <th>%</th>\n",
       "      <th>subject</th>\n",
       "      <th>%</th>\n",
       "    </tr>\n",
       "    <tr>\n",
       "      <th>other-platform</th>\n",
       "      <th></th>\n",
       "      <th></th>\n",
       "      <th></th>\n",
       "      <th></th>\n",
       "    </tr>\n",
       "  </thead>\n",
       "  <tbody>\n",
       "    <tr>\n",
       "      <th>No</th>\n",
       "      <td>115</td>\n",
       "      <td>61.8</td>\n",
       "      <td>172</td>\n",
       "      <td>86.0</td>\n",
       "    </tr>\n",
       "    <tr>\n",
       "      <th>Yes</th>\n",
       "      <td>71</td>\n",
       "      <td>38.2</td>\n",
       "      <td>28</td>\n",
       "      <td>14.0</td>\n",
       "    </tr>\n",
       "  </tbody>\n",
       "</table>\n",
       "</div>"
      ],
      "text/plain": [
       "platform         mturk       prolific      \n",
       "               subject     %  subject     %\n",
       "other-platform                             \n",
       "No                 115  61.8      172  86.0\n",
       "Yes                 71  38.2       28  14.0"
      ]
     },
     "execution_count": 8,
     "metadata": {},
     "output_type": "execute_result"
    }
   ],
   "source": [
    "## Construct pivot table.\n",
    "platform = metadata.groupby(['platform','other-platform']).subject.count().reset_index()\n",
    "platform['%'] = platform.groupby(['platform']).subject.apply(lambda x: x / x.sum()).round(3) * 100\n",
    "platform = platform.pivot_table(['subject','%'], 'other-platform', 'platform')\n",
    "platform = platform.reorder_levels([1,0],axis=1).sort_index(axis=1, ascending=[True,False]).fillna(0)\n",
    "\n",
    "## Print other platform use.\n",
    "platform"
   ]
  }
 ],
 "metadata": {
  "kernelspec": {
   "display_name": "Python 3",
   "language": "python",
   "name": "python3"
  },
  "language_info": {
   "codemirror_mode": {
    "name": "ipython",
    "version": 3
   },
   "file_extension": ".py",
   "mimetype": "text/x-python",
   "name": "python",
   "nbconvert_exporter": "python",
   "pygments_lexer": "ipython3",
   "version": "3.9.12"
  }
 },
 "nbformat": 4,
 "nbformat_minor": 4
}
