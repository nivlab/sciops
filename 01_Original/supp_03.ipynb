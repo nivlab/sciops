{
 "cells": [
  {
   "cell_type": "code",
   "execution_count": 1,
   "id": "68e5db1b-2b57-4d4d-82ea-93b13b5ad34a",
   "metadata": {},
   "outputs": [],
   "source": [
    "import os\n",
    "import numpy as np\n",
    "from pandas import read_csv\n",
    "from tqdm import tqdm"
   ]
  },
  {
   "cell_type": "markdown",
   "id": "0d49fa96-5986-44b3-865a-ea93a8ed5137",
   "metadata": {},
   "source": [
    "## Section 1: Task performance metrics"
   ]
  },
  {
   "cell_type": "markdown",
   "id": "bcbb08d8-328f-42f8-9714-6a8de1b6aad4",
   "metadata": {},
   "source": [
    "### 1.1 Compute permutation statistics"
   ]
  },
  {
   "cell_type": "code",
   "execution_count": 2,
   "id": "7fba4f39-36b9-46e8-840f-eee125364a26",
   "metadata": {},
   "outputs": [
    {
     "name": "stderr",
     "output_type": "stream",
     "text": [
      "100%|██████████| 5000/5000 [00:45<00:00, 111.06it/s]\n"
     ]
    }
   ],
   "source": [
    "from scipy.stats import ttest_ind\n",
    "np.random.seed(47404)\n",
    "\n",
    "#~~~~~~~~~~~~~~~~~~~~~~~~~~~~~~~~~~~~~~~~~~#\n",
    "### Define parameters.\n",
    "#~~~~~~~~~~~~~~~~~~~~~~~~~~~~~~~~~~~~~~~~~~#\n",
    "\n",
    "## Define variables of interest.\n",
    "cols = ['accuracy','points','ws','ls','perseveration','beta','eta_p','eta_n','kappa']\n",
    "\n",
    "## Define number of bootstraps.\n",
    "n_iter = 5000\n",
    "\n",
    "#~~~~~~~~~~~~~~~~~~~~~~~~~~~~~~~~~~~~~~~~~~#\n",
    "### Permutation statistics.\n",
    "#~~~~~~~~~~~~~~~~~~~~~~~~~~~~~~~~~~~~~~~~~~#\n",
    "\n",
    "## Load and prepare data.\n",
    "metrics = read_csv(os.path.join('data', 'metrics.csv'))\n",
    "correlates = read_csv(os.path.join('data', 'correlates.csv'))\n",
    "\n",
    "## Merge DataFrames.\n",
    "data = correlates.merge(metrics[['subject','platform','infreq']])\n",
    "data = data.set_index('infreq')\n",
    "\n",
    "## Binarize infrequency failures.\n",
    "data.index = np.where(data.index > 0, 1, 0)\n",
    "\n",
    "## Restrict to relevant columns.\n",
    "data = data[cols]\n",
    "\n",
    "## Compute means by group.\n",
    "gb = data.groupby(level=0).mean().T\n",
    "mu = (gb[0] - gb[1]).values\n",
    "\n",
    "## Compute observed statistics.\n",
    "t_obs = np.zeros(len(data.columns))\n",
    "for i, col in enumerate(data.columns):\n",
    "    t_obs[i], _ = ttest_ind(data.loc[0, col], data.loc[1, col])\n",
    "    \n",
    "## Compute null statistics.\n",
    "t_null = np.zeros((n_iter, t_obs.size))\n",
    "for n in tqdm(range(n_iter)):\n",
    "    \n",
    "    ## Permute labels.\n",
    "    data.index = np.random.permutation(data.index)\n",
    "    \n",
    "    ## Compute null statistics.\n",
    "    for i, col in enumerate(data.columns):\n",
    "        t_null[n,i], _ = ttest_ind(data.loc[0, col], data.loc[1, col])\n",
    "        \n",
    "## Compute p-values.\n",
    "p_val = np.mean(np.abs(t_obs) < np.abs(t_null), axis=0)\n",
    "\n",
    "## Compute effect sizes.\n",
    "d_val = t_obs * np.sqrt(np.sum(1 / data.index.value_counts()))\n",
    "\n",
    "## Compute confidence interval. \n",
    "lb = mu - 1.96 * (mu / t_obs)\n",
    "ub = mu + 1.96 * (mu / t_obs)\n",
    "\n",
    "## Add to table.\n",
    "gb['tval'] = t_obs; gb['pval'] = p_val; gb['dval'] = d_val\n",
    "gb['lb'] = lb; gb['ub'] = ub"
   ]
  },
  {
   "cell_type": "markdown",
   "id": "95b3eac6-9bc9-42a2-a118-3cf891fc9b69",
   "metadata": {},
   "source": [
    "### 1.2 Supplementary tables"
   ]
  },
  {
   "cell_type": "code",
   "execution_count": 3,
   "id": "85596ed2-a5c3-4152-8058-a3468cac6641",
   "metadata": {},
   "outputs": [
    {
     "name": "stdout",
     "output_type": "stream",
     "text": [
      "\\begin{tabular}{lrrrrrl}\n",
      "\\toprule\n",
      "{} &  Attentive &    C/IE &   tval &   pval &   dval &            95\\% CI \\\\\n",
      "\\midrule\n",
      "Acc      &      0.587 &   0.532 &  4.008 &  0.000 &  0.492 &    [0.028, 0.082] \\\\\n",
      "Pts      &     50.163 &  47.729 &  2.376 &  0.019 &  0.292 &    [0.426, 4.441] \\\\\n",
      "WS       &      0.898 &   0.776 &  5.387 &  0.000 &  0.662 &    [0.077, 0.165] \\\\\n",
      "LS       &      0.609 &   0.751 & -5.335 &  0.000 & -0.655 &  [-0.195, -0.090] \\\\\n",
      "Pers     &      0.245 &   0.259 & -1.505 &  0.139 & -0.185 &   [-0.033, 0.004] \\\\\n",
      "\\$\\textbackslash beta\\$  &      6.754 &   4.082 &  5.404 &  0.000 &  0.664 &    [1.702, 3.640] \\\\\n",
      "\\$\\textbackslash eta\\_p\\$ &      0.643 &   0.551 &  2.846 &  0.007 &  0.350 &    [0.029, 0.157] \\\\\n",
      "\\$\\textbackslash eta\\_n\\$ &      0.738 &   0.784 & -1.516 &  0.120 & -0.186 &   [-0.106, 0.013] \\\\\n",
      "\\$\\textbackslash kappa\\$ &     -0.069 &  -0.218 &  3.729 &  0.000 &  0.458 &    [0.071, 0.227] \\\\\n",
      "\\bottomrule\n",
      "\\end{tabular}\n",
      "\n"
     ]
    },
    {
     "name": "stderr",
     "output_type": "stream",
     "text": [
      "<ipython-input-3-878cd200d3d3>:12: FutureWarning: In future versions `DataFrame.to_latex` is expected to utilise the base implementation of `Styler.to_latex` for formatting and rendering. The arguments signature may therefore change. It is recommended instead to use `DataFrame.style.to_latex` which also contains additional functionality.\n",
      "  print(gb.round(3).to_latex())\n"
     ]
    }
   ],
   "source": [
    "## Update columns.\n",
    "gb = gb.rename(columns={0: 'Attentive', 1:'C/IE'})\n",
    "gb['95% CI'] = gb.apply(lambda x: '[%0.3f, %0.3f]' %(x.lb, x.ub), 1)\n",
    "gb = gb.drop(columns=['lb','ub'])\n",
    "\n",
    "## Update rows.\n",
    "gb = gb.rename(index={'accuracy': 'Acc', 'points': 'Pts', 'ws': 'WS', 'ls': 'LS',\n",
    "                      'perseveration': 'Pers', 'beta': r'$\\beta$', 'eta_p': r'$\\eta_p$', \n",
    "                      'eta_n': r'$\\eta_n$', 'kappa': r'$\\kappa$'})\n",
    "\n",
    "## Convert to LaTeX.\n",
    "print(gb.round(3).to_latex())"
   ]
  }
 ],
 "metadata": {
  "kernelspec": {
   "display_name": "Python 3",
   "language": "python",
   "name": "python3"
  },
  "language_info": {
   "codemirror_mode": {
    "name": "ipython",
    "version": 3
   },
   "file_extension": ".py",
   "mimetype": "text/x-python",
   "name": "python",
   "nbconvert_exporter": "python",
   "pygments_lexer": "ipython3",
   "version": "3.9.12"
  }
 },
 "nbformat": 4,
 "nbformat_minor": 5
}
